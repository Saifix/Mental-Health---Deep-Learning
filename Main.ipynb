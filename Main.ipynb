{
 "cells": [
  {
   "cell_type": "markdown",
   "metadata": {},
   "source": [
    "# Data Preprocessing\n"
   ]
  },
  {
   "cell_type": "markdown",
   "metadata": {},
   "source": [
    "##### Downloading dataset\n"
   ]
  },
  {
   "cell_type": "code",
   "execution_count": 2,
   "metadata": {},
   "outputs": [
    {
     "name": "stdout",
     "output_type": "stream",
     "text": [
      "Skipping, found downloaded files in \".\\student-mental-health\" (use force=True to force download)\n"
     ]
    },
    {
     "data": {
      "text/html": [
       "<div>\n",
       "<style scoped>\n",
       "    .dataframe tbody tr th:only-of-type {\n",
       "        vertical-align: middle;\n",
       "    }\n",
       "\n",
       "    .dataframe tbody tr th {\n",
       "        vertical-align: top;\n",
       "    }\n",
       "\n",
       "    .dataframe thead th {\n",
       "        text-align: right;\n",
       "    }\n",
       "</style>\n",
       "<table border=\"1\" class=\"dataframe\">\n",
       "  <thead>\n",
       "    <tr style=\"text-align: right;\">\n",
       "      <th></th>\n",
       "      <th>Timestamp</th>\n",
       "      <th>Choose your gender</th>\n",
       "      <th>Age</th>\n",
       "      <th>What is your course?</th>\n",
       "      <th>Your current year of Study</th>\n",
       "      <th>What is your CGPA?</th>\n",
       "      <th>Marital status</th>\n",
       "      <th>Do you have Depression?</th>\n",
       "      <th>Do you have Anxiety?</th>\n",
       "      <th>Do you have Panic attack?</th>\n",
       "      <th>Did you seek any specialist for a treatment?</th>\n",
       "    </tr>\n",
       "  </thead>\n",
       "  <tbody>\n",
       "    <tr>\n",
       "      <th>0</th>\n",
       "      <td>08/07/2020 12:02</td>\n",
       "      <td>Female</td>\n",
       "      <td>18.0</td>\n",
       "      <td>Engineering</td>\n",
       "      <td>year 1</td>\n",
       "      <td>3.00 - 3.49</td>\n",
       "      <td>No</td>\n",
       "      <td>Yes</td>\n",
       "      <td>No</td>\n",
       "      <td>Yes</td>\n",
       "      <td>No</td>\n",
       "    </tr>\n",
       "    <tr>\n",
       "      <th>1</th>\n",
       "      <td>08/07/2020 12:04</td>\n",
       "      <td>Male</td>\n",
       "      <td>21.0</td>\n",
       "      <td>Islamic education</td>\n",
       "      <td>year 2</td>\n",
       "      <td>3.00 - 3.49</td>\n",
       "      <td>No</td>\n",
       "      <td>No</td>\n",
       "      <td>Yes</td>\n",
       "      <td>No</td>\n",
       "      <td>No</td>\n",
       "    </tr>\n",
       "    <tr>\n",
       "      <th>2</th>\n",
       "      <td>08/07/2020 12:05</td>\n",
       "      <td>Male</td>\n",
       "      <td>19.0</td>\n",
       "      <td>BIT</td>\n",
       "      <td>Year 1</td>\n",
       "      <td>3.00 - 3.49</td>\n",
       "      <td>No</td>\n",
       "      <td>Yes</td>\n",
       "      <td>Yes</td>\n",
       "      <td>Yes</td>\n",
       "      <td>No</td>\n",
       "    </tr>\n",
       "    <tr>\n",
       "      <th>3</th>\n",
       "      <td>08/07/2020 12:06</td>\n",
       "      <td>Female</td>\n",
       "      <td>22.0</td>\n",
       "      <td>Laws</td>\n",
       "      <td>year 3</td>\n",
       "      <td>3.00 - 3.49</td>\n",
       "      <td>Yes</td>\n",
       "      <td>Yes</td>\n",
       "      <td>No</td>\n",
       "      <td>No</td>\n",
       "      <td>No</td>\n",
       "    </tr>\n",
       "    <tr>\n",
       "      <th>4</th>\n",
       "      <td>08/07/2020 12:13</td>\n",
       "      <td>Male</td>\n",
       "      <td>23.0</td>\n",
       "      <td>Mathemathics</td>\n",
       "      <td>year 4</td>\n",
       "      <td>3.00 - 3.49</td>\n",
       "      <td>No</td>\n",
       "      <td>No</td>\n",
       "      <td>No</td>\n",
       "      <td>No</td>\n",
       "      <td>No</td>\n",
       "    </tr>\n",
       "  </tbody>\n",
       "</table>\n",
       "</div>"
      ],
      "text/plain": [
       "          Timestamp Choose your gender   Age What is your course?  \\\n",
       "0  08/07/2020 12:02             Female  18.0          Engineering   \n",
       "1  08/07/2020 12:04               Male  21.0    Islamic education   \n",
       "2  08/07/2020 12:05               Male  19.0                  BIT   \n",
       "3  08/07/2020 12:06             Female  22.0                 Laws   \n",
       "4  08/07/2020 12:13               Male  23.0         Mathemathics   \n",
       "\n",
       "  Your current year of Study What is your CGPA? Marital status  \\\n",
       "0                     year 1        3.00 - 3.49             No   \n",
       "1                     year 2        3.00 - 3.49             No   \n",
       "2                     Year 1        3.00 - 3.49             No   \n",
       "3                     year 3        3.00 - 3.49            Yes   \n",
       "4                     year 4        3.00 - 3.49             No   \n",
       "\n",
       "  Do you have Depression? Do you have Anxiety? Do you have Panic attack?  \\\n",
       "0                     Yes                   No                       Yes   \n",
       "1                      No                  Yes                        No   \n",
       "2                     Yes                  Yes                       Yes   \n",
       "3                     Yes                   No                        No   \n",
       "4                      No                   No                        No   \n",
       "\n",
       "  Did you seek any specialist for a treatment?  \n",
       "0                                           No  \n",
       "1                                           No  \n",
       "2                                           No  \n",
       "3                                           No  \n",
       "4                                           No  "
      ]
     },
     "execution_count": 2,
     "metadata": {},
     "output_type": "execute_result"
    }
   ],
   "source": [
    "import opendatasets as od\n",
    "import pandas as pd\n",
    "\n",
    "od.download(\n",
    "    'https://www.kaggle.com/datasets/shariful07/student-mental-health/data')\n",
    "\n",
    "dataset = pd.read_csv(\"student-mental-health\\\\Student Mental health.csv\")\n",
    "dataset.head()"
   ]
  },
  {
   "cell_type": "code",
   "execution_count": 3,
   "metadata": {},
   "outputs": [],
   "source": [
    "# Dropping timestamp column\n",
    "dataset = dataset.drop(\"Timestamp\", axis=1)"
   ]
  },
  {
   "cell_type": "code",
   "execution_count": 4,
   "metadata": {},
   "outputs": [],
   "source": [
    "# Processing gender column\n",
    "from sklearn.preprocessing import LabelEncoder\n",
    "label_encoder = LabelEncoder()\n",
    "# Filling empty cells with value \"Female\"\n",
    "dataset['Choose your gender'].fillna('Female', inplace=True)\n",
    "dataset['Choose your gender'] = label_encoder.fit_transform(\n",
    "    dataset['Choose your gender'])"
   ]
  },
  {
   "cell_type": "code",
   "execution_count": 5,
   "metadata": {},
   "outputs": [],
   "source": [
    "# Processing age column\n",
    "mean_age = dataset['Age'].mean()\n",
    "dataset['Age'].fillna(mean_age, inplace=True)\n",
    "# Round the mean value to the nearest integer (optional)\n",
    "mean_age = round(mean_age)\n",
    "# Convert the 'Age' column to integers\n",
    "dataset['Age'] = dataset['Age'].astype(int)"
   ]
  },
  {
   "cell_type": "code",
   "execution_count": 6,
   "metadata": {},
   "outputs": [
    {
     "name": "stdout",
     "output_type": "stream",
     "text": [
      "Engineering and Technology\n",
      "Religious Studies\n",
      "Computer and Information Sciences\n",
      "Waiting for 60 seconds...\n",
      "Law\n",
      "Mathematics and Statistics\n",
      "Engineering and Technology\n",
      "Waiting for 60 seconds...\n",
      "Religious Studies\n",
      "Computer and Information Sciences\n",
      "Business and Economics\n",
      "Waiting for 60 seconds...\n",
      "Interdisciplinary Studies\n",
      "Social Sciences\n",
      "Engineering and Technology\n",
      "Waiting for 60 seconds...\n",
      "Computer and Information Sciences\n",
      "Engineering and Technology\n",
      "Engineering and Technology\n",
      "Waiting for 60 seconds...\n",
      "Computer and Information Sciences\n",
      "Business and Economics\n",
      "Engineering and Technology\n",
      "Waiting for 60 seconds...\n",
      "Computer and Information Sciences\n",
      "Agriculture and Environmental Studies\n",
      "Engineering and Technology\n",
      "Waiting for 60 seconds...\n",
      "Engineering and Technology\n",
      "Computer and Information Sciences\n",
      "Engineering and Technology\n",
      "Waiting for 60 seconds...\n",
      "Computer and Information Sciences\n",
      "Business and Economics\n",
      "Engineering and Technology\n",
      "Waiting for 60 seconds...\n",
      "Engineering and Technology\n",
      "Computer and Information Sciences\n",
      "Computer and Information Sciences\n",
      "Waiting for 60 seconds...\n",
      "Business and Economics\n",
      "Computer and Information Sciences\n",
      "Computer and Information Sciences\n",
      "Waiting for 60 seconds...\n",
      "Computer and Information Sciences\n",
      "Interdisciplinary and General Education\n",
      "Engineering and Technology\n",
      "Waiting for 60 seconds...\n",
      "Law\n",
      "Computer and Information Sciences\n",
      "Arts and Humanities\n",
      "Waiting for 60 seconds...\n",
      "Engineering and Technology\n",
      "Computer and Information Sciences\n",
      "Engineering and Technology\n",
      "Waiting for 60 seconds...\n",
      "Religious Studies\n",
      "Computer and Information Sciences\n",
      "Interdisciplinary and General Education\n",
      "Waiting for 60 seconds...\n",
      "Computer and Information Sciences\n",
      "Engineering and Technology\n",
      "Engineering and Technology\n",
      "Waiting for 60 seconds...\n",
      "Computer and Information Sciences\n",
      "Computer and Information Sciences\n",
      "Arts and Humanities\n",
      "Waiting for 60 seconds...\n",
      "Computer and Information Sciences\n",
      "Health Sciences\n",
      "Arts and Humanities\n",
      "Waiting for 60 seconds...\n",
      "Computer and Information Sciences\n",
      "Computer and Information Sciences\n",
      "Arts and Humanities\n",
      "Waiting for 60 seconds...\n",
      "Agriculture and Environmental Studies\n",
      "Computer and Information Sciences\n",
      "Business and Economics\n",
      "Waiting for 60 seconds...\n",
      "Computer and Information Sciences\n",
      "Computer and Information Sciences\n",
      "Engineering and Technology\n",
      "Waiting for 60 seconds...\n",
      "Engineering and Technology\n",
      "Engineering and Technology\n",
      "Business and Economics\n",
      "Waiting for 60 seconds...\n",
      "Computer and Information Sciences\n",
      "Health Sciences\n",
      "Engineering and Technology\n",
      "Waiting for 60 seconds...\n",
      "Computer and Information Sciences\n",
      "Health Sciences\n",
      "Law\n",
      "Waiting for 60 seconds...\n",
      "Computer and Information Sciences\n",
      "Health Sciences\n",
      "Computer and Information Sciences\n",
      "Waiting for 60 seconds...\n",
      "Engineering and Technology\n",
      "Engineering and Technology\n",
      "Social Sciences\n",
      "Waiting for 60 seconds...\n",
      "Engineering and Technology\n",
      "Engineering and Technology\n",
      "Communication and Media\n",
      "Waiting for 60 seconds...\n",
      "Health Sciences\n",
      "Engineering and Technology\n",
      "Religious Studies\n",
      "Waiting for 60 seconds...\n",
      "Health Sciences\n",
      "Social Sciences\n",
      "Religious Studies\n",
      "Waiting for 60 seconds...\n",
      "Social Sciences\n",
      "Computer and Information Sciences\n",
      "Engineering and Technology\n",
      "Waiting for 60 seconds...\n",
      "Arts and Humanities\n",
      "Interdisciplinary and General Education\n",
      "Engineering and Technology\n",
      "Waiting for 60 seconds...\n",
      "Arts and Humanities\n",
      "Religious Studies\n",
      "Religious Studies\n",
      "Waiting for 60 seconds...\n",
      "Computer and Information Sciences\n",
      "Engineering and Technology\n",
      "Health Sciences\n",
      "Waiting for 60 seconds...\n",
      "Religious Studies\n",
      "Health Sciences\n"
     ]
    }
   ],
   "source": [
    "# Processing course column\n",
    "\n",
    "import openai\n",
    "import time\n",
    "\n",
    "# Set your OpenAI GPT-3 API key\n",
    "openai.api_key = ''\n",
    "\n",
    "\n",
    "def categorize_course_with_gpt3(course):\n",
    "    # Construct a prompt for GPT-3 to perform a web search\n",
    "    prompt = f\"Select the field of this course {course} from these given fields. Do not reply anything else than the given feilds. Reply only the strings of field:\\n\" \\\n",
    "             \"Arts and Humanities\\n\" \\\n",
    "             \"Social Sciences\\n\" \\\n",
    "             \"Natural Sciences\\n\" \\\n",
    "             \"Engineering and Technology\\n\" \\\n",
    "             \"Health Sciences\\n\" \\\n",
    "             \"Business and Economics\\n\" \\\n",
    "             \"Law\\n\" \\\n",
    "             \"Religious Studies\\n\" \\\n",
    "             \"Agriculture and Environmental Studies\\n\" \\\n",
    "             \"Interdisciplinary Studies\\n\" \\\n",
    "             \"Communication and Media\\n\" \\\n",
    "             \"Computer and Information Sciences\\n\" \\\n",
    "             \"Physical Education and Sports Sciences\\n\" \\\n",
    "             \"Mathematics and Statistics\\n\" \\\n",
    "             \"Public Policy and Administration\\n\" \\\n",
    "             \"Interdisciplinary and General Education\\n\"\n",
    "\n",
    "    # Make an API call to GPT-3 using the chat completion endpoint\n",
    "    response = openai.ChatCompletion.create(\n",
    "        model=\"gpt-3.5-turbo\",\n",
    "        messages=[\n",
    "            {\"role\": \"system\", \"content\": \"You are a helpful assistant.\"},\n",
    "            {\"role\": \"user\", \"content\": prompt}\n",
    "        ],\n",
    "        max_tokens=150  # Adjust as needed\n",
    "    )\n",
    "    return response[\"choices\"][0][\"message\"][\"content\"]\n",
    "\n",
    "\n",
    "# Set the rate limit variables\n",
    "requests_limit = 3\n",
    "wait_time = 60\n",
    "\n",
    "# Iterate over the DataFrame and update values\n",
    "for index, row in dataset.iterrows():\n",
    "    current_value = row['What is your course?']\n",
    "    if pd.notna(current_value):\n",
    "        updated_value = categorize_course_with_gpt3(current_value)\n",
    "        dataset.at[index, 'What is your course?'] = updated_value\n",
    "        print(updated_value)\n",
    "    else:\n",
    "        dataset.at[index, 'What is your course?'] = \"General Studies\"\n",
    "        print(\"General Studies\")\n",
    "\n",
    "    # Check if 3 requests have been made and introduce a wait\n",
    "    if (index + 1) % requests_limit == 0 and index != 0:\n",
    "        print(f\"Waiting for {wait_time} seconds...\")\n",
    "        time.sleep(wait_time)"
   ]
  },
  {
   "cell_type": "code",
   "execution_count": 15,
   "metadata": {},
   "outputs": [],
   "source": [
    "# Processing course column -- continue\n",
    "\n",
    "dataset['What is your course?'] = label_encoder.fit_transform(\n",
    "    dataset['What is your course?'])"
   ]
  },
  {
   "cell_type": "code",
   "execution_count": 59,
   "metadata": {},
   "outputs": [],
   "source": [
    "# Processing Your current year of Study column\n",
    "\n",
    "label_mapping_year = {\n",
    "    \"year 1\": 0,\n",
    "    \"year 2\": 1,\n",
    "    \"year 3\": 2,\n",
    "    \"year 4\": 3\n",
    "}\n",
    "\n",
    "# Clean up column values by converting to lowercase and removing leading and trailing spaces\n",
    "dataset['Your current year of Study'] = dataset['Your current year of Study'].str.lower().str.strip()\n",
    "\n",
    "# Apply label encoding using a for loop with a check for matching characters\n",
    "dataset['Your current year of Study'] = [next((label_mapping_year[label] for label in label_mapping_year if all(char in year for char in label)), None) for year in dataset['Your current year of Study']]\n"
   ]
  },
  {
   "cell_type": "code",
   "execution_count": null,
   "metadata": {},
   "outputs": [],
   "source": [
    "# Processing course CGPA column\n",
    "\n",
    "label_mapping = {\n",
    "    \"0-1.99\": 0,\n",
    "    \"2.00-2.49\": 1,\n",
    "    \"2.50-2.99\": 2,\n",
    "    \"3.00-3.49\": 3,\n",
    "    \"3.5-4.00\": 4\n",
    "}\n",
    "\n",
    "# Clean up column values by removing leading and trailing spaces\n",
    "dataset['What is your CGPA?'] = dataset['What is your CGPA?'].str.strip()\n",
    "\n",
    "# Apply label encoding using a for loop with a check for matching characters\n",
    "dataset['What is your CGPA?'] = [next((label_mapping[label] for label in label_mapping if all(\n",
    "    char in cgpa for char in label)), None) for cgpa in dataset['What is your CGPA?']]"
   ]
  },
  {
   "cell_type": "code",
   "execution_count": 44,
   "metadata": {},
   "outputs": [],
   "source": [
    "# Processing martial status column\n",
    "\n",
    "dataset['Marital status'] = label_encoder.fit_transform(\n",
    "    dataset['Marital status'])"
   ]
  },
  {
   "cell_type": "code",
   "execution_count": 46,
   "metadata": {},
   "outputs": [],
   "source": [
    "# Processing Do you have Depression? column\n",
    "\n",
    "dataset['Do you have Depression?'] = label_encoder.fit_transform(\n",
    "    dataset['Do you have Depression?'])"
   ]
  },
  {
   "cell_type": "code",
   "execution_count": 48,
   "metadata": {},
   "outputs": [],
   "source": [
    "# Processing Do you have Anxiety? column\n",
    "\n",
    "dataset['Do you have Anxiety?'] = label_encoder.fit_transform(\n",
    "    dataset['Do you have Anxiety?'])"
   ]
  },
  {
   "cell_type": "code",
   "execution_count": 50,
   "metadata": {},
   "outputs": [],
   "source": [
    "# Processing Do you have Panic attack? column\n",
    "\n",
    "dataset['Do you have Panic attack?'] = label_encoder.fit_transform(\n",
    "    dataset['Do you have Panic attack?'])"
   ]
  },
  {
   "cell_type": "code",
   "execution_count": 52,
   "metadata": {},
   "outputs": [],
   "source": [
    "# Processing Did you seek any specialist for a treatment? column\n",
    "\n",
    "dataset['Did you seek any specialist for a treatment?'] = label_encoder.fit_transform(\n",
    "    dataset['Did you seek any specialist for a treatment?'])"
   ]
  },
  {
   "cell_type": "code",
   "execution_count": 4,
   "metadata": {},
   "outputs": [
    {
     "data": {
      "text/plain": [
       "<seaborn.axisgrid.PairGrid at 0x1d70d51c4f0>"
      ]
     },
     "execution_count": 4,
     "metadata": {},
     "output_type": "execute_result"
    },
    {
     "data": {
      "image/png": "[encoded data removed]",
      "text/plain": [
       "<Figure size 2500x2500 with 110 Axes>"
      ]
     },
     "metadata": {},
     "output_type": "display_data"
    }
   ],
   "source": [
    "import seaborn as sns\n",
    "import pandas as pd\n",
    "\n",
    "dataset = pd.read_csv(\"new_file.csv\")\n",
    "sns.pairplot(dataset)"
   ]
  },
  {
   "cell_type": "code",
   "execution_count": 28,
   "metadata": {},
   "outputs": [
    {
     "data": {
      "application/vnd.plotly.v1+json": {
       "config": {
        "plotlyServerURL": "https://plot.ly"
       },
       "data": [
        {
         "alignmentgroup": "True",
         "hovertemplate": "What is your CGPA?=%{x}<br>Choose your gender=%{y}<br>Do you have Depression?=%{marker.color}<extra></extra>",
         "legendgroup": "",
         "marker": {
          "color": [
           0,
           0,
           0,
           0,
           0,
           0,
           1,
           0,
           1,
           1,
           0,
           0,
           0,
           1,
           0,
           1,
           0,
           0,
           0,
           1,
           1,
           0,
           0,
           0,
           1,
           1,
           1,
           1,
           0,
           1,
           1,
           0,
           0,
           0,
           0,
           1,
           1,
           0,
           0,
           1,
           0,
           0,
           0,
           1,
           0,
           1,
           1,
           0,
           0,
           1,
           0,
           1,
           1,
           1,
           0,
           0,
           0,
           0,
           0,
           0,
           0,
           0,
           0,
           0,
           0,
           0,
           0,
           0,
           1,
           1,
           0,
           0,
           1,
           0,
           1,
           0,
           0,
           0,
           0,
           1,
           1,
           0,
           1,
           1,
           0,
           0,
           0,
           0,
           1,
           0,
           0,
           0,
           0,
           0,
           0,
           0,
           0,
           1,
           1,
           1,
           0
          ],
          "coloraxis": "coloraxis",
          "pattern": {
           "shape": ""
          }
         },
         "name": "",
         "offsetgroup": "",
         "orientation": "h",
         "showlegend": false,
         "textposition": "auto",
         "type": "bar",
         "x": [
          0,
          0,
          0,
          0,
          1,
          1,
          2,
          2,
          2,
          2,
          3,
          3,
          3,
          3,
          3,
          3,
          3,
          3,
          3,
          3,
          3,
          3,
          3,
          3,
          3,
          3,
          3,
          3,
          3,
          3,
          3,
          3,
          3,
          3,
          3,
          3,
          3,
          3,
          3,
          3,
          3,
          3,
          3,
          3,
          3,
          3,
          3,
          3,
          3,
          3,
          3,
          3,
          3,
          4,
          4,
          4,
          4,
          4,
          4,
          4,
          4,
          4,
          4,
          4,
          4,
          4,
          4,
          4,
          4,
          4,
          4,
          4,
          4,
          4,
          4,
          4,
          4,
          4,
          4,
          4,
          4,
          4,
          4,
          4,
          4,
          4,
          4,
          4,
          4,
          4,
          4,
          4,
          4,
          4,
          4,
          4,
          4,
          4,
          4,
          4,
          4
         ],
         "xaxis": "x",
         "y": [
          1,
          1,
          0,
          0,
          0,
          1,
          0,
          0,
          0,
          0,
          0,
          0,
          1,
          0,
          0,
          0,
          0,
          0,
          0,
          1,
          0,
          0,
          1,
          0,
          0,
          0,
          0,
          0,
          1,
          0,
          1,
          0,
          0,
          1,
          0,
          1,
          0,
          0,
          0,
          0,
          1,
          1,
          1,
          1,
          1,
          0,
          0,
          0,
          0,
          0,
          1,
          0,
          1,
          0,
          1,
          0,
          0,
          0,
          0,
          0,
          1,
          0,
          0,
          1,
          0,
          1,
          0,
          0,
          0,
          0,
          1,
          0,
          0,
          0,
          0,
          0,
          0,
          0,
          0,
          0,
          1,
          0,
          0,
          0,
          0,
          1,
          0,
          0,
          0,
          0,
          1,
          0,
          0,
          0,
          0,
          0,
          1,
          0,
          0,
          0,
          0
         ],
         "yaxis": "y"
        }
       ],
       "layout": {
        "barmode": "relative",
        "coloraxis": {
         "colorbar": {
          "title": {
           "text": "Do you have Depression?"
          }
         },
         "colorscale": [
          [
           0,
           "#0d0887"
          ],
          [
           0.1111111111111111,
           "#46039f"
          ],
          [
           0.2222222222222222,
           "#7201a8"
          ],
          [
           0.3333333333333333,
           "#9c179e"
          ],
          [
           0.4444444444444444,
           "#bd3786"
          ],
          [
           0.5555555555555556,
           "#d8576b"
          ],
          [
           0.6666666666666666,
           "#ed7953"
          ],
          [
           0.7777777777777778,
           "#fb9f3a"
          ],
          [
           0.8888888888888888,
           "#fdca26"
          ],
          [
           1,
           "#f0f921"
          ]
         ]
        },
        "legend": {
         "tracegroupgap": 0
        },
        "margin": {
         "t": 60
        },
        "template": {
         "data": {
          "bar": [
           {
            "error_x": {
             "color": "#2a3f5f"
            },
            "error_y": {
             "color": "#2a3f5f"
            },
            "marker": {
             "line": {
              "color": "#E5ECF6",
              "width": 0.5
             },
             "pattern": {
              "fillmode": "overlay",
              "size": 10,
              "solidity": 0.2
             }
            },
            "type": "bar"
           }
          ],
          "barpolar": [
           {
            "marker": {
             "line": {
              "color": "#E5ECF6",
              "width": 0.5
             },
             "pattern": {
              "fillmode": "overlay",
              "size": 10,
              "solidity": 0.2
             }
            },
            "type": "barpolar"
           }
          ],
          "carpet": [
           {
            "aaxis": {
             "endlinecolor": "#2a3f5f",
             "gridcolor": "white",
             "linecolor": "white",
             "minorgridcolor": "white",
             "startlinecolor": "#2a3f5f"
            },
            "baxis": {
             "endlinecolor": "#2a3f5f",
             "gridcolor": "white",
             "linecolor": "white",
             "minorgridcolor": "white",
             "startlinecolor": "#2a3f5f"
            },
            "type": "carpet"
           }
          ],
          "choropleth": [
           {
            "colorbar": {
             "outlinewidth": 0,
             "ticks": ""
            },
            "type": "choropleth"
           }
          ],
          "contour": [
           {
            "colorbar": {
             "outlinewidth": 0,
             "ticks": ""
            },
            "colorscale": [
             [
              0,
              "#0d0887"
             ],
             [
              0.1111111111111111,
              "#46039f"
             ],
             [
              0.2222222222222222,
              "#7201a8"
             ],
             [
              0.3333333333333333,
              "#9c179e"
             ],
             [
              0.4444444444444444,
              "#bd3786"
             ],
             [
              0.5555555555555556,
              "#d8576b"
             ],
             [
              0.6666666666666666,
              "#ed7953"
             ],
             [
              0.7777777777777778,
              "#fb9f3a"
             ],
             [
              0.8888888888888888,
              "#fdca26"
             ],
             [
              1,
              "#f0f921"
             ]
            ],
            "type": "contour"
           }
          ],
          "contourcarpet": [
           {
            "colorbar": {
             "outlinewidth": 0,
             "ticks": ""
            },
            "type": "contourcarpet"
           }
          ],
          "heatmap": [
           {
            "colorbar": {
             "outlinewidth": 0,
             "ticks": ""
            },
            "colorscale": [
             [
              0,
              "#0d0887"
             ],
             [
              0.1111111111111111,
              "#46039f"
             ],
             [
              0.2222222222222222,
              "#7201a8"
             ],
             [
              0.3333333333333333,
              "#9c179e"
             ],
             [
              0.4444444444444444,
              "#bd3786"
             ],
             [
              0.5555555555555556,
              "#d8576b"
             ],
             [
              0.6666666666666666,
              "#ed7953"
             ],
             [
              0.7777777777777778,
              "#fb9f3a"
             ],
             [
              0.8888888888888888,
              "#fdca26"
             ],
             [
              1,
              "#f0f921"
             ]
            ],
            "type": "heatmap"
           }
          ],
          "heatmapgl": [
           {
            "colorbar": {
             "outlinewidth": 0,
             "ticks": ""
            },
            "colorscale": [
             [
              0,
              "#0d0887"
             ],
             [
              0.1111111111111111,
              "#46039f"
             ],
             [
              0.2222222222222222,
              "#7201a8"
             ],
             [
              0.3333333333333333,
              "#9c179e"
             ],
             [
              0.4444444444444444,
              "#bd3786"
             ],
             [
              0.5555555555555556,
              "#d8576b"
             ],
             [
              0.6666666666666666,
              "#ed7953"
             ],
             [
              0.7777777777777778,
              "#fb9f3a"
             ],
             [
              0.8888888888888888,
              "#fdca26"
             ],
             [
              1,
              "#f0f921"
             ]
            ],
            "type": "heatmapgl"
           }
          ],
          "histogram": [
           {
            "marker": {
             "pattern": {
              "fillmode": "overlay",
              "size": 10,
              "solidity": 0.2
             }
            },
            "type": "histogram"
           }
          ],
          "histogram2d": [
           {
            "colorbar": {
             "outlinewidth": 0,
             "ticks": ""
            },
            "colorscale": [
             [
              0,
              "#0d0887"
             ],
             [
              0.1111111111111111,
              "#46039f"
             ],
             [
              0.2222222222222222,
              "#7201a8"
             ],
             [
              0.3333333333333333,
              "#9c179e"
             ],
             [
              0.4444444444444444,
              "#bd3786"
             ],
             [
              0.5555555555555556,
              "#d8576b"
             ],
             [
              0.6666666666666666,
              "#ed7953"
             ],
             [
              0.7777777777777778,
              "#fb9f3a"
             ],
             [
              0.8888888888888888,
              "#fdca26"
             ],
             [
              1,
              "#f0f921"
             ]
            ],
            "type": "histogram2d"
           }
          ],
          "histogram2dcontour": [
           {
            "colorbar": {
             "outlinewidth": 0,
             "ticks": ""
            },
            "colorscale": [
             [
              0,
              "#0d0887"
             ],
             [
              0.1111111111111111,
              "#46039f"
             ],
             [
              0.2222222222222222,
              "#7201a8"
             ],
             [
              0.3333333333333333,
              "#9c179e"
             ],
             [
              0.4444444444444444,
              "#bd3786"
             ],
             [
              0.5555555555555556,
              "#d8576b"
             ],
             [
              0.6666666666666666,
              "#ed7953"
             ],
             [
              0.7777777777777778,
              "#fb9f3a"
             ],
             [
              0.8888888888888888,
              "#fdca26"
             ],
             [
              1,
              "#f0f921"
             ]
            ],
            "type": "histogram2dcontour"
           }
          ],
          "mesh3d": [
           {
            "colorbar": {
             "outlinewidth": 0,
             "ticks": ""
            },
            "type": "mesh3d"
           }
          ],
          "parcoords": [
           {
            "line": {
             "colorbar": {
              "outlinewidth": 0,
              "ticks": ""
             }
            },
            "type": "parcoords"
           }
          ],
          "pie": [
           {
            "automargin": true,
            "type": "pie"
           }
          ],
          "scatter": [
           {
            "fillpattern": {
             "fillmode": "overlay",
             "size": 10,
             "solidity": 0.2
            },
            "type": "scatter"
           }
          ],
          "scatter3d": [
           {
            "line": {
             "colorbar": {
              "outlinewidth": 0,
              "ticks": ""
             }
            },
            "marker": {
             "colorbar": {
              "outlinewidth": 0,
              "ticks": ""
             }
            },
            "type": "scatter3d"
           }
          ],
          "scattercarpet": [
           {
            "marker": {
             "colorbar": {
              "outlinewidth": 0,
              "ticks": ""
             }
            },
            "type": "scattercarpet"
           }
          ],
          "scattergeo": [
           {
            "marker": {
             "colorbar": {
              "outlinewidth": 0,
              "ticks": ""
             }
            },
            "type": "scattergeo"
           }
          ],
          "scattergl": [
           {
            "marker": {
             "colorbar": {
              "outlinewidth": 0,
              "ticks": ""
             }
            },
            "type": "scattergl"
           }
          ],
          "scattermapbox": [
           {
            "marker": {
             "colorbar": {
              "outlinewidth": 0,
              "ticks": ""
             }
            },
            "type": "scattermapbox"
           }
          ],
          "scatterpolar": [
           {
            "marker": {
             "colorbar": {
              "outlinewidth": 0,
              "ticks": ""
             }
            },
            "type": "scatterpolar"
           }
          ],
          "scatterpolargl": [
           {
            "marker": {
             "colorbar": {
              "outlinewidth": 0,
              "ticks": ""
             }
            },
            "type": "scatterpolargl"
           }
          ],
          "scatterternary": [
           {
            "marker": {
             "colorbar": {
              "outlinewidth": 0,
              "ticks": ""
             }
            },
            "type": "scatterternary"
           }
          ],
          "surface": [
           {
            "colorbar": {
             "outlinewidth": 0,
             "ticks": ""
            },
            "colorscale": [
             [
              0,
              "#0d0887"
             ],
             [
              0.1111111111111111,
              "#46039f"
             ],
             [
              0.2222222222222222,
              "#7201a8"
             ],
             [
              0.3333333333333333,
              "#9c179e"
             ],
             [
              0.4444444444444444,
              "#bd3786"
             ],
             [
              0.5555555555555556,
              "#d8576b"
             ],
             [
              0.6666666666666666,
              "#ed7953"
             ],
             [
              0.7777777777777778,
              "#fb9f3a"
             ],
             [
              0.8888888888888888,
              "#fdca26"
             ],
             [
              1,
              "#f0f921"
             ]
            ],
            "type": "surface"
           }
          ],
          "table": [
           {
            "cells": {
             "fill": {
              "color": "#EBF0F8"
             },
             "line": {
              "color": "white"
             }
            },
            "header": {
             "fill": {
              "color": "#C8D4E3"
             },
             "line": {
              "color": "white"
             }
            },
            "type": "table"
           }
          ]
         },
         "layout": {
          "annotationdefaults": {
           "arrowcolor": "#2a3f5f",
           "arrowhead": 0,
           "arrowwidth": 1
          },
          "autotypenumbers": "strict",
          "coloraxis": {
           "colorbar": {
            "outlinewidth": 0,
            "ticks": ""
           }
          },
          "colorscale": {
           "diverging": [
            [
             0,
             "#8e0152"
            ],
            [
             0.1,
             "#c51b7d"
            ],
            [
             0.2,
             "#de77ae"
            ],
            [
             0.3,
             "#f1b6da"
            ],
            [
             0.4,
             "#fde0ef"
            ],
            [
             0.5,
             "#f7f7f7"
            ],
            [
             0.6,
             "#e6f5d0"
            ],
            [
             0.7,
             "#b8e186"
            ],
            [
             0.8,
             "#7fbc41"
            ],
            [
             0.9,
             "#4d9221"
            ],
            [
             1,
             "#276419"
            ]
           ],
           "sequential": [
            [
             0,
             "#0d0887"
            ],
            [
             0.1111111111111111,
             "#46039f"
            ],
            [
             0.2222222222222222,
             "#7201a8"
            ],
            [
             0.3333333333333333,
             "#9c179e"
            ],
            [
             0.4444444444444444,
             "#bd3786"
            ],
            [
             0.5555555555555556,
             "#d8576b"
            ],
            [
             0.6666666666666666,
             "#ed7953"
            ],
            [
             0.7777777777777778,
             "#fb9f3a"
            ],
            [
             0.8888888888888888,
             "#fdca26"
            ],
            [
             1,
             "#f0f921"
            ]
           ],
           "sequentialminus": [
            [
             0,
             "#0d0887"
            ],
            [
             0.1111111111111111,
             "#46039f"
            ],
            [
             0.2222222222222222,
             "#7201a8"
            ],
            [
             0.3333333333333333,
             "#9c179e"
            ],
            [
             0.4444444444444444,
             "#bd3786"
            ],
            [
             0.5555555555555556,
             "#d8576b"
            ],
            [
             0.6666666666666666,
             "#ed7953"
            ],
            [
             0.7777777777777778,
             "#fb9f3a"
            ],
            [
             0.8888888888888888,
             "#fdca26"
            ],
            [
             1,
             "#f0f921"
            ]
           ]
          },
          "colorway": [
           "#636efa",
           "#EF553B",
           "#00cc96",
           "#ab63fa",
           "#FFA15A",
           "#19d3f3",
           "#FF6692",
           "#B6E880",
           "#FF97FF",
           "#FECB52"
          ],
          "font": {
           "color": "#2a3f5f"
          },
          "geo": {
           "bgcolor": "white",
           "lakecolor": "white",
           "landcolor": "#E5ECF6",
           "showlakes": true,
           "showland": true,
           "subunitcolor": "white"
          },
          "hoverlabel": {
           "align": "left"
          },
          "hovermode": "closest",
          "mapbox": {
           "style": "light"
          },
          "paper_bgcolor": "white",
          "plot_bgcolor": "#E5ECF6",
          "polar": {
           "angularaxis": {
            "gridcolor": "white",
            "linecolor": "white",
            "ticks": ""
           },
           "bgcolor": "#E5ECF6",
           "radialaxis": {
            "gridcolor": "white",
            "linecolor": "white",
            "ticks": ""
           }
          },
          "scene": {
           "xaxis": {
            "backgroundcolor": "#E5ECF6",
            "gridcolor": "white",
            "gridwidth": 2,
            "linecolor": "white",
            "showbackground": true,
            "ticks": "",
            "zerolinecolor": "white"
           },
           "yaxis": {
            "backgroundcolor": "#E5ECF6",
            "gridcolor": "white",
            "gridwidth": 2,
            "linecolor": "white",
            "showbackground": true,
            "ticks": "",
            "zerolinecolor": "white"
           },
           "zaxis": {
            "backgroundcolor": "#E5ECF6",
            "gridcolor": "white",
            "gridwidth": 2,
            "linecolor": "white",
            "showbackground": true,
            "ticks": "",
            "zerolinecolor": "white"
           }
          },
          "shapedefaults": {
           "line": {
            "color": "#2a3f5f"
           }
          },
          "ternary": {
           "aaxis": {
            "gridcolor": "white",
            "linecolor": "white",
            "ticks": ""
           },
           "baxis": {
            "gridcolor": "white",
            "linecolor": "white",
            "ticks": ""
           },
           "bgcolor": "#E5ECF6",
           "caxis": {
            "gridcolor": "white",
            "linecolor": "white",
            "ticks": ""
           }
          },
          "title": {
           "x": 0.05
          },
          "xaxis": {
           "automargin": true,
           "gridcolor": "white",
           "linecolor": "white",
           "ticks": "",
           "title": {
            "standoff": 15
           },
           "zerolinecolor": "white",
           "zerolinewidth": 2
          },
          "yaxis": {
           "automargin": true,
           "gridcolor": "white",
           "linecolor": "white",
           "ticks": "",
           "title": {
            "standoff": 15
           },
           "zerolinecolor": "white",
           "zerolinewidth": 2
          }
         }
        },
        "xaxis": {
         "anchor": "y",
         "domain": [
          0,
          1
         ],
         "title": {
          "text": "What is your CGPA?"
         }
        },
        "yaxis": {
         "anchor": "x",
         "domain": [
          0,
          1
         ],
         "title": {
          "text": "Choose your gender"
         }
        }
       }
      }
     },
     "metadata": {},
     "output_type": "display_data"
    },
    {
     "data": {
      "text/plain": [
       "<Figure size 1280x960 with 0 Axes>"
      ]
     },
     "metadata": {},
     "output_type": "display_data"
    }
   ],
   "source": [
    "import matplotlib.pyplot as plt\n",
    "import plotly.graph_objects as go\n",
    "import plotly.express as px\n",
    "from plotly.subplots import make_subplots\n",
    "from plotly.offline import init_notebook_mode\n",
    "\n",
    "dataset.sort_values(by= \"What is your CGPA?\" ,inplace=True)\n",
    "plt.figure(dpi=200)\n",
    "fig = px.bar(dataset, x=\"What is your CGPA?\", y=\"Choose your gender\", orientation='h',color='Do you have Depression?')\n",
    "fig.show()"
   ]
  },
  {
   "cell_type": "code",
   "execution_count": 38,
   "metadata": {},
   "outputs": [
    {
     "data": {
      "application/vnd.plotly.v1+json": {
       "config": {
        "plotlyServerURL": "https://plot.ly"
       },
       "data": [
        {
         "marker": {
          "color": "rgba(50, 171, 96, 0.6)",
          "line": {
           "color": "rgba(20, 10, 56, 1.0)",
           "width": 0
          }
         },
         "name": "Depression across the ages",
         "orientation": "h",
         "type": "bar",
         "x": [
          1,
          0,
          0,
          0,
          1,
          0,
          0,
          0,
          0,
          0,
          0,
          0,
          1,
          1,
          1,
          0,
          0,
          0,
          0,
          0,
          1,
          0,
          0,
          1,
          0,
          0,
          0,
          1,
          1,
          0,
          1,
          1,
          0,
          0,
          0,
          0,
          1,
          1,
          0,
          0,
          1,
          1,
          0,
          1,
          0,
          0,
          0,
          0,
          1,
          1,
          0,
          1,
          0,
          1,
          0,
          0,
          0,
          0,
          1,
          0,
          1,
          0,
          1,
          1,
          0,
          0,
          1,
          0,
          0,
          1,
          1,
          0,
          1,
          1,
          0,
          0,
          0,
          1,
          0,
          0,
          0,
          0,
          0,
          1,
          0,
          0,
          0,
          0,
          0,
          0,
          1,
          0,
          1,
          1,
          0,
          1,
          0,
          0,
          0,
          0,
          0
         ],
         "xaxis": "x",
         "y": [
          18,
          19,
          20,
          21,
          22,
          23,
          24
         ],
         "yaxis": "y"
        },
        {
         "line": {
          "color": "rgb(40, 0, 128)"
         },
         "mode": "lines+markers",
         "name": "Panic Attacks",
         "type": "scatter",
         "x": [
          1,
          0,
          0,
          0,
          0,
          0,
          0,
          1,
          0,
          0,
          1,
          0,
          0,
          1,
          1,
          0,
          1,
          1,
          0,
          0,
          0,
          0,
          1,
          1,
          0,
          0,
          1,
          0,
          0,
          1,
          1,
          0,
          0,
          0,
          0,
          1,
          1,
          0,
          0,
          0,
          0,
          0,
          0,
          1,
          1,
          0,
          0,
          1,
          1,
          0,
          0,
          1,
          0,
          1,
          0,
          0,
          0,
          0,
          1,
          0,
          0,
          0,
          1,
          0,
          0,
          0,
          1,
          0,
          0,
          1,
          0,
          0,
          0,
          1,
          0,
          0,
          0,
          1,
          0,
          0,
          0,
          1,
          1,
          0,
          0,
          1,
          1,
          0,
          0,
          0,
          0,
          0,
          1,
          0,
          0,
          0,
          0,
          1,
          0,
          1,
          0
         ],
         "xaxis": "x2",
         "y": [
          18,
          19,
          20,
          21,
          22,
          23,
          24
         ],
         "yaxis": "y2"
        }
       ],
       "layout": {
        "annotations": [
         {
          "font": {
           "color": "rgb(128, 0, 128)",
           "family": "Arial",
           "size": 10
          },
          "showarrow": false,
          "text": "1%",
          "x": 11,
          "xref": "x2",
          "y": 18,
          "yref": "y2"
         },
         {
          "font": {
           "color": "rgb(50, 171, 96)",
           "family": "Arial",
           "size": 10
          },
          "showarrow": false,
          "text": "1%",
          "x": 11,
          "xref": "x",
          "y": 18,
          "yref": "y"
         },
         {
          "font": {
           "color": "rgb(128, 0, 128)",
           "family": "Arial",
           "size": 10
          },
          "showarrow": false,
          "text": "0%",
          "x": 10,
          "xref": "x2",
          "y": 19,
          "yref": "y2"
         },
         {
          "font": {
           "color": "rgb(50, 171, 96)",
           "family": "Arial",
           "size": 10
          },
          "showarrow": false,
          "text": "0%",
          "x": 10,
          "xref": "x",
          "y": 19,
          "yref": "y"
         },
         {
          "font": {
           "color": "rgb(128, 0, 128)",
           "family": "Arial",
           "size": 10
          },
          "showarrow": false,
          "text": "0%",
          "x": 10,
          "xref": "x2",
          "y": 20,
          "yref": "y2"
         },
         {
          "font": {
           "color": "rgb(50, 171, 96)",
           "family": "Arial",
           "size": 10
          },
          "showarrow": false,
          "text": "0%",
          "x": 10,
          "xref": "x",
          "y": 20,
          "yref": "y"
         },
         {
          "font": {
           "color": "rgb(128, 0, 128)",
           "family": "Arial",
           "size": 10
          },
          "showarrow": false,
          "text": "0%",
          "x": 10,
          "xref": "x2",
          "y": 21,
          "yref": "y2"
         },
         {
          "font": {
           "color": "rgb(50, 171, 96)",
           "family": "Arial",
           "size": 10
          },
          "showarrow": false,
          "text": "0%",
          "x": 10,
          "xref": "x",
          "y": 21,
          "yref": "y"
         },
         {
          "font": {
           "color": "rgb(128, 0, 128)",
           "family": "Arial",
           "size": 10
          },
          "showarrow": false,
          "text": "0%",
          "x": 10,
          "xref": "x2",
          "y": 22,
          "yref": "y2"
         },
         {
          "font": {
           "color": "rgb(50, 171, 96)",
           "family": "Arial",
           "size": 10
          },
          "showarrow": false,
          "text": "1%",
          "x": 11,
          "xref": "x",
          "y": 22,
          "yref": "y"
         },
         {
          "font": {
           "color": "rgb(128, 0, 128)",
           "family": "Arial",
           "size": 10
          },
          "showarrow": false,
          "text": "0%",
          "x": 10,
          "xref": "x2",
          "y": 23,
          "yref": "y2"
         },
         {
          "font": {
           "color": "rgb(50, 171, 96)",
           "family": "Arial",
           "size": 10
          },
          "showarrow": false,
          "text": "0%",
          "x": 10,
          "xref": "x",
          "y": 23,
          "yref": "y"
         },
         {
          "font": {
           "color": "rgb(128, 0, 128)",
           "family": "Arial",
           "size": 10
          },
          "showarrow": false,
          "text": "0%",
          "x": 10,
          "xref": "x2",
          "y": 24,
          "yref": "y2"
         },
         {
          "font": {
           "color": "rgb(50, 171, 96)",
           "family": "Arial",
           "size": 10
          },
          "showarrow": false,
          "text": "0%",
          "x": 10,
          "xref": "x",
          "y": 24,
          "yref": "y"
         },
         {
          "font": {
           "color": "rgb(150,150,150)",
           "family": "Arial",
           "size": 20
          },
          "showarrow": false,
          "text": "Mental health visualization",
          "x": -0.2,
          "xref": "paper",
          "y": -0.109,
          "yref": "paper"
         }
        ],
        "legend": {
         "font": {
          "size": 10
         },
         "x": 0.029,
         "y": 1.038
        },
        "margin": {
         "b": 70,
         "l": 100,
         "r": 20,
         "t": 70
        },
        "paper_bgcolor": "rgb(248, 248, 255)",
        "plot_bgcolor": "rgb(248, 248, 255)",
        "template": {
         "data": {
          "bar": [
           {
            "error_x": {
             "color": "#2a3f5f"
            },
            "error_y": {
             "color": "#2a3f5f"
            },
            "marker": {
             "line": {
              "color": "#E5ECF6",
              "width": 0.5
             },
             "pattern": {
              "fillmode": "overlay",
              "size": 10,
              "solidity": 0.2
             }
            },
            "type": "bar"
           }
          ],
          "barpolar": [
           {
            "marker": {
             "line": {
              "color": "#E5ECF6",
              "width": 0.5
             },
             "pattern": {
              "fillmode": "overlay",
              "size": 10,
              "solidity": 0.2
             }
            },
            "type": "barpolar"
           }
          ],
          "carpet": [
           {
            "aaxis": {
             "endlinecolor": "#2a3f5f",
             "gridcolor": "white",
             "linecolor": "white",
             "minorgridcolor": "white",
             "startlinecolor": "#2a3f5f"
            },
            "baxis": {
             "endlinecolor": "#2a3f5f",
             "gridcolor": "white",
             "linecolor": "white",
             "minorgridcolor": "white",
             "startlinecolor": "#2a3f5f"
            },
            "type": "carpet"
           }
          ],
          "choropleth": [
           {
            "colorbar": {
             "outlinewidth": 0,
             "ticks": ""
            },
            "type": "choropleth"
           }
          ],
          "contour": [
           {
            "colorbar": {
             "outlinewidth": 0,
             "ticks": ""
            },
            "colorscale": [
             [
              0,
              "#0d0887"
             ],
             [
              0.1111111111111111,
              "#46039f"
             ],
             [
              0.2222222222222222,
              "#7201a8"
             ],
             [
              0.3333333333333333,
              "#9c179e"
             ],
             [
              0.4444444444444444,
              "#bd3786"
             ],
             [
              0.5555555555555556,
              "#d8576b"
             ],
             [
              0.6666666666666666,
              "#ed7953"
             ],
             [
              0.7777777777777778,
              "#fb9f3a"
             ],
             [
              0.8888888888888888,
              "#fdca26"
             ],
             [
              1,
              "#f0f921"
             ]
            ],
            "type": "contour"
           }
          ],
          "contourcarpet": [
           {
            "colorbar": {
             "outlinewidth": 0,
             "ticks": ""
            },
            "type": "contourcarpet"
           }
          ],
          "heatmap": [
           {
            "colorbar": {
             "outlinewidth": 0,
             "ticks": ""
            },
            "colorscale": [
             [
              0,
              "#0d0887"
             ],
             [
              0.1111111111111111,
              "#46039f"
             ],
             [
              0.2222222222222222,
              "#7201a8"
             ],
             [
              0.3333333333333333,
              "#9c179e"
             ],
             [
              0.4444444444444444,
              "#bd3786"
             ],
             [
              0.5555555555555556,
              "#d8576b"
             ],
             [
              0.6666666666666666,
              "#ed7953"
             ],
             [
              0.7777777777777778,
              "#fb9f3a"
             ],
             [
              0.8888888888888888,
              "#fdca26"
             ],
             [
              1,
              "#f0f921"
             ]
            ],
            "type": "heatmap"
           }
          ],
          "heatmapgl": [
           {
            "colorbar": {
             "outlinewidth": 0,
             "ticks": ""
            },
            "colorscale": [
             [
              0,
              "#0d0887"
             ],
             [
              0.1111111111111111,
              "#46039f"
             ],
             [
              0.2222222222222222,
              "#7201a8"
             ],
             [
              0.3333333333333333,
              "#9c179e"
             ],
             [
              0.4444444444444444,
              "#bd3786"
             ],
             [
              0.5555555555555556,
              "#d8576b"
             ],
             [
              0.6666666666666666,
              "#ed7953"
             ],
             [
              0.7777777777777778,
              "#fb9f3a"
             ],
             [
              0.8888888888888888,
              "#fdca26"
             ],
             [
              1,
              "#f0f921"
             ]
            ],
            "type": "heatmapgl"
           }
          ],
          "histogram": [
           {
            "marker": {
             "pattern": {
              "fillmode": "overlay",
              "size": 10,
              "solidity": 0.2
             }
            },
            "type": "histogram"
           }
          ],
          "histogram2d": [
           {
            "colorbar": {
             "outlinewidth": 0,
             "ticks": ""
            },
            "colorscale": [
             [
              0,
              "#0d0887"
             ],
             [
              0.1111111111111111,
              "#46039f"
             ],
             [
              0.2222222222222222,
              "#7201a8"
             ],
             [
              0.3333333333333333,
              "#9c179e"
             ],
             [
              0.4444444444444444,
              "#bd3786"
             ],
             [
              0.5555555555555556,
              "#d8576b"
             ],
             [
              0.6666666666666666,
              "#ed7953"
             ],
             [
              0.7777777777777778,
              "#fb9f3a"
             ],
             [
              0.8888888888888888,
              "#fdca26"
             ],
             [
              1,
              "#f0f921"
             ]
            ],
            "type": "histogram2d"
           }
          ],
          "histogram2dcontour": [
           {
            "colorbar": {
             "outlinewidth": 0,
             "ticks": ""
            },
            "colorscale": [
             [
              0,
              "#0d0887"
             ],
             [
              0.1111111111111111,
              "#46039f"
             ],
             [
              0.2222222222222222,
              "#7201a8"
             ],
             [
              0.3333333333333333,
              "#9c179e"
             ],
             [
              0.4444444444444444,
              "#bd3786"
             ],
             [
              0.5555555555555556,
              "#d8576b"
             ],
             [
              0.6666666666666666,
              "#ed7953"
             ],
             [
              0.7777777777777778,
              "#fb9f3a"
             ],
             [
              0.8888888888888888,
              "#fdca26"
             ],
             [
              1,
              "#f0f921"
             ]
            ],
            "type": "histogram2dcontour"
           }
          ],
          "mesh3d": [
           {
            "colorbar": {
             "outlinewidth": 0,
             "ticks": ""
            },
            "type": "mesh3d"
           }
          ],
          "parcoords": [
           {
            "line": {
             "colorbar": {
              "outlinewidth": 0,
              "ticks": ""
             }
            },
            "type": "parcoords"
           }
          ],
          "pie": [
           {
            "automargin": true,
            "type": "pie"
           }
          ],
          "scatter": [
           {
            "fillpattern": {
             "fillmode": "overlay",
             "size": 10,
             "solidity": 0.2
            },
            "type": "scatter"
           }
          ],
          "scatter3d": [
           {
            "line": {
             "colorbar": {
              "outlinewidth": 0,
              "ticks": ""
             }
            },
            "marker": {
             "colorbar": {
              "outlinewidth": 0,
              "ticks": ""
             }
            },
            "type": "scatter3d"
           }
          ],
          "scattercarpet": [
           {
            "marker": {
             "colorbar": {
              "outlinewidth": 0,
              "ticks": ""
             }
            },
            "type": "scattercarpet"
           }
          ],
          "scattergeo": [
           {
            "marker": {
             "colorbar": {
              "outlinewidth": 0,
              "ticks": ""
             }
            },
            "type": "scattergeo"
           }
          ],
          "scattergl": [
           {
            "marker": {
             "colorbar": {
              "outlinewidth": 0,
              "ticks": ""
             }
            },
            "type": "scattergl"
           }
          ],
          "scattermapbox": [
           {
            "marker": {
             "colorbar": {
              "outlinewidth": 0,
              "ticks": ""
             }
            },
            "type": "scattermapbox"
           }
          ],
          "scatterpolar": [
           {
            "marker": {
             "colorbar": {
              "outlinewidth": 0,
              "ticks": ""
             }
            },
            "type": "scatterpolar"
           }
          ],
          "scatterpolargl": [
           {
            "marker": {
             "colorbar": {
              "outlinewidth": 0,
              "ticks": ""
             }
            },
            "type": "scatterpolargl"
           }
          ],
          "scatterternary": [
           {
            "marker": {
             "colorbar": {
              "outlinewidth": 0,
              "ticks": ""
             }
            },
            "type": "scatterternary"
           }
          ],
          "surface": [
           {
            "colorbar": {
             "outlinewidth": 0,
             "ticks": ""
            },
            "colorscale": [
             [
              0,
              "#0d0887"
             ],
             [
              0.1111111111111111,
              "#46039f"
             ],
             [
              0.2222222222222222,
              "#7201a8"
             ],
             [
              0.3333333333333333,
              "#9c179e"
             ],
             [
              0.4444444444444444,
              "#bd3786"
             ],
             [
              0.5555555555555556,
              "#d8576b"
             ],
             [
              0.6666666666666666,
              "#ed7953"
             ],
             [
              0.7777777777777778,
              "#fb9f3a"
             ],
             [
              0.8888888888888888,
              "#fdca26"
             ],
             [
              1,
              "#f0f921"
             ]
            ],
            "type": "surface"
           }
          ],
          "table": [
           {
            "cells": {
             "fill": {
              "color": "#EBF0F8"
             },
             "line": {
              "color": "white"
             }
            },
            "header": {
             "fill": {
              "color": "#C8D4E3"
             },
             "line": {
              "color": "white"
             }
            },
            "type": "table"
           }
          ]
         },
         "layout": {
          "annotationdefaults": {
           "arrowcolor": "#2a3f5f",
           "arrowhead": 0,
           "arrowwidth": 1
          },
          "autotypenumbers": "strict",
          "coloraxis": {
           "colorbar": {
            "outlinewidth": 0,
            "ticks": ""
           }
          },
          "colorscale": {
           "diverging": [
            [
             0,
             "#8e0152"
            ],
            [
             0.1,
             "#c51b7d"
            ],
            [
             0.2,
             "#de77ae"
            ],
            [
             0.3,
             "#f1b6da"
            ],
            [
             0.4,
             "#fde0ef"
            ],
            [
             0.5,
             "#f7f7f7"
            ],
            [
             0.6,
             "#e6f5d0"
            ],
            [
             0.7,
             "#b8e186"
            ],
            [
             0.8,
             "#7fbc41"
            ],
            [
             0.9,
             "#4d9221"
            ],
            [
             1,
             "#276419"
            ]
           ],
           "sequential": [
            [
             0,
             "#0d0887"
            ],
            [
             0.1111111111111111,
             "#46039f"
            ],
            [
             0.2222222222222222,
             "#7201a8"
            ],
            [
             0.3333333333333333,
             "#9c179e"
            ],
            [
             0.4444444444444444,
             "#bd3786"
            ],
            [
             0.5555555555555556,
             "#d8576b"
            ],
            [
             0.6666666666666666,
             "#ed7953"
            ],
            [
             0.7777777777777778,
             "#fb9f3a"
            ],
            [
             0.8888888888888888,
             "#fdca26"
            ],
            [
             1,
             "#f0f921"
            ]
           ],
           "sequentialminus": [
            [
             0,
             "#0d0887"
            ],
            [
             0.1111111111111111,
             "#46039f"
            ],
            [
             0.2222222222222222,
             "#7201a8"
            ],
            [
             0.3333333333333333,
             "#9c179e"
            ],
            [
             0.4444444444444444,
             "#bd3786"
            ],
            [
             0.5555555555555556,
             "#d8576b"
            ],
            [
             0.6666666666666666,
             "#ed7953"
            ],
            [
             0.7777777777777778,
             "#fb9f3a"
            ],
            [
             0.8888888888888888,
             "#fdca26"
            ],
            [
             1,
             "#f0f921"
            ]
           ]
          },
          "colorway": [
           "#636efa",
           "#EF553B",
           "#00cc96",
           "#ab63fa",
           "#FFA15A",
           "#19d3f3",
           "#FF6692",
           "#B6E880",
           "#FF97FF",
           "#FECB52"
          ],
          "font": {
           "color": "#2a3f5f"
          },
          "geo": {
           "bgcolor": "white",
           "lakecolor": "white",
           "landcolor": "#E5ECF6",
           "showlakes": true,
           "showland": true,
           "subunitcolor": "white"
          },
          "hoverlabel": {
           "align": "left"
          },
          "hovermode": "closest",
          "mapbox": {
           "style": "light"
          },
          "paper_bgcolor": "white",
          "plot_bgcolor": "#E5ECF6",
          "polar": {
           "angularaxis": {
            "gridcolor": "white",
            "linecolor": "white",
            "ticks": ""
           },
           "bgcolor": "#E5ECF6",
           "radialaxis": {
            "gridcolor": "white",
            "linecolor": "white",
            "ticks": ""
           }
          },
          "scene": {
           "xaxis": {
            "backgroundcolor": "#E5ECF6",
            "gridcolor": "white",
            "gridwidth": 2,
            "linecolor": "white",
            "showbackground": true,
            "ticks": "",
            "zerolinecolor": "white"
           },
           "yaxis": {
            "backgroundcolor": "#E5ECF6",
            "gridcolor": "white",
            "gridwidth": 2,
            "linecolor": "white",
            "showbackground": true,
            "ticks": "",
            "zerolinecolor": "white"
           },
           "zaxis": {
            "backgroundcolor": "#E5ECF6",
            "gridcolor": "white",
            "gridwidth": 2,
            "linecolor": "white",
            "showbackground": true,
            "ticks": "",
            "zerolinecolor": "white"
           }
          },
          "shapedefaults": {
           "line": {
            "color": "#2a3f5f"
           }
          },
          "ternary": {
           "aaxis": {
            "gridcolor": "white",
            "linecolor": "white",
            "ticks": ""
           },
           "baxis": {
            "gridcolor": "white",
            "linecolor": "white",
            "ticks": ""
           },
           "bgcolor": "#E5ECF6",
           "caxis": {
            "gridcolor": "white",
            "linecolor": "white",
            "ticks": ""
           }
          },
          "title": {
           "x": 0.05
          },
          "xaxis": {
           "automargin": true,
           "gridcolor": "white",
           "linecolor": "white",
           "ticks": "",
           "title": {
            "standoff": 15
           },
           "zerolinecolor": "white",
           "zerolinewidth": 2
          },
          "yaxis": {
           "automargin": true,
           "gridcolor": "white",
           "linecolor": "white",
           "ticks": "",
           "title": {
            "standoff": 15
           },
           "zerolinecolor": "white",
           "zerolinewidth": 2
          }
         }
        },
        "title": {
         "text": "Major depression and Panic Attacks"
        },
        "xaxis": {
         "anchor": "y",
         "domain": [
          0,
          0.45
         ],
         "showgrid": true,
         "showline": false,
         "showticklabels": true,
         "zeroline": false
        },
        "xaxis2": {
         "anchor": "y2",
         "domain": [
          0.47,
          1
         ],
         "dtick": 10000,
         "showgrid": true,
         "showline": false,
         "showticklabels": true,
         "side": "top",
         "zeroline": false
        },
        "yaxis": {
         "anchor": "x",
         "domain": [
          0,
          0.85
         ],
         "showgrid": false,
         "showline": false,
         "showticklabels": true
        },
        "yaxis2": {
         "anchor": "x2",
         "domain": [
          0,
          0.85
         ],
         "linecolor": "rgba(102, 102, 102, 0.8)",
         "linewidth": 5,
         "showgrid": false,
         "showline": true,
         "showticklabels": false
        }
       }
      }
     },
     "metadata": {},
     "output_type": "display_data"
    }
   ],
   "source": [
    "tempdataset = pd.read_csv(\"new_file.csv\")\n",
    "\n",
    "fig = make_subplots(rows=1, cols=2, specs=[[{}, {}]], shared_xaxes=True,\n",
    "                    shared_yaxes=False, vertical_spacing=0.001)\n",
    "\n",
    "x1 = [18,19,20,21,22,23,24]\n",
    "\n",
    "fig.append_trace(go.Bar(\n",
    "    x=tempdataset[\"Do you have Depression?\"],\n",
    "    y=x1,\n",
    "    marker=dict(\n",
    "        color='rgba(50, 171, 96, 0.6)',\n",
    "        line=dict(\n",
    "            color='rgba(20, 10, 56, 1.0)',\n",
    "            width=0),\n",
    "    ),\n",
    "    name='Depression across the ages',\n",
    "    orientation='h',\n",
    "), 1, 1)\n",
    "\n",
    "fig.append_trace(go.Scatter(\n",
    "    x=tempdataset[\"Do you have Panic attack?\"], y=x1,\n",
    "    mode='lines+markers',\n",
    "    line_color='rgb(40, 0, 128)',\n",
    "    name='Panic Attacks',\n",
    "), 1, 2)\n",
    "\n",
    "fig.update_layout(\n",
    "    title='Major depression and Panic Attacks',\n",
    "    yaxis=dict(\n",
    "        showgrid=False,\n",
    "        showline=False,\n",
    "        showticklabels=True,\n",
    "        domain=[0, 0.85],\n",
    "    ),\n",
    "    yaxis2=dict(\n",
    "        showgrid=False,\n",
    "        showline=True,\n",
    "        showticklabels=False,\n",
    "        linecolor='rgba(102, 102, 102, 0.8)',\n",
    "        linewidth=5,\n",
    "        domain=[0, 0.85],\n",
    "    ),\n",
    "    xaxis=dict(\n",
    "        zeroline=False,\n",
    "        showline=False,\n",
    "        showticklabels=True,\n",
    "        showgrid=True,\n",
    "        domain=[0, 0.45],\n",
    "    ),\n",
    "    xaxis2=dict(\n",
    "        zeroline=False,\n",
    "        showline=False,\n",
    "        showticklabels=True,\n",
    "        showgrid=True,\n",
    "        domain=[0.47, 1],\n",
    "        side='top',\n",
    "        dtick=10000,\n",
    "    ),\n",
    "    legend=dict(x=0.029, y=1.038, font_size=10),\n",
    "    margin=dict(l=100, r=20, t=70, b=70),\n",
    "    paper_bgcolor='rgb(248, 248, 255)',\n",
    "    plot_bgcolor='rgb(248, 248, 255)',\n",
    ")\n",
    "\n",
    "annotations = []\n",
    "\n",
    "\n",
    "# Adding labels\n",
    "for ydn, yd, xd in zip(tempdataset[\"Do you have Panic attack?\"], tempdataset[\"Do you have Depression?\"], x1):\n",
    "    # labeling the scatter savings\n",
    "    annotations.append(dict(xref='x2', yref='y2',\n",
    "                            y=xd, x=ydn+10,\n",
    "                            text='{:,}'.format(ydn) + '%',\n",
    "                            font=dict(family='Arial', size=10,\n",
    "                                      color='rgb(128, 0, 128)'),\n",
    "                            showarrow=False))\n",
    "    # labeling the bar net worth\n",
    "    annotations.append(dict(xref='x1', yref='y1',\n",
    "                            y=xd, x=yd+10 ,\n",
    "                            text=str(yd) + '%',\n",
    "                            font=dict(family='Arial', size=10,\n",
    "                                      color='rgb(50, 171, 96)'),\n",
    "                            showarrow=False))\n",
    "# Source\n",
    "annotations.append(dict(xref='paper', yref='paper',\n",
    "                        x=-0.2, y=-0.109,\n",
    "                        text=\"Mental health visualization\",\n",
    "                        font=dict(family='Arial', size=20, color='rgb(150,150,150)'),\n",
    "                        showarrow=False))\n",
    "\n",
    "fig.update_layout(annotations=annotations)\n",
    "\n",
    "fig.show()"
   ]
  },
  {
   "cell_type": "code",
   "execution_count": 36,
   "metadata": {},
   "outputs": [
    {
     "data": {
      "text/html": [
       "<div>\n",
       "<style scoped>\n",
       "    .dataframe tbody tr th:only-of-type {\n",
       "        vertical-align: middle;\n",
       "    }\n",
       "\n",
       "    .dataframe tbody tr th {\n",
       "        vertical-align: top;\n",
       "    }\n",
       "\n",
       "    .dataframe thead th {\n",
       "        text-align: right;\n",
       "    }\n",
       "</style>\n",
       "<table border=\"1\" class=\"dataframe\">\n",
       "  <thead>\n",
       "    <tr style=\"text-align: right;\">\n",
       "      <th></th>\n",
       "      <th>Choose your gender</th>\n",
       "      <th>Age</th>\n",
       "      <th>What is your course?</th>\n",
       "      <th>Your current year of Study</th>\n",
       "      <th>What is your CGPA?</th>\n",
       "      <th>Marital status</th>\n",
       "      <th>Do you have Depression?</th>\n",
       "      <th>Do you have Anxiety?</th>\n",
       "      <th>Do you have Panic attack?</th>\n",
       "      <th>Did you seek any specialist for a treatment?</th>\n",
       "    </tr>\n",
       "  </thead>\n",
       "  <tbody>\n",
       "    <tr>\n",
       "      <th>91</th>\n",
       "      <td>1</td>\n",
       "      <td>20</td>\n",
       "      <td>4</td>\n",
       "      <td>0</td>\n",
       "      <td>0</td>\n",
       "      <td>0</td>\n",
       "      <td>0</td>\n",
       "      <td>0</td>\n",
       "      <td>0</td>\n",
       "      <td>0</td>\n",
       "    </tr>\n",
       "    <tr>\n",
       "      <th>96</th>\n",
       "      <td>1</td>\n",
       "      <td>18</td>\n",
       "      <td>6</td>\n",
       "      <td>0</td>\n",
       "      <td>0</td>\n",
       "      <td>0</td>\n",
       "      <td>0</td>\n",
       "      <td>0</td>\n",
       "      <td>0</td>\n",
       "      <td>0</td>\n",
       "    </tr>\n",
       "    <tr>\n",
       "      <th>26</th>\n",
       "      <td>0</td>\n",
       "      <td>24</td>\n",
       "      <td>11</td>\n",
       "      <td>2</td>\n",
       "      <td>0</td>\n",
       "      <td>0</td>\n",
       "      <td>0</td>\n",
       "      <td>0</td>\n",
       "      <td>1</td>\n",
       "      <td>0</td>\n",
       "    </tr>\n",
       "    <tr>\n",
       "      <th>38</th>\n",
       "      <td>0</td>\n",
       "      <td>19</td>\n",
       "      <td>5</td>\n",
       "      <td>2</td>\n",
       "      <td>0</td>\n",
       "      <td>0</td>\n",
       "      <td>0</td>\n",
       "      <td>0</td>\n",
       "      <td>0</td>\n",
       "      <td>0</td>\n",
       "    </tr>\n",
       "    <tr>\n",
       "      <th>71</th>\n",
       "      <td>0</td>\n",
       "      <td>18</td>\n",
       "      <td>5</td>\n",
       "      <td>0</td>\n",
       "      <td>1</td>\n",
       "      <td>0</td>\n",
       "      <td>0</td>\n",
       "      <td>0</td>\n",
       "      <td>0</td>\n",
       "      <td>0</td>\n",
       "    </tr>\n",
       "  </tbody>\n",
       "</table>\n",
       "</div>"
      ],
      "text/plain": [
       "    Choose your gender  Age  What is your course?  Your current year of Study  \\\n",
       "91                   1   20                     4                           0   \n",
       "96                   1   18                     6                           0   \n",
       "26                   0   24                    11                           2   \n",
       "38                   0   19                     5                           2   \n",
       "71                   0   18                     5                           0   \n",
       "\n",
       "    What is your CGPA?  Marital status  Do you have Depression?  \\\n",
       "91                   0               0                        0   \n",
       "96                   0               0                        0   \n",
       "26                   0               0                        0   \n",
       "38                   0               0                        0   \n",
       "71                   1               0                        0   \n",
       "\n",
       "    Do you have Anxiety?  Do you have Panic attack?  \\\n",
       "91                     0                          0   \n",
       "96                     0                          0   \n",
       "26                     0                          1   \n",
       "38                     0                          0   \n",
       "71                     0                          0   \n",
       "\n",
       "    Did you seek any specialist for a treatment?  \n",
       "91                                             0  \n",
       "96                                             0  \n",
       "26                                             0  \n",
       "38                                             0  \n",
       "71                                             0  "
      ]
     },
     "execution_count": 36,
     "metadata": {},
     "output_type": "execute_result"
    }
   ],
   "source": [
    "#dataset.to_csv('new_file.csv', index=False)\n",
    "\n",
    "dataset.head()"
   ]
  }
 ],
 "metadata": {
  "kernelspec": {
   "display_name": "base",
   "language": "python",
   "name": "python3"
  },
  "language_info": {
   "codemirror_mode": {
    "name": "ipython",
    "version": 3
   },
   "file_extension": ".py",
   "mimetype": "text/x-python",
   "name": "python",
   "nbconvert_exporter": "python",
   "pygments_lexer": "ipython3",
   "version": "3.10.10"
  }
 },
 "nbformat": 4,
 "nbformat_minor": 2
}
