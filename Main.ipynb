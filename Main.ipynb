{
 "cells": [
  {
   "cell_type": "markdown",
   "metadata": {},
   "source": [
    "# Data Preprocessing\n"
   ]
  },
  {
   "cell_type": "markdown",
   "metadata": {},
   "source": [
    "##### Downloading dataset\n"
   ]
  },
  {
   "cell_type": "code",
   "execution_count": 1,
   "metadata": {},
   "outputs": [],
   "source": [
    "import numpy as np\n",
    "import pandas as pd\n",
    "import opendatasets as od\n",
    "import matplotlib.pyplot as plt"
   ]
  },
  {
   "cell_type": "code",
   "execution_count": 2,
   "metadata": {},
   "outputs": [
    {
     "name": "stdout",
     "output_type": "stream",
     "text": [
      "Skipping, found downloaded files in \".\\student-mental-health\" (use force=True to force download)\n"
     ]
    }
   ],
   "source": [
    "od.download(\n",
    "    'https://www.kaggle.com/datasets/shariful07/student-mental-health/data')"
   ]
  },
  {
   "cell_type": "code",
   "execution_count": 2,
   "metadata": {},
   "outputs": [
    {
     "data": {
      "text/html": [
       "<div>\n",
       "<style scoped>\n",
       "    .dataframe tbody tr th:only-of-type {\n",
       "        vertical-align: middle;\n",
       "    }\n",
       "\n",
       "    .dataframe tbody tr th {\n",
       "        vertical-align: top;\n",
       "    }\n",
       "\n",
       "    .dataframe thead th {\n",
       "        text-align: right;\n",
       "    }\n",
       "</style>\n",
       "<table border=\"1\" class=\"dataframe\">\n",
       "  <thead>\n",
       "    <tr style=\"text-align: right;\">\n",
       "      <th></th>\n",
       "      <th>Timestamp</th>\n",
       "      <th>Choose your gender</th>\n",
       "      <th>Age</th>\n",
       "      <th>What is your course?</th>\n",
       "      <th>Your current year of Study</th>\n",
       "      <th>What is your CGPA?</th>\n",
       "      <th>Marital status</th>\n",
       "      <th>Do you have Depression?</th>\n",
       "      <th>Do you have Anxiety?</th>\n",
       "      <th>Do you have Panic attack?</th>\n",
       "      <th>Did you seek any specialist for a treatment?</th>\n",
       "    </tr>\n",
       "  </thead>\n",
       "  <tbody>\n",
       "    <tr>\n",
       "      <th>0</th>\n",
       "      <td>08/07/2020 12:02</td>\n",
       "      <td>Female</td>\n",
       "      <td>18.0</td>\n",
       "      <td>Engineering</td>\n",
       "      <td>year 1</td>\n",
       "      <td>3.00 - 3.49</td>\n",
       "      <td>No</td>\n",
       "      <td>Yes</td>\n",
       "      <td>No</td>\n",
       "      <td>Yes</td>\n",
       "      <td>No</td>\n",
       "    </tr>\n",
       "    <tr>\n",
       "      <th>1</th>\n",
       "      <td>08/07/2020 12:04</td>\n",
       "      <td>Male</td>\n",
       "      <td>21.0</td>\n",
       "      <td>Islamic education</td>\n",
       "      <td>year 2</td>\n",
       "      <td>3.00 - 3.49</td>\n",
       "      <td>No</td>\n",
       "      <td>No</td>\n",
       "      <td>Yes</td>\n",
       "      <td>No</td>\n",
       "      <td>No</td>\n",
       "    </tr>\n",
       "    <tr>\n",
       "      <th>2</th>\n",
       "      <td>08/07/2020 12:05</td>\n",
       "      <td>Male</td>\n",
       "      <td>19.0</td>\n",
       "      <td>BIT</td>\n",
       "      <td>Year 1</td>\n",
       "      <td>3.00 - 3.49</td>\n",
       "      <td>No</td>\n",
       "      <td>Yes</td>\n",
       "      <td>Yes</td>\n",
       "      <td>Yes</td>\n",
       "      <td>No</td>\n",
       "    </tr>\n",
       "    <tr>\n",
       "      <th>3</th>\n",
       "      <td>08/07/2020 12:06</td>\n",
       "      <td>Female</td>\n",
       "      <td>22.0</td>\n",
       "      <td>Laws</td>\n",
       "      <td>year 3</td>\n",
       "      <td>3.00 - 3.49</td>\n",
       "      <td>Yes</td>\n",
       "      <td>Yes</td>\n",
       "      <td>No</td>\n",
       "      <td>No</td>\n",
       "      <td>No</td>\n",
       "    </tr>\n",
       "    <tr>\n",
       "      <th>4</th>\n",
       "      <td>08/07/2020 12:13</td>\n",
       "      <td>Male</td>\n",
       "      <td>23.0</td>\n",
       "      <td>Mathemathics</td>\n",
       "      <td>year 4</td>\n",
       "      <td>3.00 - 3.49</td>\n",
       "      <td>No</td>\n",
       "      <td>No</td>\n",
       "      <td>No</td>\n",
       "      <td>No</td>\n",
       "      <td>No</td>\n",
       "    </tr>\n",
       "  </tbody>\n",
       "</table>\n",
       "</div>"
      ],
      "text/plain": [
       "          Timestamp Choose your gender   Age What is your course?  \\\n",
       "0  08/07/2020 12:02             Female  18.0          Engineering   \n",
       "1  08/07/2020 12:04               Male  21.0    Islamic education   \n",
       "2  08/07/2020 12:05               Male  19.0                  BIT   \n",
       "3  08/07/2020 12:06             Female  22.0                 Laws   \n",
       "4  08/07/2020 12:13               Male  23.0         Mathemathics   \n",
       "\n",
       "  Your current year of Study What is your CGPA? Marital status  \\\n",
       "0                     year 1        3.00 - 3.49             No   \n",
       "1                     year 2        3.00 - 3.49             No   \n",
       "2                     Year 1        3.00 - 3.49             No   \n",
       "3                     year 3        3.00 - 3.49            Yes   \n",
       "4                     year 4        3.00 - 3.49             No   \n",
       "\n",
       "  Do you have Depression? Do you have Anxiety? Do you have Panic attack?  \\\n",
       "0                     Yes                   No                       Yes   \n",
       "1                      No                  Yes                        No   \n",
       "2                     Yes                  Yes                       Yes   \n",
       "3                     Yes                   No                        No   \n",
       "4                      No                   No                        No   \n",
       "\n",
       "  Did you seek any specialist for a treatment?  \n",
       "0                                           No  \n",
       "1                                           No  \n",
       "2                                           No  \n",
       "3                                           No  \n",
       "4                                           No  "
      ]
     },
     "execution_count": 2,
     "metadata": {},
     "output_type": "execute_result"
    }
   ],
   "source": [
    "dataset = pd.read_csv(\"student-mental-health\\\\Student Mental health.csv\")\n",
    "dataset.head()"
   ]
  },
  {
   "cell_type": "code",
   "execution_count": 3,
   "metadata": {},
   "outputs": [],
   "source": [
    "dataset = dataset.drop(\"Timestamp\", axis=1)\n",
    "dataset = dataset.drop(\"Did you seek any specialist for a treatment?\", axis=1)"
   ]
  },
  {
   "cell_type": "code",
   "execution_count": 4,
   "metadata": {},
   "outputs": [],
   "source": [
    "# Renaming columns\n",
    "dataset.rename(columns={'Choose your gender': 'Gender', 'What is your course?': 'Course', 'Your current year of Study': 'Study Year', 'What is your CGPA?': 'CGPA', 'Marital status': 'Marital Status',\n",
    "               'Do you have Depression?': 'Depression', 'What is your course?': 'Course', 'Do you have Anxiety?': 'Anxiety', 'Do you have Panic attack?': 'Panic Attack'}, inplace=True)"
   ]
  },
  {
   "cell_type": "code",
   "execution_count": 5,
   "metadata": {},
   "outputs": [
    {
     "data": {
      "text/html": [
       "<div>\n",
       "<style scoped>\n",
       "    .dataframe tbody tr th:only-of-type {\n",
       "        vertical-align: middle;\n",
       "    }\n",
       "\n",
       "    .dataframe tbody tr th {\n",
       "        vertical-align: top;\n",
       "    }\n",
       "\n",
       "    .dataframe thead th {\n",
       "        text-align: right;\n",
       "    }\n",
       "</style>\n",
       "<table border=\"1\" class=\"dataframe\">\n",
       "  <thead>\n",
       "    <tr style=\"text-align: right;\">\n",
       "      <th></th>\n",
       "      <th>Gender</th>\n",
       "      <th>Age</th>\n",
       "      <th>Course</th>\n",
       "      <th>Study Year</th>\n",
       "      <th>CGPA</th>\n",
       "      <th>Marital Status</th>\n",
       "      <th>Depression</th>\n",
       "      <th>Anxiety</th>\n",
       "      <th>Panic Attack</th>\n",
       "    </tr>\n",
       "  </thead>\n",
       "  <tbody>\n",
       "    <tr>\n",
       "      <th>0</th>\n",
       "      <td>Female</td>\n",
       "      <td>18.0</td>\n",
       "      <td>5</td>\n",
       "      <td>year 1</td>\n",
       "      <td>3.00 - 3.49</td>\n",
       "      <td>No</td>\n",
       "      <td>Yes</td>\n",
       "      <td>No</td>\n",
       "      <td>Yes</td>\n",
       "    </tr>\n",
       "    <tr>\n",
       "      <th>1</th>\n",
       "      <td>Male</td>\n",
       "      <td>21.0</td>\n",
       "      <td>10</td>\n",
       "      <td>year 2</td>\n",
       "      <td>3.00 - 3.49</td>\n",
       "      <td>No</td>\n",
       "      <td>No</td>\n",
       "      <td>Yes</td>\n",
       "      <td>No</td>\n",
       "    </tr>\n",
       "    <tr>\n",
       "      <th>2</th>\n",
       "      <td>Male</td>\n",
       "      <td>19.0</td>\n",
       "      <td>4</td>\n",
       "      <td>Year 1</td>\n",
       "      <td>3.00 - 3.49</td>\n",
       "      <td>No</td>\n",
       "      <td>Yes</td>\n",
       "      <td>Yes</td>\n",
       "      <td>Yes</td>\n",
       "    </tr>\n",
       "    <tr>\n",
       "      <th>3</th>\n",
       "      <td>Female</td>\n",
       "      <td>22.0</td>\n",
       "      <td>8</td>\n",
       "      <td>year 3</td>\n",
       "      <td>3.00 - 3.49</td>\n",
       "      <td>Yes</td>\n",
       "      <td>Yes</td>\n",
       "      <td>No</td>\n",
       "      <td>No</td>\n",
       "    </tr>\n",
       "    <tr>\n",
       "      <th>4</th>\n",
       "      <td>Male</td>\n",
       "      <td>23.0</td>\n",
       "      <td>9</td>\n",
       "      <td>year 4</td>\n",
       "      <td>3.00 - 3.49</td>\n",
       "      <td>No</td>\n",
       "      <td>No</td>\n",
       "      <td>No</td>\n",
       "      <td>No</td>\n",
       "    </tr>\n",
       "  </tbody>\n",
       "</table>\n",
       "</div>"
      ],
      "text/plain": [
       "   Gender   Age  Course Study Year         CGPA Marital Status Depression  \\\n",
       "0  Female  18.0       5     year 1  3.00 - 3.49             No        Yes   \n",
       "1    Male  21.0      10     year 2  3.00 - 3.49             No         No   \n",
       "2    Male  19.0       4     Year 1  3.00 - 3.49             No        Yes   \n",
       "3  Female  22.0       8     year 3  3.00 - 3.49            Yes        Yes   \n",
       "4    Male  23.0       9     year 4  3.00 - 3.49             No         No   \n",
       "\n",
       "  Anxiety Panic Attack  \n",
       "0      No          Yes  \n",
       "1     Yes           No  \n",
       "2     Yes          Yes  \n",
       "3      No           No  \n",
       "4      No           No  "
      ]
     },
     "execution_count": 5,
     "metadata": {},
     "output_type": "execute_result"
    }
   ],
   "source": [
    "# Sample DataFrame\n",
    "data = pd.read_csv(\"Processed Data.csv\")\n",
    "dataset[\"Course\"] = data['Course']\n",
    "dataset.head()"
   ]
  },
  {
   "cell_type": "code",
   "execution_count": 6,
   "metadata": {},
   "outputs": [],
   "source": [
    "mapping = {\n",
    "    0: 'Agriculture and Environmental Studies',\n",
    "    1: 'Arts and Humanities',\n",
    "    2: 'Business and Economics',\n",
    "    3: 'Communication and Media',\n",
    "    4: 'Computer and Information Sciences',\n",
    "    5: 'Engineering and Technology',\n",
    "    6: 'Health Sciences',\n",
    "    7: 'Interdisciplinary Studies',\n",
    "    8: 'Law',\n",
    "    9: 'Mathematics and Statistics',\n",
    "    10: 'Religious Studies',\n",
    "    11: 'Social Sciences'\n",
    "}\n",
    "\n",
    "# Replace integers with corresponding strings\n",
    "dataset['Course'] = data['Course'].map(mapping)\n"
   ]
  },
  {
   "cell_type": "code",
   "execution_count": 7,
   "metadata": {},
   "outputs": [],
   "source": [
    "# Processing age column\n",
    "mean_age = dataset['Age'].mean()\n",
    "dataset['Age'].fillna(mean_age, inplace=True)\n",
    "# Round the mean value to the nearest integer (optional)\n",
    "mean_age = round(mean_age)\n",
    "# Convert the 'Age' column to integers\n",
    "dataset['Age'] = dataset['Age'].astype(int)\n",
    "\n",
    "# Filling empty cells with value \"Female\"\n",
    "dataset['Gender'].fillna('Female', inplace=True)\n",
    "\n",
    "# Convert 'Study Year' and 'CGPA' to lowercase and strip leading and trailing spaces\n",
    "dataset['Study Year'] = dataset['Study Year'].str.lower().str.strip().str.replace(\" \", \"\")\n",
    "dataset['CGPA'] = dataset['CGPA'].str.lower().str.strip().str.replace(\" \", \"\")\n"
   ]
  },
  {
   "cell_type": "code",
   "execution_count": 8,
   "metadata": {},
   "outputs": [
    {
     "data": {
      "text/html": [
       "<div>\n",
       "<style scoped>\n",
       "    .dataframe tbody tr th:only-of-type {\n",
       "        vertical-align: middle;\n",
       "    }\n",
       "\n",
       "    .dataframe tbody tr th {\n",
       "        vertical-align: top;\n",
       "    }\n",
       "\n",
       "    .dataframe thead th {\n",
       "        text-align: right;\n",
       "    }\n",
       "</style>\n",
       "<table border=\"1\" class=\"dataframe\">\n",
       "  <thead>\n",
       "    <tr style=\"text-align: right;\">\n",
       "      <th></th>\n",
       "      <th>Gender</th>\n",
       "      <th>Age</th>\n",
       "      <th>Course</th>\n",
       "      <th>Study Year</th>\n",
       "      <th>CGPA</th>\n",
       "      <th>Marital Status</th>\n",
       "      <th>Depression</th>\n",
       "      <th>Anxiety</th>\n",
       "      <th>Panic Attack</th>\n",
       "    </tr>\n",
       "  </thead>\n",
       "  <tbody>\n",
       "    <tr>\n",
       "      <th>0</th>\n",
       "      <td>Female</td>\n",
       "      <td>18</td>\n",
       "      <td>Engineering and Technology</td>\n",
       "      <td>year1</td>\n",
       "      <td>3.00-3.49</td>\n",
       "      <td>No</td>\n",
       "      <td>Yes</td>\n",
       "      <td>No</td>\n",
       "      <td>Yes</td>\n",
       "    </tr>\n",
       "    <tr>\n",
       "      <th>1</th>\n",
       "      <td>Male</td>\n",
       "      <td>21</td>\n",
       "      <td>Religious Studies</td>\n",
       "      <td>year2</td>\n",
       "      <td>3.00-3.49</td>\n",
       "      <td>No</td>\n",
       "      <td>No</td>\n",
       "      <td>Yes</td>\n",
       "      <td>No</td>\n",
       "    </tr>\n",
       "    <tr>\n",
       "      <th>2</th>\n",
       "      <td>Male</td>\n",
       "      <td>19</td>\n",
       "      <td>Computer and Information Sciences</td>\n",
       "      <td>year1</td>\n",
       "      <td>3.00-3.49</td>\n",
       "      <td>No</td>\n",
       "      <td>Yes</td>\n",
       "      <td>Yes</td>\n",
       "      <td>Yes</td>\n",
       "    </tr>\n",
       "    <tr>\n",
       "      <th>3</th>\n",
       "      <td>Female</td>\n",
       "      <td>22</td>\n",
       "      <td>Law</td>\n",
       "      <td>year3</td>\n",
       "      <td>3.00-3.49</td>\n",
       "      <td>Yes</td>\n",
       "      <td>Yes</td>\n",
       "      <td>No</td>\n",
       "      <td>No</td>\n",
       "    </tr>\n",
       "    <tr>\n",
       "      <th>4</th>\n",
       "      <td>Male</td>\n",
       "      <td>23</td>\n",
       "      <td>Mathematics and Statistics</td>\n",
       "      <td>year4</td>\n",
       "      <td>3.00-3.49</td>\n",
       "      <td>No</td>\n",
       "      <td>No</td>\n",
       "      <td>No</td>\n",
       "      <td>No</td>\n",
       "    </tr>\n",
       "  </tbody>\n",
       "</table>\n",
       "</div>"
      ],
      "text/plain": [
       "   Gender  Age                             Course Study Year       CGPA  \\\n",
       "0  Female   18         Engineering and Technology      year1  3.00-3.49   \n",
       "1    Male   21                  Religious Studies      year2  3.00-3.49   \n",
       "2    Male   19  Computer and Information Sciences      year1  3.00-3.49   \n",
       "3  Female   22                                Law      year3  3.00-3.49   \n",
       "4    Male   23         Mathematics and Statistics      year4  3.00-3.49   \n",
       "\n",
       "  Marital Status Depression Anxiety Panic Attack  \n",
       "0             No        Yes      No          Yes  \n",
       "1             No         No     Yes           No  \n",
       "2             No        Yes     Yes          Yes  \n",
       "3            Yes        Yes      No           No  \n",
       "4             No         No      No           No  "
      ]
     },
     "execution_count": 8,
     "metadata": {},
     "output_type": "execute_result"
    }
   ],
   "source": [
    "dataset.head()"
   ]
  },
  {
   "cell_type": "code",
   "execution_count": 59,
   "metadata": {},
   "outputs": [
    {
     "data": {
      "application/vnd.plotly.v1+json": {
       "config": {
        "plotlyServerURL": "https://plot.ly"
       },
       "data": [
        {
         "domain": {
          "x": [
           0,
           1
          ],
          "y": [
           0,
           1
          ]
         },
         "hovertemplate": "label=%{label}<br>value=%{value}<extra></extra>",
         "labels": [
          18,
          24,
          19,
          23,
          20,
          21,
          22
         ],
         "legendgroup": "",
         "name": "",
         "showlegend": true,
         "type": "pie",
         "values": [
          32,
          23,
          21,
          13,
          7,
          3,
          2
         ]
        }
       ],
       "layout": {
        "legend": {
         "tracegroupgap": 0
        },
        "template": {
         "data": {
          "bar": [
           {
            "error_x": {
             "color": "#2a3f5f"
            },
            "error_y": {
             "color": "#2a3f5f"
            },
            "marker": {
             "line": {
              "color": "#E5ECF6",
              "width": 0.5
             },
             "pattern": {
              "fillmode": "overlay",
              "size": 10,
              "solidity": 0.2
             }
            },
            "type": "bar"
           }
          ],
          "barpolar": [
           {
            "marker": {
             "line": {
              "color": "#E5ECF6",
              "width": 0.5
             },
             "pattern": {
              "fillmode": "overlay",
              "size": 10,
              "solidity": 0.2
             }
            },
            "type": "barpolar"
           }
          ],
          "carpet": [
           {
            "aaxis": {
             "endlinecolor": "#2a3f5f",
             "gridcolor": "white",
             "linecolor": "white",
             "minorgridcolor": "white",
             "startlinecolor": "#2a3f5f"
            },
            "baxis": {
             "endlinecolor": "#2a3f5f",
             "gridcolor": "white",
             "linecolor": "white",
             "minorgridcolor": "white",
             "startlinecolor": "#2a3f5f"
            },
            "type": "carpet"
           }
          ],
          "choropleth": [
           {
            "colorbar": {
             "outlinewidth": 0,
             "ticks": ""
            },
            "type": "choropleth"
           }
          ],
          "contour": [
           {
            "colorbar": {
             "outlinewidth": 0,
             "ticks": ""
            },
            "colorscale": [
             [
              0,
              "#0d0887"
             ],
             [
              0.1111111111111111,
              "#46039f"
             ],
             [
              0.2222222222222222,
              "#7201a8"
             ],
             [
              0.3333333333333333,
              "#9c179e"
             ],
             [
              0.4444444444444444,
              "#bd3786"
             ],
             [
              0.5555555555555556,
              "#d8576b"
             ],
             [
              0.6666666666666666,
              "#ed7953"
             ],
             [
              0.7777777777777778,
              "#fb9f3a"
             ],
             [
              0.8888888888888888,
              "#fdca26"
             ],
             [
              1,
              "#f0f921"
             ]
            ],
            "type": "contour"
           }
          ],
          "contourcarpet": [
           {
            "colorbar": {
             "outlinewidth": 0,
             "ticks": ""
            },
            "type": "contourcarpet"
           }
          ],
          "heatmap": [
           {
            "colorbar": {
             "outlinewidth": 0,
             "ticks": ""
            },
            "colorscale": [
             [
              0,
              "#0d0887"
             ],
             [
              0.1111111111111111,
              "#46039f"
             ],
             [
              0.2222222222222222,
              "#7201a8"
             ],
             [
              0.3333333333333333,
              "#9c179e"
             ],
             [
              0.4444444444444444,
              "#bd3786"
             ],
             [
              0.5555555555555556,
              "#d8576b"
             ],
             [
              0.6666666666666666,
              "#ed7953"
             ],
             [
              0.7777777777777778,
              "#fb9f3a"
             ],
             [
              0.8888888888888888,
              "#fdca26"
             ],
             [
              1,
              "#f0f921"
             ]
            ],
            "type": "heatmap"
           }
          ],
          "heatmapgl": [
           {
            "colorbar": {
             "outlinewidth": 0,
             "ticks": ""
            },
            "colorscale": [
             [
              0,
              "#0d0887"
             ],
             [
              0.1111111111111111,
              "#46039f"
             ],
             [
              0.2222222222222222,
              "#7201a8"
             ],
             [
              0.3333333333333333,
              "#9c179e"
             ],
             [
              0.4444444444444444,
              "#bd3786"
             ],
             [
              0.5555555555555556,
              "#d8576b"
             ],
             [
              0.6666666666666666,
              "#ed7953"
             ],
             [
              0.7777777777777778,
              "#fb9f3a"
             ],
             [
              0.8888888888888888,
              "#fdca26"
             ],
             [
              1,
              "#f0f921"
             ]
            ],
            "type": "heatmapgl"
           }
          ],
          "histogram": [
           {
            "marker": {
             "pattern": {
              "fillmode": "overlay",
              "size": 10,
              "solidity": 0.2
             }
            },
            "type": "histogram"
           }
          ],
          "histogram2d": [
           {
            "colorbar": {
             "outlinewidth": 0,
             "ticks": ""
            },
            "colorscale": [
             [
              0,
              "#0d0887"
             ],
             [
              0.1111111111111111,
              "#46039f"
             ],
             [
              0.2222222222222222,
              "#7201a8"
             ],
             [
              0.3333333333333333,
              "#9c179e"
             ],
             [
              0.4444444444444444,
              "#bd3786"
             ],
             [
              0.5555555555555556,
              "#d8576b"
             ],
             [
              0.6666666666666666,
              "#ed7953"
             ],
             [
              0.7777777777777778,
              "#fb9f3a"
             ],
             [
              0.8888888888888888,
              "#fdca26"
             ],
             [
              1,
              "#f0f921"
             ]
            ],
            "type": "histogram2d"
           }
          ],
          "histogram2dcontour": [
           {
            "colorbar": {
             "outlinewidth": 0,
             "ticks": ""
            },
            "colorscale": [
             [
              0,
              "#0d0887"
             ],
             [
              0.1111111111111111,
              "#46039f"
             ],
             [
              0.2222222222222222,
              "#7201a8"
             ],
             [
              0.3333333333333333,
              "#9c179e"
             ],
             [
              0.4444444444444444,
              "#bd3786"
             ],
             [
              0.5555555555555556,
              "#d8576b"
             ],
             [
              0.6666666666666666,
              "#ed7953"
             ],
             [
              0.7777777777777778,
              "#fb9f3a"
             ],
             [
              0.8888888888888888,
              "#fdca26"
             ],
             [
              1,
              "#f0f921"
             ]
            ],
            "type": "histogram2dcontour"
           }
          ],
          "mesh3d": [
           {
            "colorbar": {
             "outlinewidth": 0,
             "ticks": ""
            },
            "type": "mesh3d"
           }
          ],
          "parcoords": [
           {
            "line": {
             "colorbar": {
              "outlinewidth": 0,
              "ticks": ""
             }
            },
            "type": "parcoords"
           }
          ],
          "pie": [
           {
            "automargin": true,
            "type": "pie"
           }
          ],
          "scatter": [
           {
            "fillpattern": {
             "fillmode": "overlay",
             "size": 10,
             "solidity": 0.2
            },
            "type": "scatter"
           }
          ],
          "scatter3d": [
           {
            "line": {
             "colorbar": {
              "outlinewidth": 0,
              "ticks": ""
             }
            },
            "marker": {
             "colorbar": {
              "outlinewidth": 0,
              "ticks": ""
             }
            },
            "type": "scatter3d"
           }
          ],
          "scattercarpet": [
           {
            "marker": {
             "colorbar": {
              "outlinewidth": 0,
              "ticks": ""
             }
            },
            "type": "scattercarpet"
           }
          ],
          "scattergeo": [
           {
            "marker": {
             "colorbar": {
              "outlinewidth": 0,
              "ticks": ""
             }
            },
            "type": "scattergeo"
           }
          ],
          "scattergl": [
           {
            "marker": {
             "colorbar": {
              "outlinewidth": 0,
              "ticks": ""
             }
            },
            "type": "scattergl"
           }
          ],
          "scattermapbox": [
           {
            "marker": {
             "colorbar": {
              "outlinewidth": 0,
              "ticks": ""
             }
            },
            "type": "scattermapbox"
           }
          ],
          "scatterpolar": [
           {
            "marker": {
             "colorbar": {
              "outlinewidth": 0,
              "ticks": ""
             }
            },
            "type": "scatterpolar"
           }
          ],
          "scatterpolargl": [
           {
            "marker": {
             "colorbar": {
              "outlinewidth": 0,
              "ticks": ""
             }
            },
            "type": "scatterpolargl"
           }
          ],
          "scatterternary": [
           {
            "marker": {
             "colorbar": {
              "outlinewidth": 0,
              "ticks": ""
             }
            },
            "type": "scatterternary"
           }
          ],
          "surface": [
           {
            "colorbar": {
             "outlinewidth": 0,
             "ticks": ""
            },
            "colorscale": [
             [
              0,
              "#0d0887"
             ],
             [
              0.1111111111111111,
              "#46039f"
             ],
             [
              0.2222222222222222,
              "#7201a8"
             ],
             [
              0.3333333333333333,
              "#9c179e"
             ],
             [
              0.4444444444444444,
              "#bd3786"
             ],
             [
              0.5555555555555556,
              "#d8576b"
             ],
             [
              0.6666666666666666,
              "#ed7953"
             ],
             [
              0.7777777777777778,
              "#fb9f3a"
             ],
             [
              0.8888888888888888,
              "#fdca26"
             ],
             [
              1,
              "#f0f921"
             ]
            ],
            "type": "surface"
           }
          ],
          "table": [
           {
            "cells": {
             "fill": {
              "color": "#EBF0F8"
             },
             "line": {
              "color": "white"
             }
            },
            "header": {
             "fill": {
              "color": "#C8D4E3"
             },
             "line": {
              "color": "white"
             }
            },
            "type": "table"
           }
          ]
         },
         "layout": {
          "annotationdefaults": {
           "arrowcolor": "#2a3f5f",
           "arrowhead": 0,
           "arrowwidth": 1
          },
          "autotypenumbers": "strict",
          "coloraxis": {
           "colorbar": {
            "outlinewidth": 0,
            "ticks": ""
           }
          },
          "colorscale": {
           "diverging": [
            [
             0,
             "#8e0152"
            ],
            [
             0.1,
             "#c51b7d"
            ],
            [
             0.2,
             "#de77ae"
            ],
            [
             0.3,
             "#f1b6da"
            ],
            [
             0.4,
             "#fde0ef"
            ],
            [
             0.5,
             "#f7f7f7"
            ],
            [
             0.6,
             "#e6f5d0"
            ],
            [
             0.7,
             "#b8e186"
            ],
            [
             0.8,
             "#7fbc41"
            ],
            [
             0.9,
             "#4d9221"
            ],
            [
             1,
             "#276419"
            ]
           ],
           "sequential": [
            [
             0,
             "#0d0887"
            ],
            [
             0.1111111111111111,
             "#46039f"
            ],
            [
             0.2222222222222222,
             "#7201a8"
            ],
            [
             0.3333333333333333,
             "#9c179e"
            ],
            [
             0.4444444444444444,
             "#bd3786"
            ],
            [
             0.5555555555555556,
             "#d8576b"
            ],
            [
             0.6666666666666666,
             "#ed7953"
            ],
            [
             0.7777777777777778,
             "#fb9f3a"
            ],
            [
             0.8888888888888888,
             "#fdca26"
            ],
            [
             1,
             "#f0f921"
            ]
           ],
           "sequentialminus": [
            [
             0,
             "#0d0887"
            ],
            [
             0.1111111111111111,
             "#46039f"
            ],
            [
             0.2222222222222222,
             "#7201a8"
            ],
            [
             0.3333333333333333,
             "#9c179e"
            ],
            [
             0.4444444444444444,
             "#bd3786"
            ],
            [
             0.5555555555555556,
             "#d8576b"
            ],
            [
             0.6666666666666666,
             "#ed7953"
            ],
            [
             0.7777777777777778,
             "#fb9f3a"
            ],
            [
             0.8888888888888888,
             "#fdca26"
            ],
            [
             1,
             "#f0f921"
            ]
           ]
          },
          "colorway": [
           "#636efa",
           "#EF553B",
           "#00cc96",
           "#ab63fa",
           "#FFA15A",
           "#19d3f3",
           "#FF6692",
           "#B6E880",
           "#FF97FF",
           "#FECB52"
          ],
          "font": {
           "color": "#2a3f5f"
          },
          "geo": {
           "bgcolor": "white",
           "lakecolor": "white",
           "landcolor": "#E5ECF6",
           "showlakes": true,
           "showland": true,
           "subunitcolor": "white"
          },
          "hoverlabel": {
           "align": "left"
          },
          "hovermode": "closest",
          "mapbox": {
           "style": "light"
          },
          "paper_bgcolor": "white",
          "plot_bgcolor": "#E5ECF6",
          "polar": {
           "angularaxis": {
            "gridcolor": "white",
            "linecolor": "white",
            "ticks": ""
           },
           "bgcolor": "#E5ECF6",
           "radialaxis": {
            "gridcolor": "white",
            "linecolor": "white",
            "ticks": ""
           }
          },
          "scene": {
           "xaxis": {
            "backgroundcolor": "#E5ECF6",
            "gridcolor": "white",
            "gridwidth": 2,
            "linecolor": "white",
            "showbackground": true,
            "ticks": "",
            "zerolinecolor": "white"
           },
           "yaxis": {
            "backgroundcolor": "#E5ECF6",
            "gridcolor": "white",
            "gridwidth": 2,
            "linecolor": "white",
            "showbackground": true,
            "ticks": "",
            "zerolinecolor": "white"
           },
           "zaxis": {
            "backgroundcolor": "#E5ECF6",
            "gridcolor": "white",
            "gridwidth": 2,
            "linecolor": "white",
            "showbackground": true,
            "ticks": "",
            "zerolinecolor": "white"
           }
          },
          "shapedefaults": {
           "line": {
            "color": "#2a3f5f"
           }
          },
          "ternary": {
           "aaxis": {
            "gridcolor": "white",
            "linecolor": "white",
            "ticks": ""
           },
           "baxis": {
            "gridcolor": "white",
            "linecolor": "white",
            "ticks": ""
           },
           "bgcolor": "#E5ECF6",
           "caxis": {
            "gridcolor": "white",
            "linecolor": "white",
            "ticks": ""
           }
          },
          "title": {
           "x": 0.05
          },
          "xaxis": {
           "automargin": true,
           "gridcolor": "white",
           "linecolor": "white",
           "ticks": "",
           "title": {
            "standoff": 15
           },
           "zerolinecolor": "white",
           "zerolinewidth": 2
          },
          "yaxis": {
           "automargin": true,
           "gridcolor": "white",
           "linecolor": "white",
           "ticks": "",
           "title": {
            "standoff": 15
           },
           "zerolinecolor": "white",
           "zerolinewidth": 2
          }
         }
        },
        "title": {
         "text": "Pie Chart based on age count"
        }
       }
      }
     },
     "metadata": {},
     "output_type": "display_data"
    },
    {
     "data": {
      "application/vnd.plotly.v1+json": {
       "config": {
        "plotlyServerURL": "https://plot.ly"
       },
       "data": [
        {
         "domain": {
          "x": [
           0,
           1
          ],
          "y": [
           0,
           1
          ]
         },
         "hovertemplate": "label=%{label}<br>value=%{value}<extra></extra>",
         "labels": [
          "year1",
          "year2",
          "year3",
          "year4"
         ],
         "legendgroup": "",
         "name": "",
         "showlegend": true,
         "type": "pie",
         "values": [
          43,
          26,
          24,
          8
         ]
        }
       ],
       "layout": {
        "legend": {
         "tracegroupgap": 0
        },
        "template": {
         "data": {
          "bar": [
           {
            "error_x": {
             "color": "#2a3f5f"
            },
            "error_y": {
             "color": "#2a3f5f"
            },
            "marker": {
             "line": {
              "color": "#E5ECF6",
              "width": 0.5
             },
             "pattern": {
              "fillmode": "overlay",
              "size": 10,
              "solidity": 0.2
             }
            },
            "type": "bar"
           }
          ],
          "barpolar": [
           {
            "marker": {
             "line": {
              "color": "#E5ECF6",
              "width": 0.5
             },
             "pattern": {
              "fillmode": "overlay",
              "size": 10,
              "solidity": 0.2
             }
            },
            "type": "barpolar"
           }
          ],
          "carpet": [
           {
            "aaxis": {
             "endlinecolor": "#2a3f5f",
             "gridcolor": "white",
             "linecolor": "white",
             "minorgridcolor": "white",
             "startlinecolor": "#2a3f5f"
            },
            "baxis": {
             "endlinecolor": "#2a3f5f",
             "gridcolor": "white",
             "linecolor": "white",
             "minorgridcolor": "white",
             "startlinecolor": "#2a3f5f"
            },
            "type": "carpet"
           }
          ],
          "choropleth": [
           {
            "colorbar": {
             "outlinewidth": 0,
             "ticks": ""
            },
            "type": "choropleth"
           }
          ],
          "contour": [
           {
            "colorbar": {
             "outlinewidth": 0,
             "ticks": ""
            },
            "colorscale": [
             [
              0,
              "#0d0887"
             ],
             [
              0.1111111111111111,
              "#46039f"
             ],
             [
              0.2222222222222222,
              "#7201a8"
             ],
             [
              0.3333333333333333,
              "#9c179e"
             ],
             [
              0.4444444444444444,
              "#bd3786"
             ],
             [
              0.5555555555555556,
              "#d8576b"
             ],
             [
              0.6666666666666666,
              "#ed7953"
             ],
             [
              0.7777777777777778,
              "#fb9f3a"
             ],
             [
              0.8888888888888888,
              "#fdca26"
             ],
             [
              1,
              "#f0f921"
             ]
            ],
            "type": "contour"
           }
          ],
          "contourcarpet": [
           {
            "colorbar": {
             "outlinewidth": 0,
             "ticks": ""
            },
            "type": "contourcarpet"
           }
          ],
          "heatmap": [
           {
            "colorbar": {
             "outlinewidth": 0,
             "ticks": ""
            },
            "colorscale": [
             [
              0,
              "#0d0887"
             ],
             [
              0.1111111111111111,
              "#46039f"
             ],
             [
              0.2222222222222222,
              "#7201a8"
             ],
             [
              0.3333333333333333,
              "#9c179e"
             ],
             [
              0.4444444444444444,
              "#bd3786"
             ],
             [
              0.5555555555555556,
              "#d8576b"
             ],
             [
              0.6666666666666666,
              "#ed7953"
             ],
             [
              0.7777777777777778,
              "#fb9f3a"
             ],
             [
              0.8888888888888888,
              "#fdca26"
             ],
             [
              1,
              "#f0f921"
             ]
            ],
            "type": "heatmap"
           }
          ],
          "heatmapgl": [
           {
            "colorbar": {
             "outlinewidth": 0,
             "ticks": ""
            },
            "colorscale": [
             [
              0,
              "#0d0887"
             ],
             [
              0.1111111111111111,
              "#46039f"
             ],
             [
              0.2222222222222222,
              "#7201a8"
             ],
             [
              0.3333333333333333,
              "#9c179e"
             ],
             [
              0.4444444444444444,
              "#bd3786"
             ],
             [
              0.5555555555555556,
              "#d8576b"
             ],
             [
              0.6666666666666666,
              "#ed7953"
             ],
             [
              0.7777777777777778,
              "#fb9f3a"
             ],
             [
              0.8888888888888888,
              "#fdca26"
             ],
             [
              1,
              "#f0f921"
             ]
            ],
            "type": "heatmapgl"
           }
          ],
          "histogram": [
           {
            "marker": {
             "pattern": {
              "fillmode": "overlay",
              "size": 10,
              "solidity": 0.2
             }
            },
            "type": "histogram"
           }
          ],
          "histogram2d": [
           {
            "colorbar": {
             "outlinewidth": 0,
             "ticks": ""
            },
            "colorscale": [
             [
              0,
              "#0d0887"
             ],
             [
              0.1111111111111111,
              "#46039f"
             ],
             [
              0.2222222222222222,
              "#7201a8"
             ],
             [
              0.3333333333333333,
              "#9c179e"
             ],
             [
              0.4444444444444444,
              "#bd3786"
             ],
             [
              0.5555555555555556,
              "#d8576b"
             ],
             [
              0.6666666666666666,
              "#ed7953"
             ],
             [
              0.7777777777777778,
              "#fb9f3a"
             ],
             [
              0.8888888888888888,
              "#fdca26"
             ],
             [
              1,
              "#f0f921"
             ]
            ],
            "type": "histogram2d"
           }
          ],
          "histogram2dcontour": [
           {
            "colorbar": {
             "outlinewidth": 0,
             "ticks": ""
            },
            "colorscale": [
             [
              0,
              "#0d0887"
             ],
             [
              0.1111111111111111,
              "#46039f"
             ],
             [
              0.2222222222222222,
              "#7201a8"
             ],
             [
              0.3333333333333333,
              "#9c179e"
             ],
             [
              0.4444444444444444,
              "#bd3786"
             ],
             [
              0.5555555555555556,
              "#d8576b"
             ],
             [
              0.6666666666666666,
              "#ed7953"
             ],
             [
              0.7777777777777778,
              "#fb9f3a"
             ],
             [
              0.8888888888888888,
              "#fdca26"
             ],
             [
              1,
              "#f0f921"
             ]
            ],
            "type": "histogram2dcontour"
           }
          ],
          "mesh3d": [
           {
            "colorbar": {
             "outlinewidth": 0,
             "ticks": ""
            },
            "type": "mesh3d"
           }
          ],
          "parcoords": [
           {
            "line": {
             "colorbar": {
              "outlinewidth": 0,
              "ticks": ""
             }
            },
            "type": "parcoords"
           }
          ],
          "pie": [
           {
            "automargin": true,
            "type": "pie"
           }
          ],
          "scatter": [
           {
            "fillpattern": {
             "fillmode": "overlay",
             "size": 10,
             "solidity": 0.2
            },
            "type": "scatter"
           }
          ],
          "scatter3d": [
           {
            "line": {
             "colorbar": {
              "outlinewidth": 0,
              "ticks": ""
             }
            },
            "marker": {
             "colorbar": {
              "outlinewidth": 0,
              "ticks": ""
             }
            },
            "type": "scatter3d"
           }
          ],
          "scattercarpet": [
           {
            "marker": {
             "colorbar": {
              "outlinewidth": 0,
              "ticks": ""
             }
            },
            "type": "scattercarpet"
           }
          ],
          "scattergeo": [
           {
            "marker": {
             "colorbar": {
              "outlinewidth": 0,
              "ticks": ""
             }
            },
            "type": "scattergeo"
           }
          ],
          "scattergl": [
           {
            "marker": {
             "colorbar": {
              "outlinewidth": 0,
              "ticks": ""
             }
            },
            "type": "scattergl"
           }
          ],
          "scattermapbox": [
           {
            "marker": {
             "colorbar": {
              "outlinewidth": 0,
              "ticks": ""
             }
            },
            "type": "scattermapbox"
           }
          ],
          "scatterpolar": [
           {
            "marker": {
             "colorbar": {
              "outlinewidth": 0,
              "ticks": ""
             }
            },
            "type": "scatterpolar"
           }
          ],
          "scatterpolargl": [
           {
            "marker": {
             "colorbar": {
              "outlinewidth": 0,
              "ticks": ""
             }
            },
            "type": "scatterpolargl"
           }
          ],
          "scatterternary": [
           {
            "marker": {
             "colorbar": {
              "outlinewidth": 0,
              "ticks": ""
             }
            },
            "type": "scatterternary"
           }
          ],
          "surface": [
           {
            "colorbar": {
             "outlinewidth": 0,
             "ticks": ""
            },
            "colorscale": [
             [
              0,
              "#0d0887"
             ],
             [
              0.1111111111111111,
              "#46039f"
             ],
             [
              0.2222222222222222,
              "#7201a8"
             ],
             [
              0.3333333333333333,
              "#9c179e"
             ],
             [
              0.4444444444444444,
              "#bd3786"
             ],
             [
              0.5555555555555556,
              "#d8576b"
             ],
             [
              0.6666666666666666,
              "#ed7953"
             ],
             [
              0.7777777777777778,
              "#fb9f3a"
             ],
             [
              0.8888888888888888,
              "#fdca26"
             ],
             [
              1,
              "#f0f921"
             ]
            ],
            "type": "surface"
           }
          ],
          "table": [
           {
            "cells": {
             "fill": {
              "color": "#EBF0F8"
             },
             "line": {
              "color": "white"
             }
            },
            "header": {
             "fill": {
              "color": "#C8D4E3"
             },
             "line": {
              "color": "white"
             }
            },
            "type": "table"
           }
          ]
         },
         "layout": {
          "annotationdefaults": {
           "arrowcolor": "#2a3f5f",
           "arrowhead": 0,
           "arrowwidth": 1
          },
          "autotypenumbers": "strict",
          "coloraxis": {
           "colorbar": {
            "outlinewidth": 0,
            "ticks": ""
           }
          },
          "colorscale": {
           "diverging": [
            [
             0,
             "#8e0152"
            ],
            [
             0.1,
             "#c51b7d"
            ],
            [
             0.2,
             "#de77ae"
            ],
            [
             0.3,
             "#f1b6da"
            ],
            [
             0.4,
             "#fde0ef"
            ],
            [
             0.5,
             "#f7f7f7"
            ],
            [
             0.6,
             "#e6f5d0"
            ],
            [
             0.7,
             "#b8e186"
            ],
            [
             0.8,
             "#7fbc41"
            ],
            [
             0.9,
             "#4d9221"
            ],
            [
             1,
             "#276419"
            ]
           ],
           "sequential": [
            [
             0,
             "#0d0887"
            ],
            [
             0.1111111111111111,
             "#46039f"
            ],
            [
             0.2222222222222222,
             "#7201a8"
            ],
            [
             0.3333333333333333,
             "#9c179e"
            ],
            [
             0.4444444444444444,
             "#bd3786"
            ],
            [
             0.5555555555555556,
             "#d8576b"
            ],
            [
             0.6666666666666666,
             "#ed7953"
            ],
            [
             0.7777777777777778,
             "#fb9f3a"
            ],
            [
             0.8888888888888888,
             "#fdca26"
            ],
            [
             1,
             "#f0f921"
            ]
           ],
           "sequentialminus": [
            [
             0,
             "#0d0887"
            ],
            [
             0.1111111111111111,
             "#46039f"
            ],
            [
             0.2222222222222222,
             "#7201a8"
            ],
            [
             0.3333333333333333,
             "#9c179e"
            ],
            [
             0.4444444444444444,
             "#bd3786"
            ],
            [
             0.5555555555555556,
             "#d8576b"
            ],
            [
             0.6666666666666666,
             "#ed7953"
            ],
            [
             0.7777777777777778,
             "#fb9f3a"
            ],
            [
             0.8888888888888888,
             "#fdca26"
            ],
            [
             1,
             "#f0f921"
            ]
           ]
          },
          "colorway": [
           "#636efa",
           "#EF553B",
           "#00cc96",
           "#ab63fa",
           "#FFA15A",
           "#19d3f3",
           "#FF6692",
           "#B6E880",
           "#FF97FF",
           "#FECB52"
          ],
          "font": {
           "color": "#2a3f5f"
          },
          "geo": {
           "bgcolor": "white",
           "lakecolor": "white",
           "landcolor": "#E5ECF6",
           "showlakes": true,
           "showland": true,
           "subunitcolor": "white"
          },
          "hoverlabel": {
           "align": "left"
          },
          "hovermode": "closest",
          "mapbox": {
           "style": "light"
          },
          "paper_bgcolor": "white",
          "plot_bgcolor": "#E5ECF6",
          "polar": {
           "angularaxis": {
            "gridcolor": "white",
            "linecolor": "white",
            "ticks": ""
           },
           "bgcolor": "#E5ECF6",
           "radialaxis": {
            "gridcolor": "white",
            "linecolor": "white",
            "ticks": ""
           }
          },
          "scene": {
           "xaxis": {
            "backgroundcolor": "#E5ECF6",
            "gridcolor": "white",
            "gridwidth": 2,
            "linecolor": "white",
            "showbackground": true,
            "ticks": "",
            "zerolinecolor": "white"
           },
           "yaxis": {
            "backgroundcolor": "#E5ECF6",
            "gridcolor": "white",
            "gridwidth": 2,
            "linecolor": "white",
            "showbackground": true,
            "ticks": "",
            "zerolinecolor": "white"
           },
           "zaxis": {
            "backgroundcolor": "#E5ECF6",
            "gridcolor": "white",
            "gridwidth": 2,
            "linecolor": "white",
            "showbackground": true,
            "ticks": "",
            "zerolinecolor": "white"
           }
          },
          "shapedefaults": {
           "line": {
            "color": "#2a3f5f"
           }
          },
          "ternary": {
           "aaxis": {
            "gridcolor": "white",
            "linecolor": "white",
            "ticks": ""
           },
           "baxis": {
            "gridcolor": "white",
            "linecolor": "white",
            "ticks": ""
           },
           "bgcolor": "#E5ECF6",
           "caxis": {
            "gridcolor": "white",
            "linecolor": "white",
            "ticks": ""
           }
          },
          "title": {
           "x": 0.05
          },
          "xaxis": {
           "automargin": true,
           "gridcolor": "white",
           "linecolor": "white",
           "ticks": "",
           "title": {
            "standoff": 15
           },
           "zerolinecolor": "white",
           "zerolinewidth": 2
          },
          "yaxis": {
           "automargin": true,
           "gridcolor": "white",
           "linecolor": "white",
           "ticks": "",
           "title": {
            "standoff": 15
           },
           "zerolinecolor": "white",
           "zerolinewidth": 2
          }
         }
        },
        "title": {
         "text": "Pie Chart based on study year count"
        }
       }
      }
     },
     "metadata": {},
     "output_type": "display_data"
    }
   ],
   "source": [
    "import plotly.express as px\n",
    "\n",
    "# Calculate value counts\n",
    "value_counts = dataset['Age'].value_counts()\n",
    "value_counts2 = dataset['Study Year'].value_counts()\n",
    "\n",
    "# Create a pie chart using Plotly Express\n",
    "fig = px.pie(names=value_counts.index, values=value_counts.values,\n",
    "             title='Pie Chart based on age count')\n",
    "fig2 = px.pie(names=value_counts2.index, values=value_counts2.values,\n",
    "              title='Pie Chart based on study year count')\n",
    "\n",
    "# Show the plot\n",
    "fig.show()\n",
    "fig2.show()"
   ]
  },
  {
   "cell_type": "code",
   "execution_count": 32,
   "metadata": {},
   "outputs": [
    {
     "data": {
      "application/vnd.plotly.v1+json": {
       "config": {
        "plotlyServerURL": "https://plot.ly"
       },
       "data": [
        {
         "alignmentgroup": "True",
         "hovertemplate": "CGPA=3.00-3.49<br>Age=%{x}<br>Course=%{y}<extra></extra>",
         "legendgroup": "3.00-3.49",
         "marker": {
          "color": "#636efa",
          "pattern": {
           "shape": ""
          }
         },
         "name": "3.00-3.49",
         "offsetgroup": "3.00-3.49",
         "orientation": "h",
         "showlegend": true,
         "textposition": "auto",
         "type": "bar",
         "x": [
          18,
          21,
          19,
          22,
          23,
          18,
          19,
          24,
          24,
          19,
          18,
          24,
          18,
          23,
          18,
          19,
          18,
          24,
          20,
          24,
          19,
          20,
          21,
          20,
          23,
          18,
          18,
          19,
          24,
          24,
          19,
          23,
          18,
          19,
          19,
          23,
          19,
          24,
          18,
          19,
          18,
          18,
          20
         ],
         "xaxis": "x",
         "y": [
          "Engineering and Technology",
          "Religious Studies",
          "Computer and Information Sciences",
          "Law",
          "Mathematics and Statistics",
          "Computer and Information Sciences",
          "Engineering and Technology",
          "Business and Economics",
          "Engineering and Technology",
          "Engineering and Technology",
          "Communication and Media",
          "Engineering and Technology",
          "Engineering and Technology",
          "Business and Economics",
          "Computer and Information Sciences",
          "Computer and Information Sciences",
          "Law",
          "Computer and Information Sciences",
          "Religious Studies",
          "Computer and Information Sciences",
          "Health Sciences",
          "Arts and Humanities",
          "Computer and Information Sciences",
          "Arts and Humanities",
          "Engineering and Technology",
          "Computer and Information Sciences",
          "Engineering and Technology",
          "Interdisciplinary Studies",
          "Engineering and Technology",
          "Health Sciences",
          "Computer and Information Sciences",
          "Engineering and Technology",
          "Social Sciences",
          "Engineering and Technology",
          "Religious Studies",
          "Health Sciences",
          "Religious Studies",
          "Computer and Information Sciences",
          "Computer and Information Sciences",
          "Engineering and Technology",
          "Arts and Humanities",
          "Engineering and Technology",
          "Health Sciences"
         ],
         "yaxis": "y"
        },
        {
         "alignmentgroup": "True",
         "hovertemplate": "CGPA=3.50-4.00<br>Age=%{x}<br>Course=%{y}<extra></extra>",
         "legendgroup": "3.50-4.00",
         "marker": {
          "color": "#EF553B",
          "pattern": {
           "shape": ""
          }
         },
         "name": "3.50-4.00",
         "offsetgroup": "3.50-4.00",
         "orientation": "h",
         "showlegend": true,
         "textposition": "auto",
         "type": "bar",
         "x": [
          19,
          23,
          18,
          18,
          20,
          24,
          18,
          24,
          20,
          18,
          24,
          23,
          18,
          19,
          24,
          24,
          19,
          18,
          18,
          22,
          23,
          18,
          19,
          18,
          24,
          18,
          19,
          23,
          18,
          19,
          18,
          24,
          24,
          23,
          18,
          18,
          24,
          24,
          18,
          24,
          24,
          18,
          18,
          23,
          18,
          21,
          19,
          23
         ],
         "xaxis": "x",
         "y": [
          "Engineering and Technology",
          "Religious Studies",
          "Computer and Information Sciences",
          "Interdisciplinary Studies",
          "Social Sciences",
          "Engineering and Technology",
          "Engineering and Technology",
          "Computer and Information Sciences",
          "Computer and Information Sciences",
          "Agriculture and Environmental Studies",
          "Computer and Information Sciences",
          "Computer and Information Sciences",
          "Business and Economics",
          "Engineering and Technology",
          "Computer and Information Sciences",
          "Computer and Information Sciences",
          "Computer and Information Sciences",
          "Computer and Information Sciences",
          "Religious Studies",
          "Engineering and Technology",
          "Communication and Media",
          "Computer and Information Sciences",
          "Engineering and Technology",
          "Engineering and Technology",
          "Computer and Information Sciences",
          "Computer and Information Sciences",
          "Computer and Information Sciences",
          "Arts and Humanities",
          "Computer and Information Sciences",
          "Computer and Information Sciences",
          "Engineering and Technology",
          "Engineering and Technology",
          "Engineering and Technology",
          "Business and Economics",
          "Computer and Information Sciences",
          "Law",
          "Computer and Information Sciences",
          "Engineering and Technology",
          "Engineering and Technology",
          "Communication and Media",
          "Health Sciences",
          "Social Sciences",
          "Social Sciences",
          "Arts and Humanities",
          "Religious Studies",
          "Computer and Information Sciences",
          "Health Sciences",
          "Religious Studies"
         ],
         "yaxis": "y"
        },
        {
         "alignmentgroup": "True",
         "hovertemplate": "CGPA=2.50-2.99<br>Age=%{x}<br>Course=%{y}<extra></extra>",
         "legendgroup": "2.50-2.99",
         "marker": {
          "color": "#00cc96",
          "pattern": {
           "shape": ""
          }
         },
         "name": "2.50-2.99",
         "offsetgroup": "2.50-2.99",
         "orientation": "h",
         "showlegend": true,
         "textposition": "auto",
         "type": "bar",
         "x": [
          19,
          19,
          24,
          23
         ],
         "xaxis": "x",
         "y": [
          "Business and Economics",
          "Computer and Information Sciences",
          "Engineering and Technology",
          "Interdisciplinary Studies"
         ],
         "yaxis": "y"
        },
        {
         "alignmentgroup": "True",
         "hovertemplate": "CGPA=2.00-2.49<br>Age=%{x}<br>Course=%{y}<extra></extra>",
         "legendgroup": "2.00-2.49",
         "marker": {
          "color": "#ab63fa",
          "pattern": {
           "shape": ""
          }
         },
         "name": "2.00-2.49",
         "offsetgroup": "2.00-2.49",
         "orientation": "h",
         "showlegend": true,
         "textposition": "auto",
         "type": "bar",
         "x": [
          18,
          24
         ],
         "xaxis": "x",
         "y": [
          "Engineering and Technology",
          "Engineering and Technology"
         ],
         "yaxis": "y"
        },
        {
         "alignmentgroup": "True",
         "hovertemplate": "CGPA=0-1.99<br>Age=%{x}<br>Course=%{y}<extra></extra>",
         "legendgroup": "0-1.99",
         "marker": {
          "color": "#FFA15A",
          "pattern": {
           "shape": ""
          }
         },
         "name": "0-1.99",
         "offsetgroup": "0-1.99",
         "orientation": "h",
         "showlegend": true,
         "textposition": "auto",
         "type": "bar",
         "x": [
          20,
          18,
          19,
          24
         ],
         "xaxis": "x",
         "y": [
          "Computer and Information Sciences",
          "Health Sciences",
          "Engineering and Technology",
          "Religious Studies"
         ],
         "yaxis": "y"
        }
       ],
       "layout": {
        "barmode": "relative",
        "legend": {
         "title": {
          "text": "CGPA"
         },
         "tracegroupgap": 0
        },
        "margin": {
         "t": 60
        },
        "template": {
         "data": {
          "bar": [
           {
            "error_x": {
             "color": "#2a3f5f"
            },
            "error_y": {
             "color": "#2a3f5f"
            },
            "marker": {
             "line": {
              "color": "#E5ECF6",
              "width": 0.5
             },
             "pattern": {
              "fillmode": "overlay",
              "size": 10,
              "solidity": 0.2
             }
            },
            "type": "bar"
           }
          ],
          "barpolar": [
           {
            "marker": {
             "line": {
              "color": "#E5ECF6",
              "width": 0.5
             },
             "pattern": {
              "fillmode": "overlay",
              "size": 10,
              "solidity": 0.2
             }
            },
            "type": "barpolar"
           }
          ],
          "carpet": [
           {
            "aaxis": {
             "endlinecolor": "#2a3f5f",
             "gridcolor": "white",
             "linecolor": "white",
             "minorgridcolor": "white",
             "startlinecolor": "#2a3f5f"
            },
            "baxis": {
             "endlinecolor": "#2a3f5f",
             "gridcolor": "white",
             "linecolor": "white",
             "minorgridcolor": "white",
             "startlinecolor": "#2a3f5f"
            },
            "type": "carpet"
           }
          ],
          "choropleth": [
           {
            "colorbar": {
             "outlinewidth": 0,
             "ticks": ""
            },
            "type": "choropleth"
           }
          ],
          "contour": [
           {
            "colorbar": {
             "outlinewidth": 0,
             "ticks": ""
            },
            "colorscale": [
             [
              0,
              "#0d0887"
             ],
             [
              0.1111111111111111,
              "#46039f"
             ],
             [
              0.2222222222222222,
              "#7201a8"
             ],
             [
              0.3333333333333333,
              "#9c179e"
             ],
             [
              0.4444444444444444,
              "#bd3786"
             ],
             [
              0.5555555555555556,
              "#d8576b"
             ],
             [
              0.6666666666666666,
              "#ed7953"
             ],
             [
              0.7777777777777778,
              "#fb9f3a"
             ],
             [
              0.8888888888888888,
              "#fdca26"
             ],
             [
              1,
              "#f0f921"
             ]
            ],
            "type": "contour"
           }
          ],
          "contourcarpet": [
           {
            "colorbar": {
             "outlinewidth": 0,
             "ticks": ""
            },
            "type": "contourcarpet"
           }
          ],
          "heatmap": [
           {
            "colorbar": {
             "outlinewidth": 0,
             "ticks": ""
            },
            "colorscale": [
             [
              0,
              "#0d0887"
             ],
             [
              0.1111111111111111,
              "#46039f"
             ],
             [
              0.2222222222222222,
              "#7201a8"
             ],
             [
              0.3333333333333333,
              "#9c179e"
             ],
             [
              0.4444444444444444,
              "#bd3786"
             ],
             [
              0.5555555555555556,
              "#d8576b"
             ],
             [
              0.6666666666666666,
              "#ed7953"
             ],
             [
              0.7777777777777778,
              "#fb9f3a"
             ],
             [
              0.8888888888888888,
              "#fdca26"
             ],
             [
              1,
              "#f0f921"
             ]
            ],
            "type": "heatmap"
           }
          ],
          "heatmapgl": [
           {
            "colorbar": {
             "outlinewidth": 0,
             "ticks": ""
            },
            "colorscale": [
             [
              0,
              "#0d0887"
             ],
             [
              0.1111111111111111,
              "#46039f"
             ],
             [
              0.2222222222222222,
              "#7201a8"
             ],
             [
              0.3333333333333333,
              "#9c179e"
             ],
             [
              0.4444444444444444,
              "#bd3786"
             ],
             [
              0.5555555555555556,
              "#d8576b"
             ],
             [
              0.6666666666666666,
              "#ed7953"
             ],
             [
              0.7777777777777778,
              "#fb9f3a"
             ],
             [
              0.8888888888888888,
              "#fdca26"
             ],
             [
              1,
              "#f0f921"
             ]
            ],
            "type": "heatmapgl"
           }
          ],
          "histogram": [
           {
            "marker": {
             "pattern": {
              "fillmode": "overlay",
              "size": 10,
              "solidity": 0.2
             }
            },
            "type": "histogram"
           }
          ],
          "histogram2d": [
           {
            "colorbar": {
             "outlinewidth": 0,
             "ticks": ""
            },
            "colorscale": [
             [
              0,
              "#0d0887"
             ],
             [
              0.1111111111111111,
              "#46039f"
             ],
             [
              0.2222222222222222,
              "#7201a8"
             ],
             [
              0.3333333333333333,
              "#9c179e"
             ],
             [
              0.4444444444444444,
              "#bd3786"
             ],
             [
              0.5555555555555556,
              "#d8576b"
             ],
             [
              0.6666666666666666,
              "#ed7953"
             ],
             [
              0.7777777777777778,
              "#fb9f3a"
             ],
             [
              0.8888888888888888,
              "#fdca26"
             ],
             [
              1,
              "#f0f921"
             ]
            ],
            "type": "histogram2d"
           }
          ],
          "histogram2dcontour": [
           {
            "colorbar": {
             "outlinewidth": 0,
             "ticks": ""
            },
            "colorscale": [
             [
              0,
              "#0d0887"
             ],
             [
              0.1111111111111111,
              "#46039f"
             ],
             [
              0.2222222222222222,
              "#7201a8"
             ],
             [
              0.3333333333333333,
              "#9c179e"
             ],
             [
              0.4444444444444444,
              "#bd3786"
             ],
             [
              0.5555555555555556,
              "#d8576b"
             ],
             [
              0.6666666666666666,
              "#ed7953"
             ],
             [
              0.7777777777777778,
              "#fb9f3a"
             ],
             [
              0.8888888888888888,
              "#fdca26"
             ],
             [
              1,
              "#f0f921"
             ]
            ],
            "type": "histogram2dcontour"
           }
          ],
          "mesh3d": [
           {
            "colorbar": {
             "outlinewidth": 0,
             "ticks": ""
            },
            "type": "mesh3d"
           }
          ],
          "parcoords": [
           {
            "line": {
             "colorbar": {
              "outlinewidth": 0,
              "ticks": ""
             }
            },
            "type": "parcoords"
           }
          ],
          "pie": [
           {
            "automargin": true,
            "type": "pie"
           }
          ],
          "scatter": [
           {
            "fillpattern": {
             "fillmode": "overlay",
             "size": 10,
             "solidity": 0.2
            },
            "type": "scatter"
           }
          ],
          "scatter3d": [
           {
            "line": {
             "colorbar": {
              "outlinewidth": 0,
              "ticks": ""
             }
            },
            "marker": {
             "colorbar": {
              "outlinewidth": 0,
              "ticks": ""
             }
            },
            "type": "scatter3d"
           }
          ],
          "scattercarpet": [
           {
            "marker": {
             "colorbar": {
              "outlinewidth": 0,
              "ticks": ""
             }
            },
            "type": "scattercarpet"
           }
          ],
          "scattergeo": [
           {
            "marker": {
             "colorbar": {
              "outlinewidth": 0,
              "ticks": ""
             }
            },
            "type": "scattergeo"
           }
          ],
          "scattergl": [
           {
            "marker": {
             "colorbar": {
              "outlinewidth": 0,
              "ticks": ""
             }
            },
            "type": "scattergl"
           }
          ],
          "scattermapbox": [
           {
            "marker": {
             "colorbar": {
              "outlinewidth": 0,
              "ticks": ""
             }
            },
            "type": "scattermapbox"
           }
          ],
          "scatterpolar": [
           {
            "marker": {
             "colorbar": {
              "outlinewidth": 0,
              "ticks": ""
             }
            },
            "type": "scatterpolar"
           }
          ],
          "scatterpolargl": [
           {
            "marker": {
             "colorbar": {
              "outlinewidth": 0,
              "ticks": ""
             }
            },
            "type": "scatterpolargl"
           }
          ],
          "scatterternary": [
           {
            "marker": {
             "colorbar": {
              "outlinewidth": 0,
              "ticks": ""
             }
            },
            "type": "scatterternary"
           }
          ],
          "surface": [
           {
            "colorbar": {
             "outlinewidth": 0,
             "ticks": ""
            },
            "colorscale": [
             [
              0,
              "#0d0887"
             ],
             [
              0.1111111111111111,
              "#46039f"
             ],
             [
              0.2222222222222222,
              "#7201a8"
             ],
             [
              0.3333333333333333,
              "#9c179e"
             ],
             [
              0.4444444444444444,
              "#bd3786"
             ],
             [
              0.5555555555555556,
              "#d8576b"
             ],
             [
              0.6666666666666666,
              "#ed7953"
             ],
             [
              0.7777777777777778,
              "#fb9f3a"
             ],
             [
              0.8888888888888888,
              "#fdca26"
             ],
             [
              1,
              "#f0f921"
             ]
            ],
            "type": "surface"
           }
          ],
          "table": [
           {
            "cells": {
             "fill": {
              "color": "#EBF0F8"
             },
             "line": {
              "color": "white"
             }
            },
            "header": {
             "fill": {
              "color": "#C8D4E3"
             },
             "line": {
              "color": "white"
             }
            },
            "type": "table"
           }
          ]
         },
         "layout": {
          "annotationdefaults": {
           "arrowcolor": "#2a3f5f",
           "arrowhead": 0,
           "arrowwidth": 1
          },
          "autotypenumbers": "strict",
          "coloraxis": {
           "colorbar": {
            "outlinewidth": 0,
            "ticks": ""
           }
          },
          "colorscale": {
           "diverging": [
            [
             0,
             "#8e0152"
            ],
            [
             0.1,
             "#c51b7d"
            ],
            [
             0.2,
             "#de77ae"
            ],
            [
             0.3,
             "#f1b6da"
            ],
            [
             0.4,
             "#fde0ef"
            ],
            [
             0.5,
             "#f7f7f7"
            ],
            [
             0.6,
             "#e6f5d0"
            ],
            [
             0.7,
             "#b8e186"
            ],
            [
             0.8,
             "#7fbc41"
            ],
            [
             0.9,
             "#4d9221"
            ],
            [
             1,
             "#276419"
            ]
           ],
           "sequential": [
            [
             0,
             "#0d0887"
            ],
            [
             0.1111111111111111,
             "#46039f"
            ],
            [
             0.2222222222222222,
             "#7201a8"
            ],
            [
             0.3333333333333333,
             "#9c179e"
            ],
            [
             0.4444444444444444,
             "#bd3786"
            ],
            [
             0.5555555555555556,
             "#d8576b"
            ],
            [
             0.6666666666666666,
             "#ed7953"
            ],
            [
             0.7777777777777778,
             "#fb9f3a"
            ],
            [
             0.8888888888888888,
             "#fdca26"
            ],
            [
             1,
             "#f0f921"
            ]
           ],
           "sequentialminus": [
            [
             0,
             "#0d0887"
            ],
            [
             0.1111111111111111,
             "#46039f"
            ],
            [
             0.2222222222222222,
             "#7201a8"
            ],
            [
             0.3333333333333333,
             "#9c179e"
            ],
            [
             0.4444444444444444,
             "#bd3786"
            ],
            [
             0.5555555555555556,
             "#d8576b"
            ],
            [
             0.6666666666666666,
             "#ed7953"
            ],
            [
             0.7777777777777778,
             "#fb9f3a"
            ],
            [
             0.8888888888888888,
             "#fdca26"
            ],
            [
             1,
             "#f0f921"
            ]
           ]
          },
          "colorway": [
           "#636efa",
           "#EF553B",
           "#00cc96",
           "#ab63fa",
           "#FFA15A",
           "#19d3f3",
           "#FF6692",
           "#B6E880",
           "#FF97FF",
           "#FECB52"
          ],
          "font": {
           "color": "#2a3f5f"
          },
          "geo": {
           "bgcolor": "white",
           "lakecolor": "white",
           "landcolor": "#E5ECF6",
           "showlakes": true,
           "showland": true,
           "subunitcolor": "white"
          },
          "hoverlabel": {
           "align": "left"
          },
          "hovermode": "closest",
          "mapbox": {
           "style": "light"
          },
          "paper_bgcolor": "white",
          "plot_bgcolor": "#E5ECF6",
          "polar": {
           "angularaxis": {
            "gridcolor": "white",
            "linecolor": "white",
            "ticks": ""
           },
           "bgcolor": "#E5ECF6",
           "radialaxis": {
            "gridcolor": "white",
            "linecolor": "white",
            "ticks": ""
           }
          },
          "scene": {
           "xaxis": {
            "backgroundcolor": "#E5ECF6",
            "gridcolor": "white",
            "gridwidth": 2,
            "linecolor": "white",
            "showbackground": true,
            "ticks": "",
            "zerolinecolor": "white"
           },
           "yaxis": {
            "backgroundcolor": "#E5ECF6",
            "gridcolor": "white",
            "gridwidth": 2,
            "linecolor": "white",
            "showbackground": true,
            "ticks": "",
            "zerolinecolor": "white"
           },
           "zaxis": {
            "backgroundcolor": "#E5ECF6",
            "gridcolor": "white",
            "gridwidth": 2,
            "linecolor": "white",
            "showbackground": true,
            "ticks": "",
            "zerolinecolor": "white"
           }
          },
          "shapedefaults": {
           "line": {
            "color": "#2a3f5f"
           }
          },
          "ternary": {
           "aaxis": {
            "gridcolor": "white",
            "linecolor": "white",
            "ticks": ""
           },
           "baxis": {
            "gridcolor": "white",
            "linecolor": "white",
            "ticks": ""
           },
           "bgcolor": "#E5ECF6",
           "caxis": {
            "gridcolor": "white",
            "linecolor": "white",
            "ticks": ""
           }
          },
          "title": {
           "x": 0.05
          },
          "xaxis": {
           "automargin": true,
           "gridcolor": "white",
           "linecolor": "white",
           "ticks": "",
           "title": {
            "standoff": 15
           },
           "zerolinecolor": "white",
           "zerolinewidth": 2
          },
          "yaxis": {
           "automargin": true,
           "gridcolor": "white",
           "linecolor": "white",
           "ticks": "",
           "title": {
            "standoff": 15
           },
           "zerolinecolor": "white",
           "zerolinewidth": 2
          }
         }
        },
        "xaxis": {
         "anchor": "y",
         "domain": [
          0,
          1
         ],
         "title": {
          "text": "Age"
         }
        },
        "yaxis": {
         "anchor": "x",
         "domain": [
          0,
          1
         ],
         "title": {
          "text": "Course"
         }
        }
       }
      }
     },
     "metadata": {},
     "output_type": "display_data"
    },
    {
     "data": {
      "text/plain": [
       "<Figure size 1280x960 with 0 Axes>"
      ]
     },
     "metadata": {},
     "output_type": "display_data"
    }
   ],
   "source": [
    "import matplotlib.pyplot as plt\n",
    "import plotly.graph_objects as go\n",
    "from plotly.subplots import make_subplots\n",
    "from plotly.offline import init_notebook_mode\n",
    "\n",
    "#dataset.sort_values(by=\"CGPA\", inplace=True)\n",
    "plt.figure(dpi=200)\n",
    "fig = px.bar(dataset, x=\"Age\", y=\"Course\",\n",
    "             orientation='h', color='CGPA')\n",
    "fig.show()"
   ]
  },
  {
   "cell_type": "code",
   "execution_count": 33,
   "metadata": {},
   "outputs": [
    {
     "data": {
      "application/vnd.plotly.v1+json": {
       "config": {
        "plotlyServerURL": "https://plot.ly"
       },
       "data": [
        {
         "line": {
          "color": "firebrick",
          "dash": "dashdot",
          "width": 4
         },
         "name": "Depression",
         "type": "scatter",
         "x": [
          18,
          21,
          19,
          22,
          23,
          19,
          23,
          18,
          19,
          18,
          20,
          24,
          18,
          19,
          18,
          24,
          24,
          24,
          20,
          18,
          19,
          18,
          24,
          24,
          23,
          18,
          19,
          18,
          24,
          24,
          23,
          18,
          19,
          18,
          19,
          18,
          18,
          19,
          18,
          24,
          24,
          22,
          20,
          20,
          23,
          18,
          19,
          18,
          24,
          24,
          23,
          18,
          19,
          20,
          19,
          21,
          23,
          20,
          18,
          23,
          18,
          19,
          18,
          24,
          24,
          23,
          18,
          19,
          18,
          24,
          24,
          18,
          19,
          18,
          24,
          24,
          23,
          18,
          19,
          18,
          24,
          24,
          19,
          19,
          23,
          18,
          19,
          18,
          24,
          24,
          23,
          18,
          19,
          18,
          24,
          18,
          21,
          18,
          19,
          23,
          20
         ],
         "y": [
          "Yes",
          "No",
          "Yes",
          "Yes",
          "No",
          "No",
          "Yes",
          "No",
          "No",
          "No",
          "No",
          "Yes",
          "Yes",
          "No",
          "No",
          "No",
          "No",
          "Yes",
          "No",
          "Yes",
          "No",
          "No",
          "No",
          "No",
          "Yes",
          "No",
          "No",
          "Yes",
          "Yes",
          "No",
          "No",
          "No",
          "No",
          "Yes",
          "Yes",
          "No",
          "Yes",
          "Yes",
          "No",
          "Yes",
          "No",
          "No",
          "Yes",
          "No",
          "No",
          "No",
          "No",
          "No",
          "Yes",
          "No",
          "Yes",
          "No",
          "No",
          "Yes",
          "Yes",
          "No",
          "No",
          "Yes",
          "No",
          "No",
          "No",
          "No",
          "No",
          "No",
          "No",
          "Yes",
          "No",
          "Yes",
          "Yes",
          "No",
          "No",
          "No",
          "Yes",
          "No",
          "No",
          "No",
          "Yes",
          "No",
          "No",
          "No",
          "Yes",
          "No",
          "Yes",
          "No",
          "No",
          "Yes",
          "No",
          "Yes",
          "No",
          "No",
          "No",
          "No",
          "Yes",
          "Yes",
          "No",
          "No",
          "No",
          "Yes",
          "Yes",
          "No",
          "No"
         ]
        },
        {
         "line": {
          "color": "royalblue",
          "dash": "dashdot",
          "width": 4
         },
         "name": "Panic Attack",
         "type": "scatter",
         "x": [
          18,
          21,
          19,
          22,
          23,
          19,
          23,
          18,
          19,
          18,
          20,
          24,
          18,
          19,
          18,
          24,
          24,
          24,
          20,
          18,
          19,
          18,
          24,
          24,
          23,
          18,
          19,
          18,
          24,
          24,
          23,
          18,
          19,
          18,
          19,
          18,
          18,
          19,
          18,
          24,
          24,
          22,
          20,
          20,
          23,
          18,
          19,
          18,
          24,
          24,
          23,
          18,
          19,
          20,
          19,
          21,
          23,
          20,
          18,
          23,
          18,
          19,
          18,
          24,
          24,
          23,
          18,
          19,
          18,
          24,
          24,
          18,
          19,
          18,
          24,
          24,
          23,
          18,
          19,
          18,
          24,
          24,
          19,
          19,
          23,
          18,
          19,
          18,
          24,
          24,
          23,
          18,
          19,
          18,
          24,
          18,
          21,
          18,
          19,
          23,
          20
         ],
         "y": [
          "Yes",
          "No",
          "Yes",
          "No",
          "No",
          "Yes",
          "Yes",
          "No",
          "No",
          "Yes",
          "No",
          "No",
          "No",
          "No",
          "No",
          "No",
          "No",
          "Yes",
          "No",
          "Yes",
          "Yes",
          "No",
          "No",
          "No",
          "Yes",
          "No",
          "No",
          "No",
          "Yes",
          "No",
          "No",
          "No",
          "Yes",
          "No",
          "Yes",
          "No",
          "No",
          "Yes",
          "No",
          "Yes",
          "No",
          "No",
          "No",
          "No",
          "Yes",
          "Yes",
          "No",
          "No",
          "No",
          "Yes",
          "Yes",
          "No",
          "No",
          "Yes",
          "Yes",
          "No",
          "No",
          "No",
          "No",
          "No",
          "Yes",
          "No",
          "Yes",
          "Yes",
          "No",
          "No",
          "No",
          "Yes",
          "No",
          "No",
          "No",
          "Yes",
          "No",
          "No",
          "No",
          "Yes",
          "No",
          "Yes",
          "No",
          "No",
          "Yes",
          "No",
          "No",
          "No",
          "No",
          "No",
          "No",
          "Yes",
          "No",
          "Yes",
          "Yes",
          "No",
          "No",
          "No",
          "Yes",
          "No",
          "No",
          "No",
          "Yes",
          "No",
          "No"
         ]
        },
        {
         "line": {
          "color": "black",
          "dash": "dashdot",
          "width": 4
         },
         "name": "Anxiety",
         "type": "scatter",
         "x": [
          18,
          21,
          19,
          22,
          23,
          19,
          23,
          18,
          19,
          18,
          20,
          24,
          18,
          19,
          18,
          24,
          24,
          24,
          20,
          18,
          19,
          18,
          24,
          24,
          23,
          18,
          19,
          18,
          24,
          24,
          23,
          18,
          19,
          18,
          19,
          18,
          18,
          19,
          18,
          24,
          24,
          22,
          20,
          20,
          23,
          18,
          19,
          18,
          24,
          24,
          23,
          18,
          19,
          20,
          19,
          21,
          23,
          20,
          18,
          23,
          18,
          19,
          18,
          24,
          24,
          23,
          18,
          19,
          18,
          24,
          24,
          18,
          19,
          18,
          24,
          24,
          23,
          18,
          19,
          18,
          24,
          24,
          19,
          19,
          23,
          18,
          19,
          18,
          24,
          24,
          23,
          18,
          19,
          18,
          24,
          18,
          21,
          18,
          19,
          23,
          20
         ],
         "y": [
          "No",
          "Yes",
          "Yes",
          "No",
          "No",
          "No",
          "No",
          "Yes",
          "No",
          "Yes",
          "No",
          "No",
          "No",
          "No",
          "Yes",
          "No",
          "No",
          "Yes",
          "Yes",
          "Yes",
          "No",
          "No",
          "No",
          "No",
          "Yes",
          "No",
          "No",
          "Yes",
          "Yes",
          "No",
          "No",
          "No",
          "No",
          "Yes",
          "Yes",
          "No",
          "Yes",
          "Yes",
          "No",
          "No",
          "Yes",
          "No",
          "No",
          "No",
          "No",
          "Yes",
          "Yes",
          "No",
          "No",
          "No",
          "No",
          "Yes",
          "No",
          "Yes",
          "No",
          "No",
          "No",
          "Yes",
          "No",
          "No",
          "No",
          "No",
          "No",
          "No",
          "No",
          "Yes",
          "Yes",
          "No",
          "No",
          "Yes",
          "No",
          "No",
          "No",
          "No",
          "Yes",
          "Yes",
          "No",
          "No",
          "No",
          "No",
          "Yes",
          "No",
          "Yes",
          "No",
          "No",
          "Yes",
          "No",
          "Yes",
          "Yes",
          "No",
          "No",
          "Yes",
          "No",
          "No",
          "No",
          "No",
          "Yes",
          "Yes",
          "No",
          "No",
          "No"
         ]
        }
       ],
       "layout": {
        "template": {
         "data": {
          "bar": [
           {
            "error_x": {
             "color": "#2a3f5f"
            },
            "error_y": {
             "color": "#2a3f5f"
            },
            "marker": {
             "line": {
              "color": "#E5ECF6",
              "width": 0.5
             },
             "pattern": {
              "fillmode": "overlay",
              "size": 10,
              "solidity": 0.2
             }
            },
            "type": "bar"
           }
          ],
          "barpolar": [
           {
            "marker": {
             "line": {
              "color": "#E5ECF6",
              "width": 0.5
             },
             "pattern": {
              "fillmode": "overlay",
              "size": 10,
              "solidity": 0.2
             }
            },
            "type": "barpolar"
           }
          ],
          "carpet": [
           {
            "aaxis": {
             "endlinecolor": "#2a3f5f",
             "gridcolor": "white",
             "linecolor": "white",
             "minorgridcolor": "white",
             "startlinecolor": "#2a3f5f"
            },
            "baxis": {
             "endlinecolor": "#2a3f5f",
             "gridcolor": "white",
             "linecolor": "white",
             "minorgridcolor": "white",
             "startlinecolor": "#2a3f5f"
            },
            "type": "carpet"
           }
          ],
          "choropleth": [
           {
            "colorbar": {
             "outlinewidth": 0,
             "ticks": ""
            },
            "type": "choropleth"
           }
          ],
          "contour": [
           {
            "colorbar": {
             "outlinewidth": 0,
             "ticks": ""
            },
            "colorscale": [
             [
              0,
              "#0d0887"
             ],
             [
              0.1111111111111111,
              "#46039f"
             ],
             [
              0.2222222222222222,
              "#7201a8"
             ],
             [
              0.3333333333333333,
              "#9c179e"
             ],
             [
              0.4444444444444444,
              "#bd3786"
             ],
             [
              0.5555555555555556,
              "#d8576b"
             ],
             [
              0.6666666666666666,
              "#ed7953"
             ],
             [
              0.7777777777777778,
              "#fb9f3a"
             ],
             [
              0.8888888888888888,
              "#fdca26"
             ],
             [
              1,
              "#f0f921"
             ]
            ],
            "type": "contour"
           }
          ],
          "contourcarpet": [
           {
            "colorbar": {
             "outlinewidth": 0,
             "ticks": ""
            },
            "type": "contourcarpet"
           }
          ],
          "heatmap": [
           {
            "colorbar": {
             "outlinewidth": 0,
             "ticks": ""
            },
            "colorscale": [
             [
              0,
              "#0d0887"
             ],
             [
              0.1111111111111111,
              "#46039f"
             ],
             [
              0.2222222222222222,
              "#7201a8"
             ],
             [
              0.3333333333333333,
              "#9c179e"
             ],
             [
              0.4444444444444444,
              "#bd3786"
             ],
             [
              0.5555555555555556,
              "#d8576b"
             ],
             [
              0.6666666666666666,
              "#ed7953"
             ],
             [
              0.7777777777777778,
              "#fb9f3a"
             ],
             [
              0.8888888888888888,
              "#fdca26"
             ],
             [
              1,
              "#f0f921"
             ]
            ],
            "type": "heatmap"
           }
          ],
          "heatmapgl": [
           {
            "colorbar": {
             "outlinewidth": 0,
             "ticks": ""
            },
            "colorscale": [
             [
              0,
              "#0d0887"
             ],
             [
              0.1111111111111111,
              "#46039f"
             ],
             [
              0.2222222222222222,
              "#7201a8"
             ],
             [
              0.3333333333333333,
              "#9c179e"
             ],
             [
              0.4444444444444444,
              "#bd3786"
             ],
             [
              0.5555555555555556,
              "#d8576b"
             ],
             [
              0.6666666666666666,
              "#ed7953"
             ],
             [
              0.7777777777777778,
              "#fb9f3a"
             ],
             [
              0.8888888888888888,
              "#fdca26"
             ],
             [
              1,
              "#f0f921"
             ]
            ],
            "type": "heatmapgl"
           }
          ],
          "histogram": [
           {
            "marker": {
             "pattern": {
              "fillmode": "overlay",
              "size": 10,
              "solidity": 0.2
             }
            },
            "type": "histogram"
           }
          ],
          "histogram2d": [
           {
            "colorbar": {
             "outlinewidth": 0,
             "ticks": ""
            },
            "colorscale": [
             [
              0,
              "#0d0887"
             ],
             [
              0.1111111111111111,
              "#46039f"
             ],
             [
              0.2222222222222222,
              "#7201a8"
             ],
             [
              0.3333333333333333,
              "#9c179e"
             ],
             [
              0.4444444444444444,
              "#bd3786"
             ],
             [
              0.5555555555555556,
              "#d8576b"
             ],
             [
              0.6666666666666666,
              "#ed7953"
             ],
             [
              0.7777777777777778,
              "#fb9f3a"
             ],
             [
              0.8888888888888888,
              "#fdca26"
             ],
             [
              1,
              "#f0f921"
             ]
            ],
            "type": "histogram2d"
           }
          ],
          "histogram2dcontour": [
           {
            "colorbar": {
             "outlinewidth": 0,
             "ticks": ""
            },
            "colorscale": [
             [
              0,
              "#0d0887"
             ],
             [
              0.1111111111111111,
              "#46039f"
             ],
             [
              0.2222222222222222,
              "#7201a8"
             ],
             [
              0.3333333333333333,
              "#9c179e"
             ],
             [
              0.4444444444444444,
              "#bd3786"
             ],
             [
              0.5555555555555556,
              "#d8576b"
             ],
             [
              0.6666666666666666,
              "#ed7953"
             ],
             [
              0.7777777777777778,
              "#fb9f3a"
             ],
             [
              0.8888888888888888,
              "#fdca26"
             ],
             [
              1,
              "#f0f921"
             ]
            ],
            "type": "histogram2dcontour"
           }
          ],
          "mesh3d": [
           {
            "colorbar": {
             "outlinewidth": 0,
             "ticks": ""
            },
            "type": "mesh3d"
           }
          ],
          "parcoords": [
           {
            "line": {
             "colorbar": {
              "outlinewidth": 0,
              "ticks": ""
             }
            },
            "type": "parcoords"
           }
          ],
          "pie": [
           {
            "automargin": true,
            "type": "pie"
           }
          ],
          "scatter": [
           {
            "fillpattern": {
             "fillmode": "overlay",
             "size": 10,
             "solidity": 0.2
            },
            "type": "scatter"
           }
          ],
          "scatter3d": [
           {
            "line": {
             "colorbar": {
              "outlinewidth": 0,
              "ticks": ""
             }
            },
            "marker": {
             "colorbar": {
              "outlinewidth": 0,
              "ticks": ""
             }
            },
            "type": "scatter3d"
           }
          ],
          "scattercarpet": [
           {
            "marker": {
             "colorbar": {
              "outlinewidth": 0,
              "ticks": ""
             }
            },
            "type": "scattercarpet"
           }
          ],
          "scattergeo": [
           {
            "marker": {
             "colorbar": {
              "outlinewidth": 0,
              "ticks": ""
             }
            },
            "type": "scattergeo"
           }
          ],
          "scattergl": [
           {
            "marker": {
             "colorbar": {
              "outlinewidth": 0,
              "ticks": ""
             }
            },
            "type": "scattergl"
           }
          ],
          "scattermapbox": [
           {
            "marker": {
             "colorbar": {
              "outlinewidth": 0,
              "ticks": ""
             }
            },
            "type": "scattermapbox"
           }
          ],
          "scatterpolar": [
           {
            "marker": {
             "colorbar": {
              "outlinewidth": 0,
              "ticks": ""
             }
            },
            "type": "scatterpolar"
           }
          ],
          "scatterpolargl": [
           {
            "marker": {
             "colorbar": {
              "outlinewidth": 0,
              "ticks": ""
             }
            },
            "type": "scatterpolargl"
           }
          ],
          "scatterternary": [
           {
            "marker": {
             "colorbar": {
              "outlinewidth": 0,
              "ticks": ""
             }
            },
            "type": "scatterternary"
           }
          ],
          "surface": [
           {
            "colorbar": {
             "outlinewidth": 0,
             "ticks": ""
            },
            "colorscale": [
             [
              0,
              "#0d0887"
             ],
             [
              0.1111111111111111,
              "#46039f"
             ],
             [
              0.2222222222222222,
              "#7201a8"
             ],
             [
              0.3333333333333333,
              "#9c179e"
             ],
             [
              0.4444444444444444,
              "#bd3786"
             ],
             [
              0.5555555555555556,
              "#d8576b"
             ],
             [
              0.6666666666666666,
              "#ed7953"
             ],
             [
              0.7777777777777778,
              "#fb9f3a"
             ],
             [
              0.8888888888888888,
              "#fdca26"
             ],
             [
              1,
              "#f0f921"
             ]
            ],
            "type": "surface"
           }
          ],
          "table": [
           {
            "cells": {
             "fill": {
              "color": "#EBF0F8"
             },
             "line": {
              "color": "white"
             }
            },
            "header": {
             "fill": {
              "color": "#C8D4E3"
             },
             "line": {
              "color": "white"
             }
            },
            "type": "table"
           }
          ]
         },
         "layout": {
          "annotationdefaults": {
           "arrowcolor": "#2a3f5f",
           "arrowhead": 0,
           "arrowwidth": 1
          },
          "autotypenumbers": "strict",
          "coloraxis": {
           "colorbar": {
            "outlinewidth": 0,
            "ticks": ""
           }
          },
          "colorscale": {
           "diverging": [
            [
             0,
             "#8e0152"
            ],
            [
             0.1,
             "#c51b7d"
            ],
            [
             0.2,
             "#de77ae"
            ],
            [
             0.3,
             "#f1b6da"
            ],
            [
             0.4,
             "#fde0ef"
            ],
            [
             0.5,
             "#f7f7f7"
            ],
            [
             0.6,
             "#e6f5d0"
            ],
            [
             0.7,
             "#b8e186"
            ],
            [
             0.8,
             "#7fbc41"
            ],
            [
             0.9,
             "#4d9221"
            ],
            [
             1,
             "#276419"
            ]
           ],
           "sequential": [
            [
             0,
             "#0d0887"
            ],
            [
             0.1111111111111111,
             "#46039f"
            ],
            [
             0.2222222222222222,
             "#7201a8"
            ],
            [
             0.3333333333333333,
             "#9c179e"
            ],
            [
             0.4444444444444444,
             "#bd3786"
            ],
            [
             0.5555555555555556,
             "#d8576b"
            ],
            [
             0.6666666666666666,
             "#ed7953"
            ],
            [
             0.7777777777777778,
             "#fb9f3a"
            ],
            [
             0.8888888888888888,
             "#fdca26"
            ],
            [
             1,
             "#f0f921"
            ]
           ],
           "sequentialminus": [
            [
             0,
             "#0d0887"
            ],
            [
             0.1111111111111111,
             "#46039f"
            ],
            [
             0.2222222222222222,
             "#7201a8"
            ],
            [
             0.3333333333333333,
             "#9c179e"
            ],
            [
             0.4444444444444444,
             "#bd3786"
            ],
            [
             0.5555555555555556,
             "#d8576b"
            ],
            [
             0.6666666666666666,
             "#ed7953"
            ],
            [
             0.7777777777777778,
             "#fb9f3a"
            ],
            [
             0.8888888888888888,
             "#fdca26"
            ],
            [
             1,
             "#f0f921"
            ]
           ]
          },
          "colorway": [
           "#636efa",
           "#EF553B",
           "#00cc96",
           "#ab63fa",
           "#FFA15A",
           "#19d3f3",
           "#FF6692",
           "#B6E880",
           "#FF97FF",
           "#FECB52"
          ],
          "font": {
           "color": "#2a3f5f"
          },
          "geo": {
           "bgcolor": "white",
           "lakecolor": "white",
           "landcolor": "#E5ECF6",
           "showlakes": true,
           "showland": true,
           "subunitcolor": "white"
          },
          "hoverlabel": {
           "align": "left"
          },
          "hovermode": "closest",
          "mapbox": {
           "style": "light"
          },
          "paper_bgcolor": "white",
          "plot_bgcolor": "#E5ECF6",
          "polar": {
           "angularaxis": {
            "gridcolor": "white",
            "linecolor": "white",
            "ticks": ""
           },
           "bgcolor": "#E5ECF6",
           "radialaxis": {
            "gridcolor": "white",
            "linecolor": "white",
            "ticks": ""
           }
          },
          "scene": {
           "xaxis": {
            "backgroundcolor": "#E5ECF6",
            "gridcolor": "white",
            "gridwidth": 2,
            "linecolor": "white",
            "showbackground": true,
            "ticks": "",
            "zerolinecolor": "white"
           },
           "yaxis": {
            "backgroundcolor": "#E5ECF6",
            "gridcolor": "white",
            "gridwidth": 2,
            "linecolor": "white",
            "showbackground": true,
            "ticks": "",
            "zerolinecolor": "white"
           },
           "zaxis": {
            "backgroundcolor": "#E5ECF6",
            "gridcolor": "white",
            "gridwidth": 2,
            "linecolor": "white",
            "showbackground": true,
            "ticks": "",
            "zerolinecolor": "white"
           }
          },
          "shapedefaults": {
           "line": {
            "color": "#2a3f5f"
           }
          },
          "ternary": {
           "aaxis": {
            "gridcolor": "white",
            "linecolor": "white",
            "ticks": ""
           },
           "baxis": {
            "gridcolor": "white",
            "linecolor": "white",
            "ticks": ""
           },
           "bgcolor": "#E5ECF6",
           "caxis": {
            "gridcolor": "white",
            "linecolor": "white",
            "ticks": ""
           }
          },
          "title": {
           "x": 0.05
          },
          "xaxis": {
           "automargin": true,
           "gridcolor": "white",
           "linecolor": "white",
           "ticks": "",
           "title": {
            "standoff": 15
           },
           "zerolinecolor": "white",
           "zerolinewidth": 2
          },
          "yaxis": {
           "automargin": true,
           "gridcolor": "white",
           "linecolor": "white",
           "ticks": "",
           "title": {
            "standoff": 15
           },
           "zerolinecolor": "white",
           "zerolinewidth": 2
          }
         }
        },
        "title": {
         "text": "Depressive symptoms across ages"
        },
        "xaxis": {
         "title": {
          "text": "Age Groups"
         }
        },
        "yaxis": {
         "title": {
          "text": "Types of issue"
         }
        }
       }
      }
     },
     "metadata": {},
     "output_type": "display_data"
    }
   ],
   "source": [
    "# dataset.sort_values(by=\"Study Year\", inplace=True)\n",
    "\n",
    "x = dataset[\"Age\"]\n",
    "\n",
    "fig = go.Figure()\n",
    "\n",
    "# Create and style traces\n",
    "\n",
    "fig.add_trace(go.Scatter(x=x, y=dataset[\"Depression\"], name='Depression', line=dict(\n",
    "    color='firebrick', width=4, dash='dashdot')))\n",
    "\n",
    "fig.add_trace(go.Scatter(x=x, y=dataset[\"Panic Attack\"], name='Panic Attack', line=dict(\n",
    "    color='royalblue', width=4, dash='dashdot')))\n",
    "\n",
    "fig.add_trace(go.Scatter(x=x, y=dataset[\"Anxiety\"], name='Anxiety', line=dict(\n",
    "    color='black', width=4, dash='dashdot')))\n",
    "\n",
    "\n",
    "# Edit the layout\n",
    "\n",
    "fig.update_layout(title='Depressive symptoms across ages',\n",
    "                  xaxis_title='Age Groups', yaxis_title='Types of issue')\n",
    "\n",
    "\n",
    "fig.show()"
   ]
  },
  {
   "cell_type": "code",
   "execution_count": 34,
   "metadata": {},
   "outputs": [
    {
     "data": {
      "application/vnd.plotly.v1+json": {
       "config": {
        "plotlyServerURL": "https://plot.ly"
       },
       "data": [
        {
         "line": {
          "color": "firebrick",
          "width": 4
         },
         "name": "Depression",
         "type": "scatter",
         "x": [
          18,
          21,
          19,
          22,
          23,
          19,
          23,
          18,
          19,
          18,
          20,
          24,
          18,
          19,
          18,
          24,
          24,
          24,
          20,
          18,
          19,
          18,
          24,
          24,
          23,
          18,
          19,
          18,
          24,
          24,
          23,
          18,
          19,
          18,
          19,
          18,
          18,
          19,
          18,
          24,
          24,
          22,
          20,
          20,
          23,
          18,
          19,
          18,
          24,
          24,
          23,
          18,
          19,
          20,
          19,
          21,
          23,
          20,
          18,
          23,
          18,
          19,
          18,
          24,
          24,
          23,
          18,
          19,
          18,
          24,
          24,
          18,
          19,
          18,
          24,
          24,
          23,
          18,
          19,
          18,
          24,
          24,
          19,
          19,
          23,
          18,
          19,
          18,
          24,
          24,
          23,
          18,
          19,
          18,
          24,
          18,
          21,
          18,
          19,
          23,
          20
         ],
         "y": [
          "Yes",
          "No",
          "Yes",
          "Yes",
          "No",
          "No",
          "Yes",
          "No",
          "No",
          "No",
          "No",
          "Yes",
          "Yes",
          "No",
          "No",
          "No",
          "No",
          "Yes",
          "No",
          "Yes",
          "No",
          "No",
          "No",
          "No",
          "Yes",
          "No",
          "No",
          "Yes",
          "Yes",
          "No",
          "No",
          "No",
          "No",
          "Yes",
          "Yes",
          "No",
          "Yes",
          "Yes",
          "No",
          "Yes",
          "No",
          "No",
          "Yes",
          "No",
          "No",
          "No",
          "No",
          "No",
          "Yes",
          "No",
          "Yes",
          "No",
          "No",
          "Yes",
          "Yes",
          "No",
          "No",
          "Yes",
          "No",
          "No",
          "No",
          "No",
          "No",
          "No",
          "No",
          "Yes",
          "No",
          "Yes",
          "Yes",
          "No",
          "No",
          "No",
          "Yes",
          "No",
          "No",
          "No",
          "Yes",
          "No",
          "No",
          "No",
          "Yes",
          "No",
          "Yes",
          "No",
          "No",
          "Yes",
          "No",
          "Yes",
          "No",
          "No",
          "No",
          "No",
          "Yes",
          "Yes",
          "No",
          "No",
          "No",
          "Yes",
          "Yes",
          "No",
          "No"
         ]
        }
       ],
       "layout": {
        "template": {
         "data": {
          "bar": [
           {
            "error_x": {
             "color": "#2a3f5f"
            },
            "error_y": {
             "color": "#2a3f5f"
            },
            "marker": {
             "line": {
              "color": "#E5ECF6",
              "width": 0.5
             },
             "pattern": {
              "fillmode": "overlay",
              "size": 10,
              "solidity": 0.2
             }
            },
            "type": "bar"
           }
          ],
          "barpolar": [
           {
            "marker": {
             "line": {
              "color": "#E5ECF6",
              "width": 0.5
             },
             "pattern": {
              "fillmode": "overlay",
              "size": 10,
              "solidity": 0.2
             }
            },
            "type": "barpolar"
           }
          ],
          "carpet": [
           {
            "aaxis": {
             "endlinecolor": "#2a3f5f",
             "gridcolor": "white",
             "linecolor": "white",
             "minorgridcolor": "white",
             "startlinecolor": "#2a3f5f"
            },
            "baxis": {
             "endlinecolor": "#2a3f5f",
             "gridcolor": "white",
             "linecolor": "white",
             "minorgridcolor": "white",
             "startlinecolor": "#2a3f5f"
            },
            "type": "carpet"
           }
          ],
          "choropleth": [
           {
            "colorbar": {
             "outlinewidth": 0,
             "ticks": ""
            },
            "type": "choropleth"
           }
          ],
          "contour": [
           {
            "colorbar": {
             "outlinewidth": 0,
             "ticks": ""
            },
            "colorscale": [
             [
              0,
              "#0d0887"
             ],
             [
              0.1111111111111111,
              "#46039f"
             ],
             [
              0.2222222222222222,
              "#7201a8"
             ],
             [
              0.3333333333333333,
              "#9c179e"
             ],
             [
              0.4444444444444444,
              "#bd3786"
             ],
             [
              0.5555555555555556,
              "#d8576b"
             ],
             [
              0.6666666666666666,
              "#ed7953"
             ],
             [
              0.7777777777777778,
              "#fb9f3a"
             ],
             [
              0.8888888888888888,
              "#fdca26"
             ],
             [
              1,
              "#f0f921"
             ]
            ],
            "type": "contour"
           }
          ],
          "contourcarpet": [
           {
            "colorbar": {
             "outlinewidth": 0,
             "ticks": ""
            },
            "type": "contourcarpet"
           }
          ],
          "heatmap": [
           {
            "colorbar": {
             "outlinewidth": 0,
             "ticks": ""
            },
            "colorscale": [
             [
              0,
              "#0d0887"
             ],
             [
              0.1111111111111111,
              "#46039f"
             ],
             [
              0.2222222222222222,
              "#7201a8"
             ],
             [
              0.3333333333333333,
              "#9c179e"
             ],
             [
              0.4444444444444444,
              "#bd3786"
             ],
             [
              0.5555555555555556,
              "#d8576b"
             ],
             [
              0.6666666666666666,
              "#ed7953"
             ],
             [
              0.7777777777777778,
              "#fb9f3a"
             ],
             [
              0.8888888888888888,
              "#fdca26"
             ],
             [
              1,
              "#f0f921"
             ]
            ],
            "type": "heatmap"
           }
          ],
          "heatmapgl": [
           {
            "colorbar": {
             "outlinewidth": 0,
             "ticks": ""
            },
            "colorscale": [
             [
              0,
              "#0d0887"
             ],
             [
              0.1111111111111111,
              "#46039f"
             ],
             [
              0.2222222222222222,
              "#7201a8"
             ],
             [
              0.3333333333333333,
              "#9c179e"
             ],
             [
              0.4444444444444444,
              "#bd3786"
             ],
             [
              0.5555555555555556,
              "#d8576b"
             ],
             [
              0.6666666666666666,
              "#ed7953"
             ],
             [
              0.7777777777777778,
              "#fb9f3a"
             ],
             [
              0.8888888888888888,
              "#fdca26"
             ],
             [
              1,
              "#f0f921"
             ]
            ],
            "type": "heatmapgl"
           }
          ],
          "histogram": [
           {
            "marker": {
             "pattern": {
              "fillmode": "overlay",
              "size": 10,
              "solidity": 0.2
             }
            },
            "type": "histogram"
           }
          ],
          "histogram2d": [
           {
            "colorbar": {
             "outlinewidth": 0,
             "ticks": ""
            },
            "colorscale": [
             [
              0,
              "#0d0887"
             ],
             [
              0.1111111111111111,
              "#46039f"
             ],
             [
              0.2222222222222222,
              "#7201a8"
             ],
             [
              0.3333333333333333,
              "#9c179e"
             ],
             [
              0.4444444444444444,
              "#bd3786"
             ],
             [
              0.5555555555555556,
              "#d8576b"
             ],
             [
              0.6666666666666666,
              "#ed7953"
             ],
             [
              0.7777777777777778,
              "#fb9f3a"
             ],
             [
              0.8888888888888888,
              "#fdca26"
             ],
             [
              1,
              "#f0f921"
             ]
            ],
            "type": "histogram2d"
           }
          ],
          "histogram2dcontour": [
           {
            "colorbar": {
             "outlinewidth": 0,
             "ticks": ""
            },
            "colorscale": [
             [
              0,
              "#0d0887"
             ],
             [
              0.1111111111111111,
              "#46039f"
             ],
             [
              0.2222222222222222,
              "#7201a8"
             ],
             [
              0.3333333333333333,
              "#9c179e"
             ],
             [
              0.4444444444444444,
              "#bd3786"
             ],
             [
              0.5555555555555556,
              "#d8576b"
             ],
             [
              0.6666666666666666,
              "#ed7953"
             ],
             [
              0.7777777777777778,
              "#fb9f3a"
             ],
             [
              0.8888888888888888,
              "#fdca26"
             ],
             [
              1,
              "#f0f921"
             ]
            ],
            "type": "histogram2dcontour"
           }
          ],
          "mesh3d": [
           {
            "colorbar": {
             "outlinewidth": 0,
             "ticks": ""
            },
            "type": "mesh3d"
           }
          ],
          "parcoords": [
           {
            "line": {
             "colorbar": {
              "outlinewidth": 0,
              "ticks": ""
             }
            },
            "type": "parcoords"
           }
          ],
          "pie": [
           {
            "automargin": true,
            "type": "pie"
           }
          ],
          "scatter": [
           {
            "fillpattern": {
             "fillmode": "overlay",
             "size": 10,
             "solidity": 0.2
            },
            "type": "scatter"
           }
          ],
          "scatter3d": [
           {
            "line": {
             "colorbar": {
              "outlinewidth": 0,
              "ticks": ""
             }
            },
            "marker": {
             "colorbar": {
              "outlinewidth": 0,
              "ticks": ""
             }
            },
            "type": "scatter3d"
           }
          ],
          "scattercarpet": [
           {
            "marker": {
             "colorbar": {
              "outlinewidth": 0,
              "ticks": ""
             }
            },
            "type": "scattercarpet"
           }
          ],
          "scattergeo": [
           {
            "marker": {
             "colorbar": {
              "outlinewidth": 0,
              "ticks": ""
             }
            },
            "type": "scattergeo"
           }
          ],
          "scattergl": [
           {
            "marker": {
             "colorbar": {
              "outlinewidth": 0,
              "ticks": ""
             }
            },
            "type": "scattergl"
           }
          ],
          "scattermapbox": [
           {
            "marker": {
             "colorbar": {
              "outlinewidth": 0,
              "ticks": ""
             }
            },
            "type": "scattermapbox"
           }
          ],
          "scatterpolar": [
           {
            "marker": {
             "colorbar": {
              "outlinewidth": 0,
              "ticks": ""
             }
            },
            "type": "scatterpolar"
           }
          ],
          "scatterpolargl": [
           {
            "marker": {
             "colorbar": {
              "outlinewidth": 0,
              "ticks": ""
             }
            },
            "type": "scatterpolargl"
           }
          ],
          "scatterternary": [
           {
            "marker": {
             "colorbar": {
              "outlinewidth": 0,
              "ticks": ""
             }
            },
            "type": "scatterternary"
           }
          ],
          "surface": [
           {
            "colorbar": {
             "outlinewidth": 0,
             "ticks": ""
            },
            "colorscale": [
             [
              0,
              "#0d0887"
             ],
             [
              0.1111111111111111,
              "#46039f"
             ],
             [
              0.2222222222222222,
              "#7201a8"
             ],
             [
              0.3333333333333333,
              "#9c179e"
             ],
             [
              0.4444444444444444,
              "#bd3786"
             ],
             [
              0.5555555555555556,
              "#d8576b"
             ],
             [
              0.6666666666666666,
              "#ed7953"
             ],
             [
              0.7777777777777778,
              "#fb9f3a"
             ],
             [
              0.8888888888888888,
              "#fdca26"
             ],
             [
              1,
              "#f0f921"
             ]
            ],
            "type": "surface"
           }
          ],
          "table": [
           {
            "cells": {
             "fill": {
              "color": "#EBF0F8"
             },
             "line": {
              "color": "white"
             }
            },
            "header": {
             "fill": {
              "color": "#C8D4E3"
             },
             "line": {
              "color": "white"
             }
            },
            "type": "table"
           }
          ]
         },
         "layout": {
          "annotationdefaults": {
           "arrowcolor": "#2a3f5f",
           "arrowhead": 0,
           "arrowwidth": 1
          },
          "autotypenumbers": "strict",
          "coloraxis": {
           "colorbar": {
            "outlinewidth": 0,
            "ticks": ""
           }
          },
          "colorscale": {
           "diverging": [
            [
             0,
             "#8e0152"
            ],
            [
             0.1,
             "#c51b7d"
            ],
            [
             0.2,
             "#de77ae"
            ],
            [
             0.3,
             "#f1b6da"
            ],
            [
             0.4,
             "#fde0ef"
            ],
            [
             0.5,
             "#f7f7f7"
            ],
            [
             0.6,
             "#e6f5d0"
            ],
            [
             0.7,
             "#b8e186"
            ],
            [
             0.8,
             "#7fbc41"
            ],
            [
             0.9,
             "#4d9221"
            ],
            [
             1,
             "#276419"
            ]
           ],
           "sequential": [
            [
             0,
             "#0d0887"
            ],
            [
             0.1111111111111111,
             "#46039f"
            ],
            [
             0.2222222222222222,
             "#7201a8"
            ],
            [
             0.3333333333333333,
             "#9c179e"
            ],
            [
             0.4444444444444444,
             "#bd3786"
            ],
            [
             0.5555555555555556,
             "#d8576b"
            ],
            [
             0.6666666666666666,
             "#ed7953"
            ],
            [
             0.7777777777777778,
             "#fb9f3a"
            ],
            [
             0.8888888888888888,
             "#fdca26"
            ],
            [
             1,
             "#f0f921"
            ]
           ],
           "sequentialminus": [
            [
             0,
             "#0d0887"
            ],
            [
             0.1111111111111111,
             "#46039f"
            ],
            [
             0.2222222222222222,
             "#7201a8"
            ],
            [
             0.3333333333333333,
             "#9c179e"
            ],
            [
             0.4444444444444444,
             "#bd3786"
            ],
            [
             0.5555555555555556,
             "#d8576b"
            ],
            [
             0.6666666666666666,
             "#ed7953"
            ],
            [
             0.7777777777777778,
             "#fb9f3a"
            ],
            [
             0.8888888888888888,
             "#fdca26"
            ],
            [
             1,
             "#f0f921"
            ]
           ]
          },
          "colorway": [
           "#636efa",
           "#EF553B",
           "#00cc96",
           "#ab63fa",
           "#FFA15A",
           "#19d3f3",
           "#FF6692",
           "#B6E880",
           "#FF97FF",
           "#FECB52"
          ],
          "font": {
           "color": "#2a3f5f"
          },
          "geo": {
           "bgcolor": "white",
           "lakecolor": "white",
           "landcolor": "#E5ECF6",
           "showlakes": true,
           "showland": true,
           "subunitcolor": "white"
          },
          "hoverlabel": {
           "align": "left"
          },
          "hovermode": "closest",
          "mapbox": {
           "style": "light"
          },
          "paper_bgcolor": "white",
          "plot_bgcolor": "#E5ECF6",
          "polar": {
           "angularaxis": {
            "gridcolor": "white",
            "linecolor": "white",
            "ticks": ""
           },
           "bgcolor": "#E5ECF6",
           "radialaxis": {
            "gridcolor": "white",
            "linecolor": "white",
            "ticks": ""
           }
          },
          "scene": {
           "xaxis": {
            "backgroundcolor": "#E5ECF6",
            "gridcolor": "white",
            "gridwidth": 2,
            "linecolor": "white",
            "showbackground": true,
            "ticks": "",
            "zerolinecolor": "white"
           },
           "yaxis": {
            "backgroundcolor": "#E5ECF6",
            "gridcolor": "white",
            "gridwidth": 2,
            "linecolor": "white",
            "showbackground": true,
            "ticks": "",
            "zerolinecolor": "white"
           },
           "zaxis": {
            "backgroundcolor": "#E5ECF6",
            "gridcolor": "white",
            "gridwidth": 2,
            "linecolor": "white",
            "showbackground": true,
            "ticks": "",
            "zerolinecolor": "white"
           }
          },
          "shapedefaults": {
           "line": {
            "color": "#2a3f5f"
           }
          },
          "ternary": {
           "aaxis": {
            "gridcolor": "white",
            "linecolor": "white",
            "ticks": ""
           },
           "baxis": {
            "gridcolor": "white",
            "linecolor": "white",
            "ticks": ""
           },
           "bgcolor": "#E5ECF6",
           "caxis": {
            "gridcolor": "white",
            "linecolor": "white",
            "ticks": ""
           }
          },
          "title": {
           "x": 0.05
          },
          "xaxis": {
           "automargin": true,
           "gridcolor": "white",
           "linecolor": "white",
           "ticks": "",
           "title": {
            "standoff": 15
           },
           "zerolinecolor": "white",
           "zerolinewidth": 2
          },
          "yaxis": {
           "automargin": true,
           "gridcolor": "white",
           "linecolor": "white",
           "ticks": "",
           "title": {
            "standoff": 15
           },
           "zerolinecolor": "white",
           "zerolinewidth": 2
          }
         }
        },
        "title": {
         "text": "Depression across ages"
        },
        "xaxis": {
         "title": {
          "text": "Age"
         }
        },
        "yaxis": {
         "title": {
          "text": "Depression"
         }
        }
       }
      }
     },
     "metadata": {},
     "output_type": "display_data"
    }
   ],
   "source": [
    "x = dataset[\"Age\"]\n",
    "\n",
    "fig = go.Figure()\n",
    "# Create and style traces\n",
    "fig.add_trace(go.Scatter(x=x, y=dataset[\"Depression\"],\n",
    "                         name='Depression',\n",
    "                         line=dict(color='firebrick', width=4)))\n",
    "\n",
    "\n",
    "# Edit the layout\n",
    "fig.update_layout(title='Depression across ages',\n",
    "                   xaxis_title='Age',\n",
    "                   yaxis_title='Depression')\n",
    "\n",
    "\n",
    "fig.show()"
   ]
  },
  {
   "cell_type": "code",
   "execution_count": null,
   "metadata": {},
   "outputs": [],
   "source": [
    "import seaborn as sns\n",
    "\n",
    "Corrmat = dataset.corr()\n",
    "plt.figure(figsize=(10, 5), dpi=200)\n",
    "sns.heatmap(Corrmat, annot=True,fmt=\".2f\", linewidth=.5)"
   ]
  },
  {
   "cell_type": "markdown",
   "metadata": {},
   "source": [
    "- **Key Finding:** The analysis reveals a higher prevalence of depression among students pursuing computer-related degrees compared to other disciplines.\n",
    "\n",
    "- **Age Group Impact:** Students in the midst of their degree, specifically at the age of 19-20, exhibit a higher likelihood of experiencing depression compared to other age groups.\n",
    "\n",
    "- **Discipline Comparison:**\n",
    "\n",
    "  - _Computer-related Degrees:_ Highest reported depression rates.\n",
    "  - _Engineering and Technology Degrees:_ Second-highest depression rates.\n",
    "\n",
    "- **Temporal Patterns in Engineering and Technology Courses:**\n",
    "  - _Start of Degrees:_ Engineering and technology students show an increased likelihood of depression at the beginning of their academic journey.\n",
    "  - _End of Degrees:_ Similarly, a notable prevalence of depression is observed towards the completion of their degrees.\n"
   ]
  },
  {
   "cell_type": "markdown",
   "metadata": {},
   "source": [
    "# Getting Data ready for deep learning"
   ]
  },
  {
   "cell_type": "code",
   "execution_count": 10,
   "metadata": {},
   "outputs": [],
   "source": [
    "\n",
    "X = dataset.iloc[:, :-2].values\n",
    "y = dataset.iloc[:, -2].values"
   ]
  },
  {
   "cell_type": "code",
   "execution_count": 11,
   "metadata": {},
   "outputs": [
    {
     "name": "stdout",
     "output_type": "stream",
     "text": [
      "[['Female' 18 'Engineering and Technology' 'year1' '3.00-3.49' 'No' 'Yes']\n",
      " ['Male' 21 'Religious Studies' 'year2' '3.00-3.49' 'No' 'No']\n",
      " ['Male' 19 'Computer and Information Sciences' 'year1' '3.00-3.49' 'No'\n",
      "  'Yes']\n",
      " ['Female' 22 'Law' 'year3' '3.00-3.49' 'Yes' 'Yes']\n",
      " ['Male' 23 'Mathematics and Statistics' 'year4' '3.00-3.49' 'No' 'No']\n",
      " ['Male' 19 'Engineering and Technology' 'year2' '3.50-4.00' 'No' 'No']\n",
      " ['Female' 23 'Religious Studies' 'year2' '3.50-4.00' 'Yes' 'Yes']\n",
      " ['Female' 18 'Computer and Information Sciences' 'year1' '3.50-4.00'\n",
      "  'No' 'No']\n",
      " ['Female' 19 'Business and Economics' 'year2' '2.50-2.99' 'No' 'No']\n",
      " ['Male' 18 'Interdisciplinary Studies' 'year1' '3.50-4.00' 'No' 'No']\n",
      " ['Female' 20 'Social Sciences' 'year1' '3.50-4.00' 'No' 'No']\n",
      " ['Female' 24 'Engineering and Technology' 'year3' '3.50-4.00' 'Yes'\n",
      "  'Yes']\n",
      " ['Female' 18 'Computer and Information Sciences' 'year1' '3.00-3.49'\n",
      "  'No' 'Yes']\n",
      " ['Male' 19 'Engineering and Technology' 'year1' '3.00-3.49' 'No' 'No']\n",
      " ['Female' 18 'Engineering and Technology' 'year2' '3.50-4.00' 'No' 'No']\n",
      " ['Male' 24 'Computer and Information Sciences' 'year3' '3.50-4.00' 'No'\n",
      "  'No']\n",
      " ['Female' 24 'Business and Economics' 'year3' '3.00-3.49' 'No' 'No']\n",
      " ['Female' 24 'Engineering and Technology' 'year4' '3.00-3.49' 'Yes'\n",
      "  'Yes']\n",
      " ['Female' 20 'Computer and Information Sciences' 'year2' '3.50-4.00'\n",
      "  'No' 'No']\n",
      " ['Female' 18 'Agriculture and Environmental Studies' 'year2' '3.50-4.00'\n",
      "  'Yes' 'Yes']\n",
      " ['Female' 19 'Engineering and Technology' 'year1' '3.00-3.49' 'No' 'No']\n",
      " ['Female' 18 'Communication and Media' 'year2' '3.00-3.49' 'No' 'No']\n",
      " ['Female' 24 'Computer and Information Sciences' 'year1' '3.50-4.00'\n",
      "  'No' 'No']\n",
      " ['Female' 24 'Engineering and Technology' 'year1' '3.00-3.49' 'No' 'No']\n",
      " ['Female' 23 'Computer and Information Sciences' 'year3' '3.50-4.00'\n",
      "  'No' 'Yes']\n",
      " ['Female' 18 'Business and Economics' 'year1' '3.50-4.00' 'No' 'No']\n",
      " ['Female' 19 'Engineering and Technology' 'year1' '3.50-4.00' 'No' 'No']\n",
      " ['Male' 18 'Engineering and Technology' 'year2' '3.00-3.49' 'Yes' 'Yes']\n",
      " ['Female' 24 'Computer and Information Sciences' 'year3' '3.50-4.00'\n",
      "  'Yes' 'Yes']\n",
      " ['Female' 24 'Computer and Information Sciences' 'year4' '3.50-4.00'\n",
      "  'No' 'No']\n",
      " ['Female' 23 'Business and Economics' 'year2' '3.00-3.49' 'No' 'No']\n",
      " ['Male' 18 'Computer and Information Sciences' 'year2' '3.00-3.49' 'No'\n",
      "  'No']\n",
      " ['Male' 19 'Computer and Information Sciences' 'year1' '3.50-4.00' 'No'\n",
      "  'No']\n",
      " ['Male' 18 'Computer and Information Sciences' 'year2' '3.50-4.00' 'Yes'\n",
      "  'Yes']\n",
      " ['Female' 19 'Computer and Information Sciences' 'year1' '3.00-3.49'\n",
      "  'No' 'Yes']\n",
      " ['Female' 18 'Engineering and Technology' 'year1' '2.00-2.49' 'No' 'No']\n",
      " ['Female' 18 'Law' 'year3' '3.00-3.49' 'No' 'Yes']\n",
      " ['Female' 19 'Computer and Information Sciences' 'year1' '2.50-2.99'\n",
      "  'No' 'Yes']\n",
      " ['Female' 18 'Religious Studies' 'year1' '3.50-4.00' 'No' 'No']\n",
      " ['Female' 24 'Engineering and Technology' 'year2' '2.50-2.99' 'Yes'\n",
      "  'Yes']\n",
      " ['Female' 24 'Computer and Information Sciences' 'year3' '3.00-3.49'\n",
      "  'No' 'No']\n",
      " ['Female' 22 'Engineering and Technology' 'year4' '3.50-4.00' 'No' 'No']\n",
      " ['Female' 20 'Religious Studies' 'year2' '3.00-3.49' 'No' 'Yes']\n",
      " ['Male' 20 'Computer and Information Sciences' 'year1' '0-1.99' 'No'\n",
      "  'No']\n",
      " ['Male' 23 'Communication and Media' 'year2' '3.50-4.00' 'No' 'No']\n",
      " ['Male' 18 'Computer and Information Sciences' 'year1' '3.50-4.00' 'No'\n",
      "  'No']\n",
      " ['Female' 19 'Engineering and Technology' 'year1' '3.50-4.00' 'No' 'No']\n",
      " ['Female' 18 'Engineering and Technology' 'year4' '3.50-4.00' 'No' 'No']\n",
      " ['Male' 24 'Computer and Information Sciences' 'year2' '3.00-3.49' 'No'\n",
      "  'Yes']\n",
      " ['Female' 24 'Computer and Information Sciences' 'year3' '3.50-4.00'\n",
      "  'No' 'No']\n",
      " ['Female' 23 'Interdisciplinary Studies' 'year1' '2.50-2.99' 'Yes' 'Yes']\n",
      " ['Female' 18 'Computer and Information Sciences' 'year2' '3.50-4.00'\n",
      "  'No' 'No']\n",
      " ['Female' 19 'Health Sciences' 'year3' '3.00-3.49' 'No' 'No']\n",
      " ['Female' 20 'Arts and Humanities' 'year3' '3.00-3.49' 'Yes' 'Yes']\n",
      " ['Female' 19 'Computer and Information Sciences' 'year1' '3.50-4.00'\n",
      "  'No' 'Yes']\n",
      " ['Male' 21 'Computer and Information Sciences' 'year1' '3.00-3.49' 'No'\n",
      "  'No']\n",
      " ['Male' 23 'Arts and Humanities' 'year3' '3.50-4.00' 'No' 'No']\n",
      " ['Female' 20 'Arts and Humanities' 'year3' '3.00-3.49' 'No' 'Yes']\n",
      " ['Female' 18 'Computer and Information Sciences' 'year1' '3.50-4.00'\n",
      "  'No' 'No']\n",
      " ['Female' 23 'Engineering and Technology' 'year1' '3.00-3.49' 'No' 'No']\n",
      " ['Female' 18 'Computer and Information Sciences' 'year3' '3.00-3.49'\n",
      "  'No' 'No']\n",
      " ['Female' 19 'Computer and Information Sciences' 'year1' '3.50-4.00'\n",
      "  'No' 'No']\n",
      " ['Female' 18 'Engineering and Technology' 'year1' '3.50-4.00' 'No' 'No']\n",
      " ['Female' 24 'Engineering and Technology' 'year1' '3.50-4.00' 'No' 'No']\n",
      " ['Female' 24 'Engineering and Technology' 'year1' '3.50-4.00' 'No' 'No']\n",
      " ['Female' 23 'Business and Economics' 'year1' '3.50-4.00' 'No' 'Yes']\n",
      " ['Female' 18 'Engineering and Technology' 'year3' '3.00-3.49' 'No' 'No']\n",
      " ['Male' 19 'Interdisciplinary Studies' 'year3' '3.00-3.49' 'Yes' 'Yes']\n",
      " ['Female' 18 'Computer and Information Sciences' 'year1' '3.50-4.00'\n",
      "  'No' 'Yes']\n",
      " ['Female' 24 'Engineering and Technology' 'year4' '3.00-3.49' 'No' 'No']\n",
      " ['Female' 24 'Health Sciences' 'year1' '3.00-3.49' 'No' 'No']\n",
      " ['Female' 18 'Law' 'year3' '3.50-4.00' 'No' 'No']\n",
      " ['Female' 19 'Computer and Information Sciences' 'year3' '3.00-3.49'\n",
      "  'Yes' 'Yes']\n",
      " ['Male' 18 'Health Sciences' 'year1' '0-1.99' 'No' 'No']\n",
      " ['Male' 24 'Computer and Information Sciences' 'year3' '3.50-4.00' 'No'\n",
      "  'No']\n",
      " ['Female' 24 'Engineering and Technology' 'year1' '3.50-4.00' 'No' 'No']\n",
      " ['Female' 23 'Engineering and Technology' 'year1' '3.00-3.49' 'No' 'Yes']\n",
      " ['Female' 18 'Social Sciences' 'year2' '3.00-3.49' 'No' 'No']\n",
      " ['Female' 19 'Engineering and Technology' 'year3' '0-1.99' 'No' 'No']\n",
      " ['Female' 18 'Engineering and Technology' 'year4' '3.50-4.00' 'No' 'No']\n",
      " ['Female' 24 'Communication and Media' 'year2' '3.50-4.00' 'Yes' 'Yes']\n",
      " ['Female' 24 'Health Sciences' 'year2' '3.50-4.00' 'No' 'No']\n",
      " ['Female' 19 'Engineering and Technology' 'year1' '3.00-3.49' 'No' 'Yes']\n",
      " ['Female' 19 'Religious Studies' 'year2' '3.00-3.49' 'No' 'No']\n",
      " ['Male' 23 'Health Sciences' 'year1' '3.00-3.49' 'No' 'No']\n",
      " ['Female' 18 'Social Sciences' 'year1' '3.50-4.00' 'No' 'Yes']\n",
      " ['Female' 19 'Religious Studies' 'year3' '3.00-3.49' 'No' 'No']\n",
      " ['Female' 18 'Social Sciences' 'year1' '3.50-4.00' 'No' 'Yes']\n",
      " ['Male' 24 'Computer and Information Sciences' 'year1' '3.00-3.49' 'No'\n",
      "  'No']\n",
      " ['Male' 24 'Engineering and Technology' 'year2' '2.00-2.49' 'No' 'No']\n",
      " ['Female' 23 'Arts and Humanities' 'year3' '3.50-4.00' 'No' 'No']\n",
      " ['Male' 18 'Computer and Information Sciences' 'year2' '3.00-3.49' 'No'\n",
      "  'No']\n",
      " ['Female' 19 'Engineering and Technology' 'year2' '3.00-3.49' 'Yes'\n",
      "  'Yes']\n",
      " ['Female' 18 'Arts and Humanities' 'year1' '3.00-3.49' 'No' 'Yes']\n",
      " ['Female' 24 'Religious Studies' 'year3' '0-1.99' 'No' 'No']\n",
      " ['Female' 18 'Religious Studies' 'year1' '3.50-4.00' 'No' 'No']\n",
      " ['Female' 21 'Computer and Information Sciences' 'year1' '3.50-4.00'\n",
      "  'No' 'No']\n",
      " ['Male' 18 'Engineering and Technology' 'year2' '3.00-3.49' 'No' 'Yes']\n",
      " ['Female' 19 'Health Sciences' 'year3' '3.50-4.00' 'Yes' 'Yes']\n",
      " ['Female' 23 'Religious Studies' 'year4' '3.50-4.00' 'No' 'No']\n",
      " ['Male' 20 'Health Sciences' 'year2' '3.00-3.49' 'No' 'No']]\n"
     ]
    }
   ],
   "source": [
    "print(X)"
   ]
  },
  {
   "cell_type": "code",
   "execution_count": 12,
   "metadata": {},
   "outputs": [
    {
     "name": "stdout",
     "output_type": "stream",
     "text": [
      "['No' 'Yes' 'Yes' 'No' 'No' 'No' 'No' 'Yes' 'No' 'Yes' 'No' 'No' 'No' 'No'\n",
      " 'Yes' 'No' 'No' 'Yes' 'Yes' 'Yes' 'No' 'No' 'No' 'No' 'Yes' 'No' 'No'\n",
      " 'Yes' 'Yes' 'No' 'No' 'No' 'No' 'Yes' 'Yes' 'No' 'Yes' 'Yes' 'No' 'No'\n",
      " 'Yes' 'No' 'No' 'No' 'No' 'Yes' 'Yes' 'No' 'No' 'No' 'No' 'Yes' 'No'\n",
      " 'Yes' 'No' 'No' 'No' 'Yes' 'No' 'No' 'No' 'No' 'No' 'No' 'No' 'Yes' 'Yes'\n",
      " 'No' 'No' 'Yes' 'No' 'No' 'No' 'No' 'Yes' 'Yes' 'No' 'No' 'No' 'No' 'Yes'\n",
      " 'No' 'Yes' 'No' 'No' 'Yes' 'No' 'Yes' 'Yes' 'No' 'No' 'Yes' 'No' 'No'\n",
      " 'No' 'No' 'Yes' 'Yes' 'No' 'No' 'No']\n"
     ]
    }
   ],
   "source": [
    "print(y)"
   ]
  },
  {
   "cell_type": "code",
   "execution_count": 13,
   "metadata": {},
   "outputs": [
    {
     "name": "stdout",
     "output_type": "stream",
     "text": [
      "Mapping of original strings to numerical labels:\n",
      "Female: 0\n",
      "Male: 1\n"
     ]
    }
   ],
   "source": [
    "from sklearn.preprocessing import LabelEncoder\n",
    "le = LabelEncoder()\n",
    "X[:, 0] = le.fit_transform(X[:, 0])\n",
    "\n",
    "print(\"Mapping of original strings to numerical labels:\")\n",
    "for original, label in zip(le.classes_, le.transform(le.classes_)):\n",
    "    print(f\"{original}: {label}\")"
   ]
  },
  {
   "cell_type": "code",
   "execution_count": 14,
   "metadata": {},
   "outputs": [
    {
     "name": "stdout",
     "output_type": "stream",
     "text": [
      "[[0 18 'Engineering and Technology' 'year1' '3.00-3.49' 'No' 'Yes']\n",
      " [1 21 'Religious Studies' 'year2' '3.00-3.49' 'No' 'No']\n",
      " [1 19 'Computer and Information Sciences' 'year1' '3.00-3.49' 'No' 'Yes']\n",
      " [0 22 'Law' 'year3' '3.00-3.49' 'Yes' 'Yes']\n",
      " [1 23 'Mathematics and Statistics' 'year4' '3.00-3.49' 'No' 'No']\n",
      " [1 19 'Engineering and Technology' 'year2' '3.50-4.00' 'No' 'No']\n",
      " [0 23 'Religious Studies' 'year2' '3.50-4.00' 'Yes' 'Yes']\n",
      " [0 18 'Computer and Information Sciences' 'year1' '3.50-4.00' 'No' 'No']\n",
      " [0 19 'Business and Economics' 'year2' '2.50-2.99' 'No' 'No']\n",
      " [1 18 'Interdisciplinary Studies' 'year1' '3.50-4.00' 'No' 'No']\n",
      " [0 20 'Social Sciences' 'year1' '3.50-4.00' 'No' 'No']\n",
      " [0 24 'Engineering and Technology' 'year3' '3.50-4.00' 'Yes' 'Yes']\n",
      " [0 18 'Computer and Information Sciences' 'year1' '3.00-3.49' 'No' 'Yes']\n",
      " [1 19 'Engineering and Technology' 'year1' '3.00-3.49' 'No' 'No']\n",
      " [0 18 'Engineering and Technology' 'year2' '3.50-4.00' 'No' 'No']\n",
      " [1 24 'Computer and Information Sciences' 'year3' '3.50-4.00' 'No' 'No']\n",
      " [0 24 'Business and Economics' 'year3' '3.00-3.49' 'No' 'No']\n",
      " [0 24 'Engineering and Technology' 'year4' '3.00-3.49' 'Yes' 'Yes']\n",
      " [0 20 'Computer and Information Sciences' 'year2' '3.50-4.00' 'No' 'No']\n",
      " [0 18 'Agriculture and Environmental Studies' 'year2' '3.50-4.00' 'Yes'\n",
      "  'Yes']\n",
      " [0 19 'Engineering and Technology' 'year1' '3.00-3.49' 'No' 'No']\n",
      " [0 18 'Communication and Media' 'year2' '3.00-3.49' 'No' 'No']\n",
      " [0 24 'Computer and Information Sciences' 'year1' '3.50-4.00' 'No' 'No']\n",
      " [0 24 'Engineering and Technology' 'year1' '3.00-3.49' 'No' 'No']\n",
      " [0 23 'Computer and Information Sciences' 'year3' '3.50-4.00' 'No' 'Yes']\n",
      " [0 18 'Business and Economics' 'year1' '3.50-4.00' 'No' 'No']\n",
      " [0 19 'Engineering and Technology' 'year1' '3.50-4.00' 'No' 'No']\n",
      " [1 18 'Engineering and Technology' 'year2' '3.00-3.49' 'Yes' 'Yes']\n",
      " [0 24 'Computer and Information Sciences' 'year3' '3.50-4.00' 'Yes'\n",
      "  'Yes']\n",
      " [0 24 'Computer and Information Sciences' 'year4' '3.50-4.00' 'No' 'No']\n",
      " [0 23 'Business and Economics' 'year2' '3.00-3.49' 'No' 'No']\n",
      " [1 18 'Computer and Information Sciences' 'year2' '3.00-3.49' 'No' 'No']\n",
      " [1 19 'Computer and Information Sciences' 'year1' '3.50-4.00' 'No' 'No']\n",
      " [1 18 'Computer and Information Sciences' 'year2' '3.50-4.00' 'Yes'\n",
      "  'Yes']\n",
      " [0 19 'Computer and Information Sciences' 'year1' '3.00-3.49' 'No' 'Yes']\n",
      " [0 18 'Engineering and Technology' 'year1' '2.00-2.49' 'No' 'No']\n",
      " [0 18 'Law' 'year3' '3.00-3.49' 'No' 'Yes']\n",
      " [0 19 'Computer and Information Sciences' 'year1' '2.50-2.99' 'No' 'Yes']\n",
      " [0 18 'Religious Studies' 'year1' '3.50-4.00' 'No' 'No']\n",
      " [0 24 'Engineering and Technology' 'year2' '2.50-2.99' 'Yes' 'Yes']\n",
      " [0 24 'Computer and Information Sciences' 'year3' '3.00-3.49' 'No' 'No']\n",
      " [0 22 'Engineering and Technology' 'year4' '3.50-4.00' 'No' 'No']\n",
      " [0 20 'Religious Studies' 'year2' '3.00-3.49' 'No' 'Yes']\n",
      " [1 20 'Computer and Information Sciences' 'year1' '0-1.99' 'No' 'No']\n",
      " [1 23 'Communication and Media' 'year2' '3.50-4.00' 'No' 'No']\n",
      " [1 18 'Computer and Information Sciences' 'year1' '3.50-4.00' 'No' 'No']\n",
      " [0 19 'Engineering and Technology' 'year1' '3.50-4.00' 'No' 'No']\n",
      " [0 18 'Engineering and Technology' 'year4' '3.50-4.00' 'No' 'No']\n",
      " [1 24 'Computer and Information Sciences' 'year2' '3.00-3.49' 'No' 'Yes']\n",
      " [0 24 'Computer and Information Sciences' 'year3' '3.50-4.00' 'No' 'No']\n",
      " [0 23 'Interdisciplinary Studies' 'year1' '2.50-2.99' 'Yes' 'Yes']\n",
      " [0 18 'Computer and Information Sciences' 'year2' '3.50-4.00' 'No' 'No']\n",
      " [0 19 'Health Sciences' 'year3' '3.00-3.49' 'No' 'No']\n",
      " [0 20 'Arts and Humanities' 'year3' '3.00-3.49' 'Yes' 'Yes']\n",
      " [0 19 'Computer and Information Sciences' 'year1' '3.50-4.00' 'No' 'Yes']\n",
      " [1 21 'Computer and Information Sciences' 'year1' '3.00-3.49' 'No' 'No']\n",
      " [1 23 'Arts and Humanities' 'year3' '3.50-4.00' 'No' 'No']\n",
      " [0 20 'Arts and Humanities' 'year3' '3.00-3.49' 'No' 'Yes']\n",
      " [0 18 'Computer and Information Sciences' 'year1' '3.50-4.00' 'No' 'No']\n",
      " [0 23 'Engineering and Technology' 'year1' '3.00-3.49' 'No' 'No']\n",
      " [0 18 'Computer and Information Sciences' 'year3' '3.00-3.49' 'No' 'No']\n",
      " [0 19 'Computer and Information Sciences' 'year1' '3.50-4.00' 'No' 'No']\n",
      " [0 18 'Engineering and Technology' 'year1' '3.50-4.00' 'No' 'No']\n",
      " [0 24 'Engineering and Technology' 'year1' '3.50-4.00' 'No' 'No']\n",
      " [0 24 'Engineering and Technology' 'year1' '3.50-4.00' 'No' 'No']\n",
      " [0 23 'Business and Economics' 'year1' '3.50-4.00' 'No' 'Yes']\n",
      " [0 18 'Engineering and Technology' 'year3' '3.00-3.49' 'No' 'No']\n",
      " [1 19 'Interdisciplinary Studies' 'year3' '3.00-3.49' 'Yes' 'Yes']\n",
      " [0 18 'Computer and Information Sciences' 'year1' '3.50-4.00' 'No' 'Yes']\n",
      " [0 24 'Engineering and Technology' 'year4' '3.00-3.49' 'No' 'No']\n",
      " [0 24 'Health Sciences' 'year1' '3.00-3.49' 'No' 'No']\n",
      " [0 18 'Law' 'year3' '3.50-4.00' 'No' 'No']\n",
      " [0 19 'Computer and Information Sciences' 'year3' '3.00-3.49' 'Yes'\n",
      "  'Yes']\n",
      " [1 18 'Health Sciences' 'year1' '0-1.99' 'No' 'No']\n",
      " [1 24 'Computer and Information Sciences' 'year3' '3.50-4.00' 'No' 'No']\n",
      " [0 24 'Engineering and Technology' 'year1' '3.50-4.00' 'No' 'No']\n",
      " [0 23 'Engineering and Technology' 'year1' '3.00-3.49' 'No' 'Yes']\n",
      " [0 18 'Social Sciences' 'year2' '3.00-3.49' 'No' 'No']\n",
      " [0 19 'Engineering and Technology' 'year3' '0-1.99' 'No' 'No']\n",
      " [0 18 'Engineering and Technology' 'year4' '3.50-4.00' 'No' 'No']\n",
      " [0 24 'Communication and Media' 'year2' '3.50-4.00' 'Yes' 'Yes']\n",
      " [0 24 'Health Sciences' 'year2' '3.50-4.00' 'No' 'No']\n",
      " [0 19 'Engineering and Technology' 'year1' '3.00-3.49' 'No' 'Yes']\n",
      " [0 19 'Religious Studies' 'year2' '3.00-3.49' 'No' 'No']\n",
      " [1 23 'Health Sciences' 'year1' '3.00-3.49' 'No' 'No']\n",
      " [0 18 'Social Sciences' 'year1' '3.50-4.00' 'No' 'Yes']\n",
      " [0 19 'Religious Studies' 'year3' '3.00-3.49' 'No' 'No']\n",
      " [0 18 'Social Sciences' 'year1' '3.50-4.00' 'No' 'Yes']\n",
      " [1 24 'Computer and Information Sciences' 'year1' '3.00-3.49' 'No' 'No']\n",
      " [1 24 'Engineering and Technology' 'year2' '2.00-2.49' 'No' 'No']\n",
      " [0 23 'Arts and Humanities' 'year3' '3.50-4.00' 'No' 'No']\n",
      " [1 18 'Computer and Information Sciences' 'year2' '3.00-3.49' 'No' 'No']\n",
      " [0 19 'Engineering and Technology' 'year2' '3.00-3.49' 'Yes' 'Yes']\n",
      " [0 18 'Arts and Humanities' 'year1' '3.00-3.49' 'No' 'Yes']\n",
      " [0 24 'Religious Studies' 'year3' '0-1.99' 'No' 'No']\n",
      " [0 18 'Religious Studies' 'year1' '3.50-4.00' 'No' 'No']\n",
      " [0 21 'Computer and Information Sciences' 'year1' '3.50-4.00' 'No' 'No']\n",
      " [1 18 'Engineering and Technology' 'year2' '3.00-3.49' 'No' 'Yes']\n",
      " [0 19 'Health Sciences' 'year3' '3.50-4.00' 'Yes' 'Yes']\n",
      " [0 23 'Religious Studies' 'year4' '3.50-4.00' 'No' 'No']\n",
      " [1 20 'Health Sciences' 'year2' '3.00-3.49' 'No' 'No']]\n"
     ]
    }
   ],
   "source": [
    "print(X)"
   ]
  },
  {
   "cell_type": "code",
   "execution_count": 33,
   "metadata": {},
   "outputs": [
    {
     "name": "stdout",
     "output_type": "stream",
     "text": [
      "Engineering and Technology\n",
      "Religious Studies\n",
      "Computer and Information Sciences\n",
      "Waiting for 60 seconds...\n",
      "Law\n",
      "Mathematics and Statistics\n",
      "Engineering and Technology\n",
      "Waiting for 60 seconds...\n",
      "Religious Studies\n",
      "Computer and Information Sciences\n",
      "Business and Economics\n",
      "Waiting for 60 seconds...\n",
      "Interdisciplinary Studies\n",
      "Social Sciences\n",
      "Engineering and Technology\n",
      "Waiting for 60 seconds...\n",
      "Computer and Information Sciences\n",
      "Engineering and Technology\n",
      "Engineering and Technology\n",
      "Waiting for 60 seconds...\n",
      "Computer and Information Sciences\n",
      "Business and Economics\n",
      "Engineering and Technology\n",
      "Waiting for 60 seconds...\n",
      "Computer and Information Sciences\n",
      "Agriculture and Environmental Studies\n",
      "Engineering and Technology\n",
      "Waiting for 60 seconds...\n",
      "Communication and Media\n",
      "Computer and Information Sciences\n",
      "Engineering and Technology\n",
      "Waiting for 60 seconds...\n",
      "Computer and Information Sciences\n",
      "Business and Economics\n",
      "Engineering and Technology\n",
      "Waiting for 60 seconds...\n",
      "Engineering and Technology\n",
      "Computer and Information Sciences\n",
      "Computer and Information Sciences\n",
      "Waiting for 60 seconds...\n",
      "Business and Economics\n",
      "Computer and Information Sciences\n",
      "Computer and Information Sciences\n",
      "Waiting for 60 seconds...\n",
      "Computer and Information Sciences\n",
      "Computer and Information Sciences\n",
      "Engineering and Technology\n",
      "Waiting for 60 seconds...\n",
      "Law\n",
      "Computer and Information Sciences\n",
      "Religious Studies\n",
      "Waiting for 60 seconds...\n",
      "Engineering and Technology\n",
      "Computer and Information Sciences\n",
      "Engineering and Technology\n",
      "Waiting for 60 seconds...\n",
      "Religious Studies\n",
      "Computer and Information Sciences\n",
      "Communication and Media\n",
      "Waiting for 60 seconds...\n",
      "Computer and Information Sciences\n",
      "Engineering and Technology\n",
      "Engineering and Technology\n",
      "Waiting for 60 seconds...\n",
      "Computer and Information Sciences\n",
      "Computer and Information Sciences\n",
      "Interdisciplinary Studies\n",
      "Waiting for 60 seconds...\n",
      "Computer and Information Sciences\n",
      "Health Sciences\n",
      "Arts and Humanities\n",
      "Waiting for 60 seconds...\n",
      "Computer and Information Sciences\n",
      "Computer and Information Sciences\n",
      "Arts and Humanities\n",
      "Waiting for 60 seconds...\n",
      "Arts and Humanities\n",
      "Computer and Information Sciences\n",
      "Engineering and Technology\n",
      "Waiting for 60 seconds...\n",
      "Computer and Information Sciences\n",
      "Computer and Information Sciences\n",
      "Engineering and Technology\n",
      "Waiting for 60 seconds...\n",
      "Engineering and Technology\n",
      "Engineering and Technology\n",
      "Business and Economics\n",
      "Waiting for 60 seconds...\n",
      "Engineering and Technology\n",
      "Interdisciplinary Studies\n",
      "Computer and Information Sciences\n",
      "Waiting for 60 seconds...\n",
      "Engineering and Technology\n",
      "Health Sciences\n",
      "Law\n",
      "Waiting for 60 seconds...\n",
      "Computer and Information Sciences\n",
      "Health Sciences\n",
      "Computer and Information Sciences\n",
      "Waiting for 60 seconds...\n",
      "Engineering and Technology\n",
      "Engineering and Technology\n",
      "Social Sciences\n",
      "Waiting for 60 seconds...\n",
      "Engineering and Technology\n",
      "Engineering and Technology\n",
      "Communication and Media\n",
      "Waiting for 60 seconds...\n",
      "Health Sciences\n",
      "Engineering and Technology\n",
      "Religious Studies\n",
      "Waiting for 60 seconds...\n",
      "Health Sciences\n",
      "Social Sciences\n",
      "Religious Studies\n",
      "Waiting for 60 seconds...\n",
      "Social Sciences\n",
      "Computer and Information Sciences\n",
      "Engineering and Technology\n",
      "Waiting for 60 seconds...\n",
      "Arts and Humanities\n",
      "Computer and Information Sciences\n",
      "Engineering and Technology\n",
      "Waiting for 60 seconds...\n",
      "Arts and Humanities\n",
      "Religious Studies\n",
      "Religious Studies\n",
      "Waiting for 60 seconds...\n",
      "Computer and Information Sciences\n",
      "Engineering and Technology\n",
      "Health Sciences\n",
      "Waiting for 60 seconds...\n",
      "Religious Studies\n",
      "Health Sciences\n"
     ]
    }
   ],
   "source": [
    "# Processing course column\n",
    "\n",
    "import openai\n",
    "import time\n",
    "\n",
    "# Set your OpenAI GPT-3 API key\n",
    "openai.api_key = ''\n",
    "\n",
    "\n",
    "def categorize_course_with_gpt3(course):\n",
    "    # Construct a prompt for GPT-3 to perform a web search\n",
    "    prompt = f\"Select the field of this course {course} from these given fields. Do not reply anything else than the given feilds. Reply only the strings of field:\\n\" \\\n",
    "             \"Arts and Humanities\\n\" \\\n",
    "             \"Social Sciences\\n\" \\\n",
    "             \"Natural Sciences\\n\" \\\n",
    "             \"Engineering and Technology\\n\" \\\n",
    "             \"Health Sciences\\n\" \\\n",
    "             \"Business and Economics\\n\" \\\n",
    "             \"Law\\n\" \\\n",
    "             \"Religious Studies\\n\" \\\n",
    "             \"Agriculture and Environmental Studies\\n\" \\\n",
    "             \"Interdisciplinary Studies\\n\" \\\n",
    "             \"Communication and Media\\n\" \\\n",
    "             \"Computer and Information Sciences\\n\" \\\n",
    "             \"Physical Education and Sports Sciences\\n\" \\\n",
    "             \"Mathematics and Statistics\\n\" \\\n",
    "             \"Public Policy and Administration\\n\" \\\n",
    "             \"Interdisciplinary and General Education\\n\"\n",
    "\n",
    "    # Make an API call to GPT-3 using the chat completion endpoint\n",
    "    response = openai.ChatCompletion.create(\n",
    "        model=\"gpt-3.5-turbo\",\n",
    "        messages=[\n",
    "            {\"role\": \"system\", \"content\": \"You are a helpful assistant.\"},\n",
    "            {\"role\": \"user\", \"content\": prompt}\n",
    "        ],\n",
    "        max_tokens=150  # Adjust as needed\n",
    "    )\n",
    "    return response[\"choices\"][0][\"message\"][\"content\"]\n",
    "\n",
    "\n",
    "# Set the rate limit variables\n",
    "requests_limit = 3\n",
    "wait_time = 60\n",
    "\n",
    "# Iterate over the DataFrame and update values\n",
    "for index, row in dataset.iterrows():\n",
    "    current_value = row['Course']\n",
    "    if pd.notna(current_value):\n",
    "        updated_value = categorize_course_with_gpt3(current_value)\n",
    "        dataset.at[index, 'Course'] = updated_value\n",
    "        print(updated_value)\n",
    "    else:\n",
    "        dataset.at[index, 'Course'] = \"General Studies\"\n",
    "        print(\"General Studies\")\n",
    "\n",
    "    # Check if 3 requests have been made and introduce a wait\n",
    "    if (index + 1) % requests_limit == 0 and index != 0:\n",
    "        print(f\"Waiting for {wait_time} seconds...\")\n",
    "        time.sleep(wait_time)"
   ]
  },
  {
   "cell_type": "code",
   "execution_count": 15,
   "metadata": {},
   "outputs": [
    {
     "name": "stdout",
     "output_type": "stream",
     "text": [
      "['Agriculture and Environmental Studies', 'Arts and Humanities', 'Business and Economics', 'Communication and Media', 'Computer and Information Sciences', 'Engineering and Technology', 'Health Sciences', 'Interdisciplinary Studies', 'Law', 'Mathematics and Statistics', 'Religious Studies', 'Social Sciences']\n"
     ]
    }
   ],
   "source": [
    "unique_strings = np.unique(X[:, 2]).tolist()\n",
    "\n",
    "print(unique_strings)"
   ]
  },
  {
   "cell_type": "markdown",
   "metadata": {},
   "source": [
    "| Category                              | One-Hot Encoding                           |\n",
    "|---------------------------------------|--------------------------------------------|\n",
    "| Agriculture and Environmental Studies | [1, 0, 0, 0, 0, 0, 0, 0, 0, 0, 0, 0]      |\n",
    "| Arts and Humanities                   | [0, 1, 0, 0, 0, 0, 0, 0, 0, 0, 0, 0]      |\n",
    "| Business and Economics                | [0, 0, 1, 0, 0, 0, 0, 0, 0, 0, 0, 0]      |\n",
    "| Communication and Media              | [0, 0, 0, 1, 0, 0, 0, 0, 0, 0, 0, 0]      |\n",
    "| Computer and Information Sciences     | [0, 0, 0, 0, 1, 0, 0, 0, 0, 0, 0, 0]      |\n",
    "| Engineering and Technology            | [0, 0, 0, 0, 0, 1, 0, 0, 0, 0, 0, 0]      |\n",
    "| Health Sciences                       | [0, 0, 0, 0, 0, 0, 1, 0, 0, 0, 0, 0]      |\n",
    "| Interdisciplinary Studies             | [0, 0, 0, 0, 0, 0, 0, 1, 0, 0, 0, 0]      |\n",
    "| Law                                   | [0, 0, 0, 0, 0, 0, 0, 0, 1, 0, 0, 0]      |\n",
    "| Mathematics and Statistics            | [0, 0, 0, 0, 0, 0, 0, 0, 0, 1, 0, 0]      |\n",
    "| Religious Studies                     | [0, 0, 0, 0, 0, 0, 0, 0, 0, 0, 1, 0]      |\n",
    "| Social Sciences                       | [0, 0, 0, 0, 0, 0, 0, 0, 0, 0, 0, 1]      |\n"
   ]
  },
  {
   "cell_type": "code",
   "execution_count": 16,
   "metadata": {},
   "outputs": [],
   "source": [
    "#Applying One Hot encoding on Course Column\n",
    "\n",
    "from sklearn.compose import ColumnTransformer\n",
    "from sklearn.preprocessing import OneHotEncoder\n",
    "\n",
    "ct = ColumnTransformer(transformers=[('encoder', OneHotEncoder(), [2])], remainder='passthrough')\n",
    "X = np.array(ct.fit_transform(X))\n"
   ]
  },
  {
   "cell_type": "code",
   "execution_count": 17,
   "metadata": {},
   "outputs": [
    {
     "name": "stdout",
     "output_type": "stream",
     "text": [
      "[[0.0 0.0 0.0 0.0 0.0 1.0 0.0 0.0 0.0 0.0 0.0 0.0 0 18 'year1'\n",
      "  '3.00-3.49' 'No' 'Yes']\n",
      " [0.0 0.0 0.0 0.0 0.0 0.0 0.0 0.0 0.0 0.0 1.0 0.0 1 21 'year2'\n",
      "  '3.00-3.49' 'No' 'No']\n",
      " [0.0 0.0 0.0 0.0 1.0 0.0 0.0 0.0 0.0 0.0 0.0 0.0 1 19 'year1'\n",
      "  '3.00-3.49' 'No' 'Yes']\n",
      " [0.0 0.0 0.0 0.0 0.0 0.0 0.0 0.0 1.0 0.0 0.0 0.0 0 22 'year3'\n",
      "  '3.00-3.49' 'Yes' 'Yes']\n",
      " [0.0 0.0 0.0 0.0 0.0 0.0 0.0 0.0 0.0 1.0 0.0 0.0 1 23 'year4'\n",
      "  '3.00-3.49' 'No' 'No']\n",
      " [0.0 0.0 0.0 0.0 0.0 1.0 0.0 0.0 0.0 0.0 0.0 0.0 1 19 'year2'\n",
      "  '3.50-4.00' 'No' 'No']\n",
      " [0.0 0.0 0.0 0.0 0.0 0.0 0.0 0.0 0.0 0.0 1.0 0.0 0 23 'year2'\n",
      "  '3.50-4.00' 'Yes' 'Yes']\n",
      " [0.0 0.0 0.0 0.0 1.0 0.0 0.0 0.0 0.0 0.0 0.0 0.0 0 18 'year1'\n",
      "  '3.50-4.00' 'No' 'No']\n",
      " [0.0 0.0 1.0 0.0 0.0 0.0 0.0 0.0 0.0 0.0 0.0 0.0 0 19 'year2'\n",
      "  '2.50-2.99' 'No' 'No']\n",
      " [0.0 0.0 0.0 0.0 0.0 0.0 0.0 1.0 0.0 0.0 0.0 0.0 1 18 'year1'\n",
      "  '3.50-4.00' 'No' 'No']\n",
      " [0.0 0.0 0.0 0.0 0.0 0.0 0.0 0.0 0.0 0.0 0.0 1.0 0 20 'year1'\n",
      "  '3.50-4.00' 'No' 'No']\n",
      " [0.0 0.0 0.0 0.0 0.0 1.0 0.0 0.0 0.0 0.0 0.0 0.0 0 24 'year3'\n",
      "  '3.50-4.00' 'Yes' 'Yes']\n",
      " [0.0 0.0 0.0 0.0 1.0 0.0 0.0 0.0 0.0 0.0 0.0 0.0 0 18 'year1'\n",
      "  '3.00-3.49' 'No' 'Yes']\n",
      " [0.0 0.0 0.0 0.0 0.0 1.0 0.0 0.0 0.0 0.0 0.0 0.0 1 19 'year1'\n",
      "  '3.00-3.49' 'No' 'No']\n",
      " [0.0 0.0 0.0 0.0 0.0 1.0 0.0 0.0 0.0 0.0 0.0 0.0 0 18 'year2'\n",
      "  '3.50-4.00' 'No' 'No']\n",
      " [0.0 0.0 0.0 0.0 1.0 0.0 0.0 0.0 0.0 0.0 0.0 0.0 1 24 'year3'\n",
      "  '3.50-4.00' 'No' 'No']\n",
      " [0.0 0.0 1.0 0.0 0.0 0.0 0.0 0.0 0.0 0.0 0.0 0.0 0 24 'year3'\n",
      "  '3.00-3.49' 'No' 'No']\n",
      " [0.0 0.0 0.0 0.0 0.0 1.0 0.0 0.0 0.0 0.0 0.0 0.0 0 24 'year4'\n",
      "  '3.00-3.49' 'Yes' 'Yes']\n",
      " [0.0 0.0 0.0 0.0 1.0 0.0 0.0 0.0 0.0 0.0 0.0 0.0 0 20 'year2'\n",
      "  '3.50-4.00' 'No' 'No']\n",
      " [1.0 0.0 0.0 0.0 0.0 0.0 0.0 0.0 0.0 0.0 0.0 0.0 0 18 'year2'\n",
      "  '3.50-4.00' 'Yes' 'Yes']\n",
      " [0.0 0.0 0.0 0.0 0.0 1.0 0.0 0.0 0.0 0.0 0.0 0.0 0 19 'year1'\n",
      "  '3.00-3.49' 'No' 'No']\n",
      " [0.0 0.0 0.0 1.0 0.0 0.0 0.0 0.0 0.0 0.0 0.0 0.0 0 18 'year2'\n",
      "  '3.00-3.49' 'No' 'No']\n",
      " [0.0 0.0 0.0 0.0 1.0 0.0 0.0 0.0 0.0 0.0 0.0 0.0 0 24 'year1'\n",
      "  '3.50-4.00' 'No' 'No']\n",
      " [0.0 0.0 0.0 0.0 0.0 1.0 0.0 0.0 0.0 0.0 0.0 0.0 0 24 'year1'\n",
      "  '3.00-3.49' 'No' 'No']\n",
      " [0.0 0.0 0.0 0.0 1.0 0.0 0.0 0.0 0.0 0.0 0.0 0.0 0 23 'year3'\n",
      "  '3.50-4.00' 'No' 'Yes']\n",
      " [0.0 0.0 1.0 0.0 0.0 0.0 0.0 0.0 0.0 0.0 0.0 0.0 0 18 'year1'\n",
      "  '3.50-4.00' 'No' 'No']\n",
      " [0.0 0.0 0.0 0.0 0.0 1.0 0.0 0.0 0.0 0.0 0.0 0.0 0 19 'year1'\n",
      "  '3.50-4.00' 'No' 'No']\n",
      " [0.0 0.0 0.0 0.0 0.0 1.0 0.0 0.0 0.0 0.0 0.0 0.0 1 18 'year2'\n",
      "  '3.00-3.49' 'Yes' 'Yes']\n",
      " [0.0 0.0 0.0 0.0 1.0 0.0 0.0 0.0 0.0 0.0 0.0 0.0 0 24 'year3'\n",
      "  '3.50-4.00' 'Yes' 'Yes']\n",
      " [0.0 0.0 0.0 0.0 1.0 0.0 0.0 0.0 0.0 0.0 0.0 0.0 0 24 'year4'\n",
      "  '3.50-4.00' 'No' 'No']\n",
      " [0.0 0.0 1.0 0.0 0.0 0.0 0.0 0.0 0.0 0.0 0.0 0.0 0 23 'year2'\n",
      "  '3.00-3.49' 'No' 'No']\n",
      " [0.0 0.0 0.0 0.0 1.0 0.0 0.0 0.0 0.0 0.0 0.0 0.0 1 18 'year2'\n",
      "  '3.00-3.49' 'No' 'No']\n",
      " [0.0 0.0 0.0 0.0 1.0 0.0 0.0 0.0 0.0 0.0 0.0 0.0 1 19 'year1'\n",
      "  '3.50-4.00' 'No' 'No']\n",
      " [0.0 0.0 0.0 0.0 1.0 0.0 0.0 0.0 0.0 0.0 0.0 0.0 1 18 'year2'\n",
      "  '3.50-4.00' 'Yes' 'Yes']\n",
      " [0.0 0.0 0.0 0.0 1.0 0.0 0.0 0.0 0.0 0.0 0.0 0.0 0 19 'year1'\n",
      "  '3.00-3.49' 'No' 'Yes']\n",
      " [0.0 0.0 0.0 0.0 0.0 1.0 0.0 0.0 0.0 0.0 0.0 0.0 0 18 'year1'\n",
      "  '2.00-2.49' 'No' 'No']\n",
      " [0.0 0.0 0.0 0.0 0.0 0.0 0.0 0.0 1.0 0.0 0.0 0.0 0 18 'year3'\n",
      "  '3.00-3.49' 'No' 'Yes']\n",
      " [0.0 0.0 0.0 0.0 1.0 0.0 0.0 0.0 0.0 0.0 0.0 0.0 0 19 'year1'\n",
      "  '2.50-2.99' 'No' 'Yes']\n",
      " [0.0 0.0 0.0 0.0 0.0 0.0 0.0 0.0 0.0 0.0 1.0 0.0 0 18 'year1'\n",
      "  '3.50-4.00' 'No' 'No']\n",
      " [0.0 0.0 0.0 0.0 0.0 1.0 0.0 0.0 0.0 0.0 0.0 0.0 0 24 'year2'\n",
      "  '2.50-2.99' 'Yes' 'Yes']\n",
      " [0.0 0.0 0.0 0.0 1.0 0.0 0.0 0.0 0.0 0.0 0.0 0.0 0 24 'year3'\n",
      "  '3.00-3.49' 'No' 'No']\n",
      " [0.0 0.0 0.0 0.0 0.0 1.0 0.0 0.0 0.0 0.0 0.0 0.0 0 22 'year4'\n",
      "  '3.50-4.00' 'No' 'No']\n",
      " [0.0 0.0 0.0 0.0 0.0 0.0 0.0 0.0 0.0 0.0 1.0 0.0 0 20 'year2'\n",
      "  '3.00-3.49' 'No' 'Yes']\n",
      " [0.0 0.0 0.0 0.0 1.0 0.0 0.0 0.0 0.0 0.0 0.0 0.0 1 20 'year1' '0-1.99'\n",
      "  'No' 'No']\n",
      " [0.0 0.0 0.0 1.0 0.0 0.0 0.0 0.0 0.0 0.0 0.0 0.0 1 23 'year2'\n",
      "  '3.50-4.00' 'No' 'No']\n",
      " [0.0 0.0 0.0 0.0 1.0 0.0 0.0 0.0 0.0 0.0 0.0 0.0 1 18 'year1'\n",
      "  '3.50-4.00' 'No' 'No']\n",
      " [0.0 0.0 0.0 0.0 0.0 1.0 0.0 0.0 0.0 0.0 0.0 0.0 0 19 'year1'\n",
      "  '3.50-4.00' 'No' 'No']\n",
      " [0.0 0.0 0.0 0.0 0.0 1.0 0.0 0.0 0.0 0.0 0.0 0.0 0 18 'year4'\n",
      "  '3.50-4.00' 'No' 'No']\n",
      " [0.0 0.0 0.0 0.0 1.0 0.0 0.0 0.0 0.0 0.0 0.0 0.0 1 24 'year2'\n",
      "  '3.00-3.49' 'No' 'Yes']\n",
      " [0.0 0.0 0.0 0.0 1.0 0.0 0.0 0.0 0.0 0.0 0.0 0.0 0 24 'year3'\n",
      "  '3.50-4.00' 'No' 'No']\n",
      " [0.0 0.0 0.0 0.0 0.0 0.0 0.0 1.0 0.0 0.0 0.0 0.0 0 23 'year1'\n",
      "  '2.50-2.99' 'Yes' 'Yes']\n",
      " [0.0 0.0 0.0 0.0 1.0 0.0 0.0 0.0 0.0 0.0 0.0 0.0 0 18 'year2'\n",
      "  '3.50-4.00' 'No' 'No']\n",
      " [0.0 0.0 0.0 0.0 0.0 0.0 1.0 0.0 0.0 0.0 0.0 0.0 0 19 'year3'\n",
      "  '3.00-3.49' 'No' 'No']\n",
      " [0.0 1.0 0.0 0.0 0.0 0.0 0.0 0.0 0.0 0.0 0.0 0.0 0 20 'year3'\n",
      "  '3.00-3.49' 'Yes' 'Yes']\n",
      " [0.0 0.0 0.0 0.0 1.0 0.0 0.0 0.0 0.0 0.0 0.0 0.0 0 19 'year1'\n",
      "  '3.50-4.00' 'No' 'Yes']\n",
      " [0.0 0.0 0.0 0.0 1.0 0.0 0.0 0.0 0.0 0.0 0.0 0.0 1 21 'year1'\n",
      "  '3.00-3.49' 'No' 'No']\n",
      " [0.0 1.0 0.0 0.0 0.0 0.0 0.0 0.0 0.0 0.0 0.0 0.0 1 23 'year3'\n",
      "  '3.50-4.00' 'No' 'No']\n",
      " [0.0 1.0 0.0 0.0 0.0 0.0 0.0 0.0 0.0 0.0 0.0 0.0 0 20 'year3'\n",
      "  '3.00-3.49' 'No' 'Yes']\n",
      " [0.0 0.0 0.0 0.0 1.0 0.0 0.0 0.0 0.0 0.0 0.0 0.0 0 18 'year1'\n",
      "  '3.50-4.00' 'No' 'No']\n",
      " [0.0 0.0 0.0 0.0 0.0 1.0 0.0 0.0 0.0 0.0 0.0 0.0 0 23 'year1'\n",
      "  '3.00-3.49' 'No' 'No']\n",
      " [0.0 0.0 0.0 0.0 1.0 0.0 0.0 0.0 0.0 0.0 0.0 0.0 0 18 'year3'\n",
      "  '3.00-3.49' 'No' 'No']\n",
      " [0.0 0.0 0.0 0.0 1.0 0.0 0.0 0.0 0.0 0.0 0.0 0.0 0 19 'year1'\n",
      "  '3.50-4.00' 'No' 'No']\n",
      " [0.0 0.0 0.0 0.0 0.0 1.0 0.0 0.0 0.0 0.0 0.0 0.0 0 18 'year1'\n",
      "  '3.50-4.00' 'No' 'No']\n",
      " [0.0 0.0 0.0 0.0 0.0 1.0 0.0 0.0 0.0 0.0 0.0 0.0 0 24 'year1'\n",
      "  '3.50-4.00' 'No' 'No']\n",
      " [0.0 0.0 0.0 0.0 0.0 1.0 0.0 0.0 0.0 0.0 0.0 0.0 0 24 'year1'\n",
      "  '3.50-4.00' 'No' 'No']\n",
      " [0.0 0.0 1.0 0.0 0.0 0.0 0.0 0.0 0.0 0.0 0.0 0.0 0 23 'year1'\n",
      "  '3.50-4.00' 'No' 'Yes']\n",
      " [0.0 0.0 0.0 0.0 0.0 1.0 0.0 0.0 0.0 0.0 0.0 0.0 0 18 'year3'\n",
      "  '3.00-3.49' 'No' 'No']\n",
      " [0.0 0.0 0.0 0.0 0.0 0.0 0.0 1.0 0.0 0.0 0.0 0.0 1 19 'year3'\n",
      "  '3.00-3.49' 'Yes' 'Yes']\n",
      " [0.0 0.0 0.0 0.0 1.0 0.0 0.0 0.0 0.0 0.0 0.0 0.0 0 18 'year1'\n",
      "  '3.50-4.00' 'No' 'Yes']\n",
      " [0.0 0.0 0.0 0.0 0.0 1.0 0.0 0.0 0.0 0.0 0.0 0.0 0 24 'year4'\n",
      "  '3.00-3.49' 'No' 'No']\n",
      " [0.0 0.0 0.0 0.0 0.0 0.0 1.0 0.0 0.0 0.0 0.0 0.0 0 24 'year1'\n",
      "  '3.00-3.49' 'No' 'No']\n",
      " [0.0 0.0 0.0 0.0 0.0 0.0 0.0 0.0 1.0 0.0 0.0 0.0 0 18 'year3'\n",
      "  '3.50-4.00' 'No' 'No']\n",
      " [0.0 0.0 0.0 0.0 1.0 0.0 0.0 0.0 0.0 0.0 0.0 0.0 0 19 'year3'\n",
      "  '3.00-3.49' 'Yes' 'Yes']\n",
      " [0.0 0.0 0.0 0.0 0.0 0.0 1.0 0.0 0.0 0.0 0.0 0.0 1 18 'year1' '0-1.99'\n",
      "  'No' 'No']\n",
      " [0.0 0.0 0.0 0.0 1.0 0.0 0.0 0.0 0.0 0.0 0.0 0.0 1 24 'year3'\n",
      "  '3.50-4.00' 'No' 'No']\n",
      " [0.0 0.0 0.0 0.0 0.0 1.0 0.0 0.0 0.0 0.0 0.0 0.0 0 24 'year1'\n",
      "  '3.50-4.00' 'No' 'No']\n",
      " [0.0 0.0 0.0 0.0 0.0 1.0 0.0 0.0 0.0 0.0 0.0 0.0 0 23 'year1'\n",
      "  '3.00-3.49' 'No' 'Yes']\n",
      " [0.0 0.0 0.0 0.0 0.0 0.0 0.0 0.0 0.0 0.0 0.0 1.0 0 18 'year2'\n",
      "  '3.00-3.49' 'No' 'No']\n",
      " [0.0 0.0 0.0 0.0 0.0 1.0 0.0 0.0 0.0 0.0 0.0 0.0 0 19 'year3' '0-1.99'\n",
      "  'No' 'No']\n",
      " [0.0 0.0 0.0 0.0 0.0 1.0 0.0 0.0 0.0 0.0 0.0 0.0 0 18 'year4'\n",
      "  '3.50-4.00' 'No' 'No']\n",
      " [0.0 0.0 0.0 1.0 0.0 0.0 0.0 0.0 0.0 0.0 0.0 0.0 0 24 'year2'\n",
      "  '3.50-4.00' 'Yes' 'Yes']\n",
      " [0.0 0.0 0.0 0.0 0.0 0.0 1.0 0.0 0.0 0.0 0.0 0.0 0 24 'year2'\n",
      "  '3.50-4.00' 'No' 'No']\n",
      " [0.0 0.0 0.0 0.0 0.0 1.0 0.0 0.0 0.0 0.0 0.0 0.0 0 19 'year1'\n",
      "  '3.00-3.49' 'No' 'Yes']\n",
      " [0.0 0.0 0.0 0.0 0.0 0.0 0.0 0.0 0.0 0.0 1.0 0.0 0 19 'year2'\n",
      "  '3.00-3.49' 'No' 'No']\n",
      " [0.0 0.0 0.0 0.0 0.0 0.0 1.0 0.0 0.0 0.0 0.0 0.0 1 23 'year1'\n",
      "  '3.00-3.49' 'No' 'No']\n",
      " [0.0 0.0 0.0 0.0 0.0 0.0 0.0 0.0 0.0 0.0 0.0 1.0 0 18 'year1'\n",
      "  '3.50-4.00' 'No' 'Yes']\n",
      " [0.0 0.0 0.0 0.0 0.0 0.0 0.0 0.0 0.0 0.0 1.0 0.0 0 19 'year3'\n",
      "  '3.00-3.49' 'No' 'No']\n",
      " [0.0 0.0 0.0 0.0 0.0 0.0 0.0 0.0 0.0 0.0 0.0 1.0 0 18 'year1'\n",
      "  '3.50-4.00' 'No' 'Yes']\n",
      " [0.0 0.0 0.0 0.0 1.0 0.0 0.0 0.0 0.0 0.0 0.0 0.0 1 24 'year1'\n",
      "  '3.00-3.49' 'No' 'No']\n",
      " [0.0 0.0 0.0 0.0 0.0 1.0 0.0 0.0 0.0 0.0 0.0 0.0 1 24 'year2'\n",
      "  '2.00-2.49' 'No' 'No']\n",
      " [0.0 1.0 0.0 0.0 0.0 0.0 0.0 0.0 0.0 0.0 0.0 0.0 0 23 'year3'\n",
      "  '3.50-4.00' 'No' 'No']\n",
      " [0.0 0.0 0.0 0.0 1.0 0.0 0.0 0.0 0.0 0.0 0.0 0.0 1 18 'year2'\n",
      "  '3.00-3.49' 'No' 'No']\n",
      " [0.0 0.0 0.0 0.0 0.0 1.0 0.0 0.0 0.0 0.0 0.0 0.0 0 19 'year2'\n",
      "  '3.00-3.49' 'Yes' 'Yes']\n",
      " [0.0 1.0 0.0 0.0 0.0 0.0 0.0 0.0 0.0 0.0 0.0 0.0 0 18 'year1'\n",
      "  '3.00-3.49' 'No' 'Yes']\n",
      " [0.0 0.0 0.0 0.0 0.0 0.0 0.0 0.0 0.0 0.0 1.0 0.0 0 24 'year3' '0-1.99'\n",
      "  'No' 'No']\n",
      " [0.0 0.0 0.0 0.0 0.0 0.0 0.0 0.0 0.0 0.0 1.0 0.0 0 18 'year1'\n",
      "  '3.50-4.00' 'No' 'No']\n",
      " [0.0 0.0 0.0 0.0 1.0 0.0 0.0 0.0 0.0 0.0 0.0 0.0 0 21 'year1'\n",
      "  '3.50-4.00' 'No' 'No']\n",
      " [0.0 0.0 0.0 0.0 0.0 1.0 0.0 0.0 0.0 0.0 0.0 0.0 1 18 'year2'\n",
      "  '3.00-3.49' 'No' 'Yes']\n",
      " [0.0 0.0 0.0 0.0 0.0 0.0 1.0 0.0 0.0 0.0 0.0 0.0 0 19 'year3'\n",
      "  '3.50-4.00' 'Yes' 'Yes']\n",
      " [0.0 0.0 0.0 0.0 0.0 0.0 0.0 0.0 0.0 0.0 1.0 0.0 0 23 'year4'\n",
      "  '3.50-4.00' 'No' 'No']\n",
      " [0.0 0.0 0.0 0.0 0.0 0.0 1.0 0.0 0.0 0.0 0.0 0.0 1 20 'year2'\n",
      "  '3.00-3.49' 'No' 'No']]\n"
     ]
    }
   ],
   "source": [
    "np.set_printoptions(threshold=np.inf)\n",
    "print(X)"
   ]
  },
  {
   "cell_type": "code",
   "execution_count": 18,
   "metadata": {},
   "outputs": [
    {
     "name": "stdout",
     "output_type": "stream",
     "text": [
      "['year1', 'year2', 'year3', 'year4']\n"
     ]
    }
   ],
   "source": [
    "unique_strings = np.unique(X[:, 14]).tolist()\n",
    "\n",
    "print(unique_strings)"
   ]
  },
  {
   "cell_type": "markdown",
   "metadata": {},
   "source": [
    "| Year   | One-Hot Encoding                  |\n",
    "|--------|-----------------------------------|\n",
    "| year1  | [1, 0, 0, 0]                      |\n",
    "| year2  | [0, 1, 0, 0]                      |\n",
    "| year3  | [0, 0, 1, 0]                      |\n",
    "| year4  | [0, 0, 0, 1]                      |\n"
   ]
  },
  {
   "cell_type": "code",
   "execution_count": 19,
   "metadata": {},
   "outputs": [],
   "source": [
    "#Applying One Hot encoding on Course Column\n",
    "\n",
    "ct = ColumnTransformer(transformers=[('encoder', OneHotEncoder(), [14])], remainder='passthrough')\n",
    "X = np.array(ct.fit_transform(X))"
   ]
  },
  {
   "cell_type": "code",
   "execution_count": 20,
   "metadata": {},
   "outputs": [
    {
     "name": "stdout",
     "output_type": "stream",
     "text": [
      "[[1.0 0.0 0.0 0.0 0.0 0.0 0.0 0.0 0.0 1.0 0.0 0.0 0.0 0.0 0.0 0.0 0 18\n",
      "  '3.00-3.49' 'No' 'Yes']\n",
      " [0.0 1.0 0.0 0.0 0.0 0.0 0.0 0.0 0.0 0.0 0.0 0.0 0.0 0.0 1.0 0.0 1 21\n",
      "  '3.00-3.49' 'No' 'No']\n",
      " [1.0 0.0 0.0 0.0 0.0 0.0 0.0 0.0 1.0 0.0 0.0 0.0 0.0 0.0 0.0 0.0 1 19\n",
      "  '3.00-3.49' 'No' 'Yes']\n",
      " [0.0 0.0 1.0 0.0 0.0 0.0 0.0 0.0 0.0 0.0 0.0 0.0 1.0 0.0 0.0 0.0 0 22\n",
      "  '3.00-3.49' 'Yes' 'Yes']\n",
      " [0.0 0.0 0.0 1.0 0.0 0.0 0.0 0.0 0.0 0.0 0.0 0.0 0.0 1.0 0.0 0.0 1 23\n",
      "  '3.00-3.49' 'No' 'No']\n",
      " [0.0 1.0 0.0 0.0 0.0 0.0 0.0 0.0 0.0 1.0 0.0 0.0 0.0 0.0 0.0 0.0 1 19\n",
      "  '3.50-4.00' 'No' 'No']\n",
      " [0.0 1.0 0.0 0.0 0.0 0.0 0.0 0.0 0.0 0.0 0.0 0.0 0.0 0.0 1.0 0.0 0 23\n",
      "  '3.50-4.00' 'Yes' 'Yes']\n",
      " [1.0 0.0 0.0 0.0 0.0 0.0 0.0 0.0 1.0 0.0 0.0 0.0 0.0 0.0 0.0 0.0 0 18\n",
      "  '3.50-4.00' 'No' 'No']\n",
      " [0.0 1.0 0.0 0.0 0.0 0.0 1.0 0.0 0.0 0.0 0.0 0.0 0.0 0.0 0.0 0.0 0 19\n",
      "  '2.50-2.99' 'No' 'No']\n",
      " [1.0 0.0 0.0 0.0 0.0 0.0 0.0 0.0 0.0 0.0 0.0 1.0 0.0 0.0 0.0 0.0 1 18\n",
      "  '3.50-4.00' 'No' 'No']\n",
      " [1.0 0.0 0.0 0.0 0.0 0.0 0.0 0.0 0.0 0.0 0.0 0.0 0.0 0.0 0.0 1.0 0 20\n",
      "  '3.50-4.00' 'No' 'No']\n",
      " [0.0 0.0 1.0 0.0 0.0 0.0 0.0 0.0 0.0 1.0 0.0 0.0 0.0 0.0 0.0 0.0 0 24\n",
      "  '3.50-4.00' 'Yes' 'Yes']\n",
      " [1.0 0.0 0.0 0.0 0.0 0.0 0.0 0.0 1.0 0.0 0.0 0.0 0.0 0.0 0.0 0.0 0 18\n",
      "  '3.00-3.49' 'No' 'Yes']\n",
      " [1.0 0.0 0.0 0.0 0.0 0.0 0.0 0.0 0.0 1.0 0.0 0.0 0.0 0.0 0.0 0.0 1 19\n",
      "  '3.00-3.49' 'No' 'No']\n",
      " [0.0 1.0 0.0 0.0 0.0 0.0 0.0 0.0 0.0 1.0 0.0 0.0 0.0 0.0 0.0 0.0 0 18\n",
      "  '3.50-4.00' 'No' 'No']\n",
      " [0.0 0.0 1.0 0.0 0.0 0.0 0.0 0.0 1.0 0.0 0.0 0.0 0.0 0.0 0.0 0.0 1 24\n",
      "  '3.50-4.00' 'No' 'No']\n",
      " [0.0 0.0 1.0 0.0 0.0 0.0 1.0 0.0 0.0 0.0 0.0 0.0 0.0 0.0 0.0 0.0 0 24\n",
      "  '3.00-3.49' 'No' 'No']\n",
      " [0.0 0.0 0.0 1.0 0.0 0.0 0.0 0.0 0.0 1.0 0.0 0.0 0.0 0.0 0.0 0.0 0 24\n",
      "  '3.00-3.49' 'Yes' 'Yes']\n",
      " [0.0 1.0 0.0 0.0 0.0 0.0 0.0 0.0 1.0 0.0 0.0 0.0 0.0 0.0 0.0 0.0 0 20\n",
      "  '3.50-4.00' 'No' 'No']\n",
      " [0.0 1.0 0.0 0.0 1.0 0.0 0.0 0.0 0.0 0.0 0.0 0.0 0.0 0.0 0.0 0.0 0 18\n",
      "  '3.50-4.00' 'Yes' 'Yes']\n",
      " [1.0 0.0 0.0 0.0 0.0 0.0 0.0 0.0 0.0 1.0 0.0 0.0 0.0 0.0 0.0 0.0 0 19\n",
      "  '3.00-3.49' 'No' 'No']\n",
      " [0.0 1.0 0.0 0.0 0.0 0.0 0.0 1.0 0.0 0.0 0.0 0.0 0.0 0.0 0.0 0.0 0 18\n",
      "  '3.00-3.49' 'No' 'No']\n",
      " [1.0 0.0 0.0 0.0 0.0 0.0 0.0 0.0 1.0 0.0 0.0 0.0 0.0 0.0 0.0 0.0 0 24\n",
      "  '3.50-4.00' 'No' 'No']\n",
      " [1.0 0.0 0.0 0.0 0.0 0.0 0.0 0.0 0.0 1.0 0.0 0.0 0.0 0.0 0.0 0.0 0 24\n",
      "  '3.00-3.49' 'No' 'No']\n",
      " [0.0 0.0 1.0 0.0 0.0 0.0 0.0 0.0 1.0 0.0 0.0 0.0 0.0 0.0 0.0 0.0 0 23\n",
      "  '3.50-4.00' 'No' 'Yes']\n",
      " [1.0 0.0 0.0 0.0 0.0 0.0 1.0 0.0 0.0 0.0 0.0 0.0 0.0 0.0 0.0 0.0 0 18\n",
      "  '3.50-4.00' 'No' 'No']\n",
      " [1.0 0.0 0.0 0.0 0.0 0.0 0.0 0.0 0.0 1.0 0.0 0.0 0.0 0.0 0.0 0.0 0 19\n",
      "  '3.50-4.00' 'No' 'No']\n",
      " [0.0 1.0 0.0 0.0 0.0 0.0 0.0 0.0 0.0 1.0 0.0 0.0 0.0 0.0 0.0 0.0 1 18\n",
      "  '3.00-3.49' 'Yes' 'Yes']\n",
      " [0.0 0.0 1.0 0.0 0.0 0.0 0.0 0.0 1.0 0.0 0.0 0.0 0.0 0.0 0.0 0.0 0 24\n",
      "  '3.50-4.00' 'Yes' 'Yes']\n",
      " [0.0 0.0 0.0 1.0 0.0 0.0 0.0 0.0 1.0 0.0 0.0 0.0 0.0 0.0 0.0 0.0 0 24\n",
      "  '3.50-4.00' 'No' 'No']\n",
      " [0.0 1.0 0.0 0.0 0.0 0.0 1.0 0.0 0.0 0.0 0.0 0.0 0.0 0.0 0.0 0.0 0 23\n",
      "  '3.00-3.49' 'No' 'No']\n",
      " [0.0 1.0 0.0 0.0 0.0 0.0 0.0 0.0 1.0 0.0 0.0 0.0 0.0 0.0 0.0 0.0 1 18\n",
      "  '3.00-3.49' 'No' 'No']\n",
      " [1.0 0.0 0.0 0.0 0.0 0.0 0.0 0.0 1.0 0.0 0.0 0.0 0.0 0.0 0.0 0.0 1 19\n",
      "  '3.50-4.00' 'No' 'No']\n",
      " [0.0 1.0 0.0 0.0 0.0 0.0 0.0 0.0 1.0 0.0 0.0 0.0 0.0 0.0 0.0 0.0 1 18\n",
      "  '3.50-4.00' 'Yes' 'Yes']\n",
      " [1.0 0.0 0.0 0.0 0.0 0.0 0.0 0.0 1.0 0.0 0.0 0.0 0.0 0.0 0.0 0.0 0 19\n",
      "  '3.00-3.49' 'No' 'Yes']\n",
      " [1.0 0.0 0.0 0.0 0.0 0.0 0.0 0.0 0.0 1.0 0.0 0.0 0.0 0.0 0.0 0.0 0 18\n",
      "  '2.00-2.49' 'No' 'No']\n",
      " [0.0 0.0 1.0 0.0 0.0 0.0 0.0 0.0 0.0 0.0 0.0 0.0 1.0 0.0 0.0 0.0 0 18\n",
      "  '3.00-3.49' 'No' 'Yes']\n",
      " [1.0 0.0 0.0 0.0 0.0 0.0 0.0 0.0 1.0 0.0 0.0 0.0 0.0 0.0 0.0 0.0 0 19\n",
      "  '2.50-2.99' 'No' 'Yes']\n",
      " [1.0 0.0 0.0 0.0 0.0 0.0 0.0 0.0 0.0 0.0 0.0 0.0 0.0 0.0 1.0 0.0 0 18\n",
      "  '3.50-4.00' 'No' 'No']\n",
      " [0.0 1.0 0.0 0.0 0.0 0.0 0.0 0.0 0.0 1.0 0.0 0.0 0.0 0.0 0.0 0.0 0 24\n",
      "  '2.50-2.99' 'Yes' 'Yes']\n",
      " [0.0 0.0 1.0 0.0 0.0 0.0 0.0 0.0 1.0 0.0 0.0 0.0 0.0 0.0 0.0 0.0 0 24\n",
      "  '3.00-3.49' 'No' 'No']\n",
      " [0.0 0.0 0.0 1.0 0.0 0.0 0.0 0.0 0.0 1.0 0.0 0.0 0.0 0.0 0.0 0.0 0 22\n",
      "  '3.50-4.00' 'No' 'No']\n",
      " [0.0 1.0 0.0 0.0 0.0 0.0 0.0 0.0 0.0 0.0 0.0 0.0 0.0 0.0 1.0 0.0 0 20\n",
      "  '3.00-3.49' 'No' 'Yes']\n",
      " [1.0 0.0 0.0 0.0 0.0 0.0 0.0 0.0 1.0 0.0 0.0 0.0 0.0 0.0 0.0 0.0 1 20\n",
      "  '0-1.99' 'No' 'No']\n",
      " [0.0 1.0 0.0 0.0 0.0 0.0 0.0 1.0 0.0 0.0 0.0 0.0 0.0 0.0 0.0 0.0 1 23\n",
      "  '3.50-4.00' 'No' 'No']\n",
      " [1.0 0.0 0.0 0.0 0.0 0.0 0.0 0.0 1.0 0.0 0.0 0.0 0.0 0.0 0.0 0.0 1 18\n",
      "  '3.50-4.00' 'No' 'No']\n",
      " [1.0 0.0 0.0 0.0 0.0 0.0 0.0 0.0 0.0 1.0 0.0 0.0 0.0 0.0 0.0 0.0 0 19\n",
      "  '3.50-4.00' 'No' 'No']\n",
      " [0.0 0.0 0.0 1.0 0.0 0.0 0.0 0.0 0.0 1.0 0.0 0.0 0.0 0.0 0.0 0.0 0 18\n",
      "  '3.50-4.00' 'No' 'No']\n",
      " [0.0 1.0 0.0 0.0 0.0 0.0 0.0 0.0 1.0 0.0 0.0 0.0 0.0 0.0 0.0 0.0 1 24\n",
      "  '3.00-3.49' 'No' 'Yes']\n",
      " [0.0 0.0 1.0 0.0 0.0 0.0 0.0 0.0 1.0 0.0 0.0 0.0 0.0 0.0 0.0 0.0 0 24\n",
      "  '3.50-4.00' 'No' 'No']\n",
      " [1.0 0.0 0.0 0.0 0.0 0.0 0.0 0.0 0.0 0.0 0.0 1.0 0.0 0.0 0.0 0.0 0 23\n",
      "  '2.50-2.99' 'Yes' 'Yes']\n",
      " [0.0 1.0 0.0 0.0 0.0 0.0 0.0 0.0 1.0 0.0 0.0 0.0 0.0 0.0 0.0 0.0 0 18\n",
      "  '3.50-4.00' 'No' 'No']\n",
      " [0.0 0.0 1.0 0.0 0.0 0.0 0.0 0.0 0.0 0.0 1.0 0.0 0.0 0.0 0.0 0.0 0 19\n",
      "  '3.00-3.49' 'No' 'No']\n",
      " [0.0 0.0 1.0 0.0 0.0 1.0 0.0 0.0 0.0 0.0 0.0 0.0 0.0 0.0 0.0 0.0 0 20\n",
      "  '3.00-3.49' 'Yes' 'Yes']\n",
      " [1.0 0.0 0.0 0.0 0.0 0.0 0.0 0.0 1.0 0.0 0.0 0.0 0.0 0.0 0.0 0.0 0 19\n",
      "  '3.50-4.00' 'No' 'Yes']\n",
      " [1.0 0.0 0.0 0.0 0.0 0.0 0.0 0.0 1.0 0.0 0.0 0.0 0.0 0.0 0.0 0.0 1 21\n",
      "  '3.00-3.49' 'No' 'No']\n",
      " [0.0 0.0 1.0 0.0 0.0 1.0 0.0 0.0 0.0 0.0 0.0 0.0 0.0 0.0 0.0 0.0 1 23\n",
      "  '3.50-4.00' 'No' 'No']\n",
      " [0.0 0.0 1.0 0.0 0.0 1.0 0.0 0.0 0.0 0.0 0.0 0.0 0.0 0.0 0.0 0.0 0 20\n",
      "  '3.00-3.49' 'No' 'Yes']\n",
      " [1.0 0.0 0.0 0.0 0.0 0.0 0.0 0.0 1.0 0.0 0.0 0.0 0.0 0.0 0.0 0.0 0 18\n",
      "  '3.50-4.00' 'No' 'No']\n",
      " [1.0 0.0 0.0 0.0 0.0 0.0 0.0 0.0 0.0 1.0 0.0 0.0 0.0 0.0 0.0 0.0 0 23\n",
      "  '3.00-3.49' 'No' 'No']\n",
      " [0.0 0.0 1.0 0.0 0.0 0.0 0.0 0.0 1.0 0.0 0.0 0.0 0.0 0.0 0.0 0.0 0 18\n",
      "  '3.00-3.49' 'No' 'No']\n",
      " [1.0 0.0 0.0 0.0 0.0 0.0 0.0 0.0 1.0 0.0 0.0 0.0 0.0 0.0 0.0 0.0 0 19\n",
      "  '3.50-4.00' 'No' 'No']\n",
      " [1.0 0.0 0.0 0.0 0.0 0.0 0.0 0.0 0.0 1.0 0.0 0.0 0.0 0.0 0.0 0.0 0 18\n",
      "  '3.50-4.00' 'No' 'No']\n",
      " [1.0 0.0 0.0 0.0 0.0 0.0 0.0 0.0 0.0 1.0 0.0 0.0 0.0 0.0 0.0 0.0 0 24\n",
      "  '3.50-4.00' 'No' 'No']\n",
      " [1.0 0.0 0.0 0.0 0.0 0.0 0.0 0.0 0.0 1.0 0.0 0.0 0.0 0.0 0.0 0.0 0 24\n",
      "  '3.50-4.00' 'No' 'No']\n",
      " [1.0 0.0 0.0 0.0 0.0 0.0 1.0 0.0 0.0 0.0 0.0 0.0 0.0 0.0 0.0 0.0 0 23\n",
      "  '3.50-4.00' 'No' 'Yes']\n",
      " [0.0 0.0 1.0 0.0 0.0 0.0 0.0 0.0 0.0 1.0 0.0 0.0 0.0 0.0 0.0 0.0 0 18\n",
      "  '3.00-3.49' 'No' 'No']\n",
      " [0.0 0.0 1.0 0.0 0.0 0.0 0.0 0.0 0.0 0.0 0.0 1.0 0.0 0.0 0.0 0.0 1 19\n",
      "  '3.00-3.49' 'Yes' 'Yes']\n",
      " [1.0 0.0 0.0 0.0 0.0 0.0 0.0 0.0 1.0 0.0 0.0 0.0 0.0 0.0 0.0 0.0 0 18\n",
      "  '3.50-4.00' 'No' 'Yes']\n",
      " [0.0 0.0 0.0 1.0 0.0 0.0 0.0 0.0 0.0 1.0 0.0 0.0 0.0 0.0 0.0 0.0 0 24\n",
      "  '3.00-3.49' 'No' 'No']\n",
      " [1.0 0.0 0.0 0.0 0.0 0.0 0.0 0.0 0.0 0.0 1.0 0.0 0.0 0.0 0.0 0.0 0 24\n",
      "  '3.00-3.49' 'No' 'No']\n",
      " [0.0 0.0 1.0 0.0 0.0 0.0 0.0 0.0 0.0 0.0 0.0 0.0 1.0 0.0 0.0 0.0 0 18\n",
      "  '3.50-4.00' 'No' 'No']\n",
      " [0.0 0.0 1.0 0.0 0.0 0.0 0.0 0.0 1.0 0.0 0.0 0.0 0.0 0.0 0.0 0.0 0 19\n",
      "  '3.00-3.49' 'Yes' 'Yes']\n",
      " [1.0 0.0 0.0 0.0 0.0 0.0 0.0 0.0 0.0 0.0 1.0 0.0 0.0 0.0 0.0 0.0 1 18\n",
      "  '0-1.99' 'No' 'No']\n",
      " [0.0 0.0 1.0 0.0 0.0 0.0 0.0 0.0 1.0 0.0 0.0 0.0 0.0 0.0 0.0 0.0 1 24\n",
      "  '3.50-4.00' 'No' 'No']\n",
      " [1.0 0.0 0.0 0.0 0.0 0.0 0.0 0.0 0.0 1.0 0.0 0.0 0.0 0.0 0.0 0.0 0 24\n",
      "  '3.50-4.00' 'No' 'No']\n",
      " [1.0 0.0 0.0 0.0 0.0 0.0 0.0 0.0 0.0 1.0 0.0 0.0 0.0 0.0 0.0 0.0 0 23\n",
      "  '3.00-3.49' 'No' 'Yes']\n",
      " [0.0 1.0 0.0 0.0 0.0 0.0 0.0 0.0 0.0 0.0 0.0 0.0 0.0 0.0 0.0 1.0 0 18\n",
      "  '3.00-3.49' 'No' 'No']\n",
      " [0.0 0.0 1.0 0.0 0.0 0.0 0.0 0.0 0.0 1.0 0.0 0.0 0.0 0.0 0.0 0.0 0 19\n",
      "  '0-1.99' 'No' 'No']\n",
      " [0.0 0.0 0.0 1.0 0.0 0.0 0.0 0.0 0.0 1.0 0.0 0.0 0.0 0.0 0.0 0.0 0 18\n",
      "  '3.50-4.00' 'No' 'No']\n",
      " [0.0 1.0 0.0 0.0 0.0 0.0 0.0 1.0 0.0 0.0 0.0 0.0 0.0 0.0 0.0 0.0 0 24\n",
      "  '3.50-4.00' 'Yes' 'Yes']\n",
      " [0.0 1.0 0.0 0.0 0.0 0.0 0.0 0.0 0.0 0.0 1.0 0.0 0.0 0.0 0.0 0.0 0 24\n",
      "  '3.50-4.00' 'No' 'No']\n",
      " [1.0 0.0 0.0 0.0 0.0 0.0 0.0 0.0 0.0 1.0 0.0 0.0 0.0 0.0 0.0 0.0 0 19\n",
      "  '3.00-3.49' 'No' 'Yes']\n",
      " [0.0 1.0 0.0 0.0 0.0 0.0 0.0 0.0 0.0 0.0 0.0 0.0 0.0 0.0 1.0 0.0 0 19\n",
      "  '3.00-3.49' 'No' 'No']\n",
      " [1.0 0.0 0.0 0.0 0.0 0.0 0.0 0.0 0.0 0.0 1.0 0.0 0.0 0.0 0.0 0.0 1 23\n",
      "  '3.00-3.49' 'No' 'No']\n",
      " [1.0 0.0 0.0 0.0 0.0 0.0 0.0 0.0 0.0 0.0 0.0 0.0 0.0 0.0 0.0 1.0 0 18\n",
      "  '3.50-4.00' 'No' 'Yes']\n",
      " [0.0 0.0 1.0 0.0 0.0 0.0 0.0 0.0 0.0 0.0 0.0 0.0 0.0 0.0 1.0 0.0 0 19\n",
      "  '3.00-3.49' 'No' 'No']\n",
      " [1.0 0.0 0.0 0.0 0.0 0.0 0.0 0.0 0.0 0.0 0.0 0.0 0.0 0.0 0.0 1.0 0 18\n",
      "  '3.50-4.00' 'No' 'Yes']\n",
      " [1.0 0.0 0.0 0.0 0.0 0.0 0.0 0.0 1.0 0.0 0.0 0.0 0.0 0.0 0.0 0.0 1 24\n",
      "  '3.00-3.49' 'No' 'No']\n",
      " [0.0 1.0 0.0 0.0 0.0 0.0 0.0 0.0 0.0 1.0 0.0 0.0 0.0 0.0 0.0 0.0 1 24\n",
      "  '2.00-2.49' 'No' 'No']\n",
      " [0.0 0.0 1.0 0.0 0.0 1.0 0.0 0.0 0.0 0.0 0.0 0.0 0.0 0.0 0.0 0.0 0 23\n",
      "  '3.50-4.00' 'No' 'No']\n",
      " [0.0 1.0 0.0 0.0 0.0 0.0 0.0 0.0 1.0 0.0 0.0 0.0 0.0 0.0 0.0 0.0 1 18\n",
      "  '3.00-3.49' 'No' 'No']\n",
      " [0.0 1.0 0.0 0.0 0.0 0.0 0.0 0.0 0.0 1.0 0.0 0.0 0.0 0.0 0.0 0.0 0 19\n",
      "  '3.00-3.49' 'Yes' 'Yes']\n",
      " [1.0 0.0 0.0 0.0 0.0 1.0 0.0 0.0 0.0 0.0 0.0 0.0 0.0 0.0 0.0 0.0 0 18\n",
      "  '3.00-3.49' 'No' 'Yes']\n",
      " [0.0 0.0 1.0 0.0 0.0 0.0 0.0 0.0 0.0 0.0 0.0 0.0 0.0 0.0 1.0 0.0 0 24\n",
      "  '0-1.99' 'No' 'No']\n",
      " [1.0 0.0 0.0 0.0 0.0 0.0 0.0 0.0 0.0 0.0 0.0 0.0 0.0 0.0 1.0 0.0 0 18\n",
      "  '3.50-4.00' 'No' 'No']\n",
      " [1.0 0.0 0.0 0.0 0.0 0.0 0.0 0.0 1.0 0.0 0.0 0.0 0.0 0.0 0.0 0.0 0 21\n",
      "  '3.50-4.00' 'No' 'No']\n",
      " [0.0 1.0 0.0 0.0 0.0 0.0 0.0 0.0 0.0 1.0 0.0 0.0 0.0 0.0 0.0 0.0 1 18\n",
      "  '3.00-3.49' 'No' 'Yes']\n",
      " [0.0 0.0 1.0 0.0 0.0 0.0 0.0 0.0 0.0 0.0 1.0 0.0 0.0 0.0 0.0 0.0 0 19\n",
      "  '3.50-4.00' 'Yes' 'Yes']\n",
      " [0.0 0.0 0.0 1.0 0.0 0.0 0.0 0.0 0.0 0.0 0.0 0.0 0.0 0.0 1.0 0.0 0 23\n",
      "  '3.50-4.00' 'No' 'No']\n",
      " [0.0 1.0 0.0 0.0 0.0 0.0 0.0 0.0 0.0 0.0 1.0 0.0 0.0 0.0 0.0 0.0 1 20\n",
      "  '3.00-3.49' 'No' 'No']]\n"
     ]
    }
   ],
   "source": [
    "print(X)"
   ]
  },
  {
   "cell_type": "code",
   "execution_count": 21,
   "metadata": {},
   "outputs": [
    {
     "name": "stdout",
     "output_type": "stream",
     "text": [
      "['0-1.99', '2.00-2.49', '2.50-2.99', '3.00-3.49', '3.50-4.00']\n"
     ]
    }
   ],
   "source": [
    "unique_strings = np.unique(X[:, -3]).tolist()\n",
    "\n",
    "print(unique_strings)"
   ]
  },
  {
   "cell_type": "code",
   "execution_count": 22,
   "metadata": {},
   "outputs": [],
   "source": [
    "ct = ColumnTransformer(transformers=[('encoder', OneHotEncoder(), [-3])], remainder='passthrough')\n",
    "X = np.array(ct.fit_transform(X))"
   ]
  },
  {
   "cell_type": "markdown",
   "metadata": {},
   "source": [
    "| Grade Range | One-Hot Encoding                  |\n",
    "|-------------|-----------------------------------|\n",
    "| 0-1.99      | [1, 0, 0, 0, 0]                  |\n",
    "| 2.00-2.49   | [0, 1, 0, 0, 0]                  |\n",
    "| 2.50-2.99   | [0, 0, 1, 0, 0]                  |\n",
    "| 3.00-3.49   | [0, 0, 0, 1, 0]                  |\n",
    "| 3.50-4.00   | [0, 0, 0, 0, 1]                  |\n"
   ]
  },
  {
   "cell_type": "code",
   "execution_count": 23,
   "metadata": {},
   "outputs": [
    {
     "name": "stdout",
     "output_type": "stream",
     "text": [
      "[[0.0 0.0 0.0 1.0 0.0 1.0 0.0 0.0 0.0 0.0 0.0 0.0 0.0 0.0 1.0 0.0 0.0 0.0\n",
      "  0.0 0.0 0.0 0 18 'No' 'Yes']\n",
      " [0.0 0.0 0.0 1.0 0.0 0.0 1.0 0.0 0.0 0.0 0.0 0.0 0.0 0.0 0.0 0.0 0.0 0.0\n",
      "  0.0 1.0 0.0 1 21 'No' 'No']\n",
      " [0.0 0.0 0.0 1.0 0.0 1.0 0.0 0.0 0.0 0.0 0.0 0.0 0.0 1.0 0.0 0.0 0.0 0.0\n",
      "  0.0 0.0 0.0 1 19 'No' 'Yes']\n",
      " [0.0 0.0 0.0 1.0 0.0 0.0 0.0 1.0 0.0 0.0 0.0 0.0 0.0 0.0 0.0 0.0 0.0 1.0\n",
      "  0.0 0.0 0.0 0 22 'Yes' 'Yes']\n",
      " [0.0 0.0 0.0 1.0 0.0 0.0 0.0 0.0 1.0 0.0 0.0 0.0 0.0 0.0 0.0 0.0 0.0 0.0\n",
      "  1.0 0.0 0.0 1 23 'No' 'No']\n",
      " [0.0 0.0 0.0 0.0 1.0 0.0 1.0 0.0 0.0 0.0 0.0 0.0 0.0 0.0 1.0 0.0 0.0 0.0\n",
      "  0.0 0.0 0.0 1 19 'No' 'No']\n",
      " [0.0 0.0 0.0 0.0 1.0 0.0 1.0 0.0 0.0 0.0 0.0 0.0 0.0 0.0 0.0 0.0 0.0 0.0\n",
      "  0.0 1.0 0.0 0 23 'Yes' 'Yes']\n",
      " [0.0 0.0 0.0 0.0 1.0 1.0 0.0 0.0 0.0 0.0 0.0 0.0 0.0 1.0 0.0 0.0 0.0 0.0\n",
      "  0.0 0.0 0.0 0 18 'No' 'No']\n",
      " [0.0 0.0 1.0 0.0 0.0 0.0 1.0 0.0 0.0 0.0 0.0 1.0 0.0 0.0 0.0 0.0 0.0 0.0\n",
      "  0.0 0.0 0.0 0 19 'No' 'No']\n",
      " [0.0 0.0 0.0 0.0 1.0 1.0 0.0 0.0 0.0 0.0 0.0 0.0 0.0 0.0 0.0 0.0 1.0 0.0\n",
      "  0.0 0.0 0.0 1 18 'No' 'No']\n",
      " [0.0 0.0 0.0 0.0 1.0 1.0 0.0 0.0 0.0 0.0 0.0 0.0 0.0 0.0 0.0 0.0 0.0 0.0\n",
      "  0.0 0.0 1.0 0 20 'No' 'No']\n",
      " [0.0 0.0 0.0 0.0 1.0 0.0 0.0 1.0 0.0 0.0 0.0 0.0 0.0 0.0 1.0 0.0 0.0 0.0\n",
      "  0.0 0.0 0.0 0 24 'Yes' 'Yes']\n",
      " [0.0 0.0 0.0 1.0 0.0 1.0 0.0 0.0 0.0 0.0 0.0 0.0 0.0 1.0 0.0 0.0 0.0 0.0\n",
      "  0.0 0.0 0.0 0 18 'No' 'Yes']\n",
      " [0.0 0.0 0.0 1.0 0.0 1.0 0.0 0.0 0.0 0.0 0.0 0.0 0.0 0.0 1.0 0.0 0.0 0.0\n",
      "  0.0 0.0 0.0 1 19 'No' 'No']\n",
      " [0.0 0.0 0.0 0.0 1.0 0.0 1.0 0.0 0.0 0.0 0.0 0.0 0.0 0.0 1.0 0.0 0.0 0.0\n",
      "  0.0 0.0 0.0 0 18 'No' 'No']\n",
      " [0.0 0.0 0.0 0.0 1.0 0.0 0.0 1.0 0.0 0.0 0.0 0.0 0.0 1.0 0.0 0.0 0.0 0.0\n",
      "  0.0 0.0 0.0 1 24 'No' 'No']\n",
      " [0.0 0.0 0.0 1.0 0.0 0.0 0.0 1.0 0.0 0.0 0.0 1.0 0.0 0.0 0.0 0.0 0.0 0.0\n",
      "  0.0 0.0 0.0 0 24 'No' 'No']\n",
      " [0.0 0.0 0.0 1.0 0.0 0.0 0.0 0.0 1.0 0.0 0.0 0.0 0.0 0.0 1.0 0.0 0.0 0.0\n",
      "  0.0 0.0 0.0 0 24 'Yes' 'Yes']\n",
      " [0.0 0.0 0.0 0.0 1.0 0.0 1.0 0.0 0.0 0.0 0.0 0.0 0.0 1.0 0.0 0.0 0.0 0.0\n",
      "  0.0 0.0 0.0 0 20 'No' 'No']\n",
      " [0.0 0.0 0.0 0.0 1.0 0.0 1.0 0.0 0.0 1.0 0.0 0.0 0.0 0.0 0.0 0.0 0.0 0.0\n",
      "  0.0 0.0 0.0 0 18 'Yes' 'Yes']\n",
      " [0.0 0.0 0.0 1.0 0.0 1.0 0.0 0.0 0.0 0.0 0.0 0.0 0.0 0.0 1.0 0.0 0.0 0.0\n",
      "  0.0 0.0 0.0 0 19 'No' 'No']\n",
      " [0.0 0.0 0.0 1.0 0.0 0.0 1.0 0.0 0.0 0.0 0.0 0.0 1.0 0.0 0.0 0.0 0.0 0.0\n",
      "  0.0 0.0 0.0 0 18 'No' 'No']\n",
      " [0.0 0.0 0.0 0.0 1.0 1.0 0.0 0.0 0.0 0.0 0.0 0.0 0.0 1.0 0.0 0.0 0.0 0.0\n",
      "  0.0 0.0 0.0 0 24 'No' 'No']\n",
      " [0.0 0.0 0.0 1.0 0.0 1.0 0.0 0.0 0.0 0.0 0.0 0.0 0.0 0.0 1.0 0.0 0.0 0.0\n",
      "  0.0 0.0 0.0 0 24 'No' 'No']\n",
      " [0.0 0.0 0.0 0.0 1.0 0.0 0.0 1.0 0.0 0.0 0.0 0.0 0.0 1.0 0.0 0.0 0.0 0.0\n",
      "  0.0 0.0 0.0 0 23 'No' 'Yes']\n",
      " [0.0 0.0 0.0 0.0 1.0 1.0 0.0 0.0 0.0 0.0 0.0 1.0 0.0 0.0 0.0 0.0 0.0 0.0\n",
      "  0.0 0.0 0.0 0 18 'No' 'No']\n",
      " [0.0 0.0 0.0 0.0 1.0 1.0 0.0 0.0 0.0 0.0 0.0 0.0 0.0 0.0 1.0 0.0 0.0 0.0\n",
      "  0.0 0.0 0.0 0 19 'No' 'No']\n",
      " [0.0 0.0 0.0 1.0 0.0 0.0 1.0 0.0 0.0 0.0 0.0 0.0 0.0 0.0 1.0 0.0 0.0 0.0\n",
      "  0.0 0.0 0.0 1 18 'Yes' 'Yes']\n",
      " [0.0 0.0 0.0 0.0 1.0 0.0 0.0 1.0 0.0 0.0 0.0 0.0 0.0 1.0 0.0 0.0 0.0 0.0\n",
      "  0.0 0.0 0.0 0 24 'Yes' 'Yes']\n",
      " [0.0 0.0 0.0 0.0 1.0 0.0 0.0 0.0 1.0 0.0 0.0 0.0 0.0 1.0 0.0 0.0 0.0 0.0\n",
      "  0.0 0.0 0.0 0 24 'No' 'No']\n",
      " [0.0 0.0 0.0 1.0 0.0 0.0 1.0 0.0 0.0 0.0 0.0 1.0 0.0 0.0 0.0 0.0 0.0 0.0\n",
      "  0.0 0.0 0.0 0 23 'No' 'No']\n",
      " [0.0 0.0 0.0 1.0 0.0 0.0 1.0 0.0 0.0 0.0 0.0 0.0 0.0 1.0 0.0 0.0 0.0 0.0\n",
      "  0.0 0.0 0.0 1 18 'No' 'No']\n",
      " [0.0 0.0 0.0 0.0 1.0 1.0 0.0 0.0 0.0 0.0 0.0 0.0 0.0 1.0 0.0 0.0 0.0 0.0\n",
      "  0.0 0.0 0.0 1 19 'No' 'No']\n",
      " [0.0 0.0 0.0 0.0 1.0 0.0 1.0 0.0 0.0 0.0 0.0 0.0 0.0 1.0 0.0 0.0 0.0 0.0\n",
      "  0.0 0.0 0.0 1 18 'Yes' 'Yes']\n",
      " [0.0 0.0 0.0 1.0 0.0 1.0 0.0 0.0 0.0 0.0 0.0 0.0 0.0 1.0 0.0 0.0 0.0 0.0\n",
      "  0.0 0.0 0.0 0 19 'No' 'Yes']\n",
      " [0.0 1.0 0.0 0.0 0.0 1.0 0.0 0.0 0.0 0.0 0.0 0.0 0.0 0.0 1.0 0.0 0.0 0.0\n",
      "  0.0 0.0 0.0 0 18 'No' 'No']\n",
      " [0.0 0.0 0.0 1.0 0.0 0.0 0.0 1.0 0.0 0.0 0.0 0.0 0.0 0.0 0.0 0.0 0.0 1.0\n",
      "  0.0 0.0 0.0 0 18 'No' 'Yes']\n",
      " [0.0 0.0 1.0 0.0 0.0 1.0 0.0 0.0 0.0 0.0 0.0 0.0 0.0 1.0 0.0 0.0 0.0 0.0\n",
      "  0.0 0.0 0.0 0 19 'No' 'Yes']\n",
      " [0.0 0.0 0.0 0.0 1.0 1.0 0.0 0.0 0.0 0.0 0.0 0.0 0.0 0.0 0.0 0.0 0.0 0.0\n",
      "  0.0 1.0 0.0 0 18 'No' 'No']\n",
      " [0.0 0.0 1.0 0.0 0.0 0.0 1.0 0.0 0.0 0.0 0.0 0.0 0.0 0.0 1.0 0.0 0.0 0.0\n",
      "  0.0 0.0 0.0 0 24 'Yes' 'Yes']\n",
      " [0.0 0.0 0.0 1.0 0.0 0.0 0.0 1.0 0.0 0.0 0.0 0.0 0.0 1.0 0.0 0.0 0.0 0.0\n",
      "  0.0 0.0 0.0 0 24 'No' 'No']\n",
      " [0.0 0.0 0.0 0.0 1.0 0.0 0.0 0.0 1.0 0.0 0.0 0.0 0.0 0.0 1.0 0.0 0.0 0.0\n",
      "  0.0 0.0 0.0 0 22 'No' 'No']\n",
      " [0.0 0.0 0.0 1.0 0.0 0.0 1.0 0.0 0.0 0.0 0.0 0.0 0.0 0.0 0.0 0.0 0.0 0.0\n",
      "  0.0 1.0 0.0 0 20 'No' 'Yes']\n",
      " [1.0 0.0 0.0 0.0 0.0 1.0 0.0 0.0 0.0 0.0 0.0 0.0 0.0 1.0 0.0 0.0 0.0 0.0\n",
      "  0.0 0.0 0.0 1 20 'No' 'No']\n",
      " [0.0 0.0 0.0 0.0 1.0 0.0 1.0 0.0 0.0 0.0 0.0 0.0 1.0 0.0 0.0 0.0 0.0 0.0\n",
      "  0.0 0.0 0.0 1 23 'No' 'No']\n",
      " [0.0 0.0 0.0 0.0 1.0 1.0 0.0 0.0 0.0 0.0 0.0 0.0 0.0 1.0 0.0 0.0 0.0 0.0\n",
      "  0.0 0.0 0.0 1 18 'No' 'No']\n",
      " [0.0 0.0 0.0 0.0 1.0 1.0 0.0 0.0 0.0 0.0 0.0 0.0 0.0 0.0 1.0 0.0 0.0 0.0\n",
      "  0.0 0.0 0.0 0 19 'No' 'No']\n",
      " [0.0 0.0 0.0 0.0 1.0 0.0 0.0 0.0 1.0 0.0 0.0 0.0 0.0 0.0 1.0 0.0 0.0 0.0\n",
      "  0.0 0.0 0.0 0 18 'No' 'No']\n",
      " [0.0 0.0 0.0 1.0 0.0 0.0 1.0 0.0 0.0 0.0 0.0 0.0 0.0 1.0 0.0 0.0 0.0 0.0\n",
      "  0.0 0.0 0.0 1 24 'No' 'Yes']\n",
      " [0.0 0.0 0.0 0.0 1.0 0.0 0.0 1.0 0.0 0.0 0.0 0.0 0.0 1.0 0.0 0.0 0.0 0.0\n",
      "  0.0 0.0 0.0 0 24 'No' 'No']\n",
      " [0.0 0.0 1.0 0.0 0.0 1.0 0.0 0.0 0.0 0.0 0.0 0.0 0.0 0.0 0.0 0.0 1.0 0.0\n",
      "  0.0 0.0 0.0 0 23 'Yes' 'Yes']\n",
      " [0.0 0.0 0.0 0.0 1.0 0.0 1.0 0.0 0.0 0.0 0.0 0.0 0.0 1.0 0.0 0.0 0.0 0.0\n",
      "  0.0 0.0 0.0 0 18 'No' 'No']\n",
      " [0.0 0.0 0.0 1.0 0.0 0.0 0.0 1.0 0.0 0.0 0.0 0.0 0.0 0.0 0.0 1.0 0.0 0.0\n",
      "  0.0 0.0 0.0 0 19 'No' 'No']\n",
      " [0.0 0.0 0.0 1.0 0.0 0.0 0.0 1.0 0.0 0.0 1.0 0.0 0.0 0.0 0.0 0.0 0.0 0.0\n",
      "  0.0 0.0 0.0 0 20 'Yes' 'Yes']\n",
      " [0.0 0.0 0.0 0.0 1.0 1.0 0.0 0.0 0.0 0.0 0.0 0.0 0.0 1.0 0.0 0.0 0.0 0.0\n",
      "  0.0 0.0 0.0 0 19 'No' 'Yes']\n",
      " [0.0 0.0 0.0 1.0 0.0 1.0 0.0 0.0 0.0 0.0 0.0 0.0 0.0 1.0 0.0 0.0 0.0 0.0\n",
      "  0.0 0.0 0.0 1 21 'No' 'No']\n",
      " [0.0 0.0 0.0 0.0 1.0 0.0 0.0 1.0 0.0 0.0 1.0 0.0 0.0 0.0 0.0 0.0 0.0 0.0\n",
      "  0.0 0.0 0.0 1 23 'No' 'No']\n",
      " [0.0 0.0 0.0 1.0 0.0 0.0 0.0 1.0 0.0 0.0 1.0 0.0 0.0 0.0 0.0 0.0 0.0 0.0\n",
      "  0.0 0.0 0.0 0 20 'No' 'Yes']\n",
      " [0.0 0.0 0.0 0.0 1.0 1.0 0.0 0.0 0.0 0.0 0.0 0.0 0.0 1.0 0.0 0.0 0.0 0.0\n",
      "  0.0 0.0 0.0 0 18 'No' 'No']\n",
      " [0.0 0.0 0.0 1.0 0.0 1.0 0.0 0.0 0.0 0.0 0.0 0.0 0.0 0.0 1.0 0.0 0.0 0.0\n",
      "  0.0 0.0 0.0 0 23 'No' 'No']\n",
      " [0.0 0.0 0.0 1.0 0.0 0.0 0.0 1.0 0.0 0.0 0.0 0.0 0.0 1.0 0.0 0.0 0.0 0.0\n",
      "  0.0 0.0 0.0 0 18 'No' 'No']\n",
      " [0.0 0.0 0.0 0.0 1.0 1.0 0.0 0.0 0.0 0.0 0.0 0.0 0.0 1.0 0.0 0.0 0.0 0.0\n",
      "  0.0 0.0 0.0 0 19 'No' 'No']\n",
      " [0.0 0.0 0.0 0.0 1.0 1.0 0.0 0.0 0.0 0.0 0.0 0.0 0.0 0.0 1.0 0.0 0.0 0.0\n",
      "  0.0 0.0 0.0 0 18 'No' 'No']\n",
      " [0.0 0.0 0.0 0.0 1.0 1.0 0.0 0.0 0.0 0.0 0.0 0.0 0.0 0.0 1.0 0.0 0.0 0.0\n",
      "  0.0 0.0 0.0 0 24 'No' 'No']\n",
      " [0.0 0.0 0.0 0.0 1.0 1.0 0.0 0.0 0.0 0.0 0.0 0.0 0.0 0.0 1.0 0.0 0.0 0.0\n",
      "  0.0 0.0 0.0 0 24 'No' 'No']\n",
      " [0.0 0.0 0.0 0.0 1.0 1.0 0.0 0.0 0.0 0.0 0.0 1.0 0.0 0.0 0.0 0.0 0.0 0.0\n",
      "  0.0 0.0 0.0 0 23 'No' 'Yes']\n",
      " [0.0 0.0 0.0 1.0 0.0 0.0 0.0 1.0 0.0 0.0 0.0 0.0 0.0 0.0 1.0 0.0 0.0 0.0\n",
      "  0.0 0.0 0.0 0 18 'No' 'No']\n",
      " [0.0 0.0 0.0 1.0 0.0 0.0 0.0 1.0 0.0 0.0 0.0 0.0 0.0 0.0 0.0 0.0 1.0 0.0\n",
      "  0.0 0.0 0.0 1 19 'Yes' 'Yes']\n",
      " [0.0 0.0 0.0 0.0 1.0 1.0 0.0 0.0 0.0 0.0 0.0 0.0 0.0 1.0 0.0 0.0 0.0 0.0\n",
      "  0.0 0.0 0.0 0 18 'No' 'Yes']\n",
      " [0.0 0.0 0.0 1.0 0.0 0.0 0.0 0.0 1.0 0.0 0.0 0.0 0.0 0.0 1.0 0.0 0.0 0.0\n",
      "  0.0 0.0 0.0 0 24 'No' 'No']\n",
      " [0.0 0.0 0.0 1.0 0.0 1.0 0.0 0.0 0.0 0.0 0.0 0.0 0.0 0.0 0.0 1.0 0.0 0.0\n",
      "  0.0 0.0 0.0 0 24 'No' 'No']\n",
      " [0.0 0.0 0.0 0.0 1.0 0.0 0.0 1.0 0.0 0.0 0.0 0.0 0.0 0.0 0.0 0.0 0.0 1.0\n",
      "  0.0 0.0 0.0 0 18 'No' 'No']\n",
      " [0.0 0.0 0.0 1.0 0.0 0.0 0.0 1.0 0.0 0.0 0.0 0.0 0.0 1.0 0.0 0.0 0.0 0.0\n",
      "  0.0 0.0 0.0 0 19 'Yes' 'Yes']\n",
      " [1.0 0.0 0.0 0.0 0.0 1.0 0.0 0.0 0.0 0.0 0.0 0.0 0.0 0.0 0.0 1.0 0.0 0.0\n",
      "  0.0 0.0 0.0 1 18 'No' 'No']\n",
      " [0.0 0.0 0.0 0.0 1.0 0.0 0.0 1.0 0.0 0.0 0.0 0.0 0.0 1.0 0.0 0.0 0.0 0.0\n",
      "  0.0 0.0 0.0 1 24 'No' 'No']\n",
      " [0.0 0.0 0.0 0.0 1.0 1.0 0.0 0.0 0.0 0.0 0.0 0.0 0.0 0.0 1.0 0.0 0.0 0.0\n",
      "  0.0 0.0 0.0 0 24 'No' 'No']\n",
      " [0.0 0.0 0.0 1.0 0.0 1.0 0.0 0.0 0.0 0.0 0.0 0.0 0.0 0.0 1.0 0.0 0.0 0.0\n",
      "  0.0 0.0 0.0 0 23 'No' 'Yes']\n",
      " [0.0 0.0 0.0 1.0 0.0 0.0 1.0 0.0 0.0 0.0 0.0 0.0 0.0 0.0 0.0 0.0 0.0 0.0\n",
      "  0.0 0.0 1.0 0 18 'No' 'No']\n",
      " [1.0 0.0 0.0 0.0 0.0 0.0 0.0 1.0 0.0 0.0 0.0 0.0 0.0 0.0 1.0 0.0 0.0 0.0\n",
      "  0.0 0.0 0.0 0 19 'No' 'No']\n",
      " [0.0 0.0 0.0 0.0 1.0 0.0 0.0 0.0 1.0 0.0 0.0 0.0 0.0 0.0 1.0 0.0 0.0 0.0\n",
      "  0.0 0.0 0.0 0 18 'No' 'No']\n",
      " [0.0 0.0 0.0 0.0 1.0 0.0 1.0 0.0 0.0 0.0 0.0 0.0 1.0 0.0 0.0 0.0 0.0 0.0\n",
      "  0.0 0.0 0.0 0 24 'Yes' 'Yes']\n",
      " [0.0 0.0 0.0 0.0 1.0 0.0 1.0 0.0 0.0 0.0 0.0 0.0 0.0 0.0 0.0 1.0 0.0 0.0\n",
      "  0.0 0.0 0.0 0 24 'No' 'No']\n",
      " [0.0 0.0 0.0 1.0 0.0 1.0 0.0 0.0 0.0 0.0 0.0 0.0 0.0 0.0 1.0 0.0 0.0 0.0\n",
      "  0.0 0.0 0.0 0 19 'No' 'Yes']\n",
      " [0.0 0.0 0.0 1.0 0.0 0.0 1.0 0.0 0.0 0.0 0.0 0.0 0.0 0.0 0.0 0.0 0.0 0.0\n",
      "  0.0 1.0 0.0 0 19 'No' 'No']\n",
      " [0.0 0.0 0.0 1.0 0.0 1.0 0.0 0.0 0.0 0.0 0.0 0.0 0.0 0.0 0.0 1.0 0.0 0.0\n",
      "  0.0 0.0 0.0 1 23 'No' 'No']\n",
      " [0.0 0.0 0.0 0.0 1.0 1.0 0.0 0.0 0.0 0.0 0.0 0.0 0.0 0.0 0.0 0.0 0.0 0.0\n",
      "  0.0 0.0 1.0 0 18 'No' 'Yes']\n",
      " [0.0 0.0 0.0 1.0 0.0 0.0 0.0 1.0 0.0 0.0 0.0 0.0 0.0 0.0 0.0 0.0 0.0 0.0\n",
      "  0.0 1.0 0.0 0 19 'No' 'No']\n",
      " [0.0 0.0 0.0 0.0 1.0 1.0 0.0 0.0 0.0 0.0 0.0 0.0 0.0 0.0 0.0 0.0 0.0 0.0\n",
      "  0.0 0.0 1.0 0 18 'No' 'Yes']\n",
      " [0.0 0.0 0.0 1.0 0.0 1.0 0.0 0.0 0.0 0.0 0.0 0.0 0.0 1.0 0.0 0.0 0.0 0.0\n",
      "  0.0 0.0 0.0 1 24 'No' 'No']\n",
      " [0.0 1.0 0.0 0.0 0.0 0.0 1.0 0.0 0.0 0.0 0.0 0.0 0.0 0.0 1.0 0.0 0.0 0.0\n",
      "  0.0 0.0 0.0 1 24 'No' 'No']\n",
      " [0.0 0.0 0.0 0.0 1.0 0.0 0.0 1.0 0.0 0.0 1.0 0.0 0.0 0.0 0.0 0.0 0.0 0.0\n",
      "  0.0 0.0 0.0 0 23 'No' 'No']\n",
      " [0.0 0.0 0.0 1.0 0.0 0.0 1.0 0.0 0.0 0.0 0.0 0.0 0.0 1.0 0.0 0.0 0.0 0.0\n",
      "  0.0 0.0 0.0 1 18 'No' 'No']\n",
      " [0.0 0.0 0.0 1.0 0.0 0.0 1.0 0.0 0.0 0.0 0.0 0.0 0.0 0.0 1.0 0.0 0.0 0.0\n",
      "  0.0 0.0 0.0 0 19 'Yes' 'Yes']\n",
      " [0.0 0.0 0.0 1.0 0.0 1.0 0.0 0.0 0.0 0.0 1.0 0.0 0.0 0.0 0.0 0.0 0.0 0.0\n",
      "  0.0 0.0 0.0 0 18 'No' 'Yes']\n",
      " [1.0 0.0 0.0 0.0 0.0 0.0 0.0 1.0 0.0 0.0 0.0 0.0 0.0 0.0 0.0 0.0 0.0 0.0\n",
      "  0.0 1.0 0.0 0 24 'No' 'No']\n",
      " [0.0 0.0 0.0 0.0 1.0 1.0 0.0 0.0 0.0 0.0 0.0 0.0 0.0 0.0 0.0 0.0 0.0 0.0\n",
      "  0.0 1.0 0.0 0 18 'No' 'No']\n",
      " [0.0 0.0 0.0 0.0 1.0 1.0 0.0 0.0 0.0 0.0 0.0 0.0 0.0 1.0 0.0 0.0 0.0 0.0\n",
      "  0.0 0.0 0.0 0 21 'No' 'No']\n",
      " [0.0 0.0 0.0 1.0 0.0 0.0 1.0 0.0 0.0 0.0 0.0 0.0 0.0 0.0 1.0 0.0 0.0 0.0\n",
      "  0.0 0.0 0.0 1 18 'No' 'Yes']\n",
      " [0.0 0.0 0.0 0.0 1.0 0.0 0.0 1.0 0.0 0.0 0.0 0.0 0.0 0.0 0.0 1.0 0.0 0.0\n",
      "  0.0 0.0 0.0 0 19 'Yes' 'Yes']\n",
      " [0.0 0.0 0.0 0.0 1.0 0.0 0.0 0.0 1.0 0.0 0.0 0.0 0.0 0.0 0.0 0.0 0.0 0.0\n",
      "  0.0 1.0 0.0 0 23 'No' 'No']\n",
      " [0.0 0.0 0.0 1.0 0.0 0.0 1.0 0.0 0.0 0.0 0.0 0.0 0.0 0.0 0.0 1.0 0.0 0.0\n",
      "  0.0 0.0 0.0 1 20 'No' 'No']]\n"
     ]
    }
   ],
   "source": [
    "print(X)"
   ]
  },
  {
   "cell_type": "code",
   "execution_count": 24,
   "metadata": {},
   "outputs": [
    {
     "name": "stdout",
     "output_type": "stream",
     "text": [
      "Mapping of original strings to numerical labels:\n",
      "No: 0\n",
      "Yes: 1\n"
     ]
    }
   ],
   "source": [
    "# Label encoding for martial status \n",
    "\n",
    "from sklearn.preprocessing import LabelEncoder\n",
    "le = LabelEncoder()\n",
    "X[:, -2] = le.fit_transform(X[:, -2])\n",
    "\n",
    "print(\"Mapping of original strings to numerical labels:\")\n",
    "for original, label in zip(le.classes_, le.transform(le.classes_)):\n",
    "    print(f\"{original}: {label}\")"
   ]
  },
  {
   "cell_type": "code",
   "execution_count": 25,
   "metadata": {},
   "outputs": [
    {
     "name": "stdout",
     "output_type": "stream",
     "text": [
      "Mapping of original strings to numerical labels:\n",
      "No: 0\n",
      "Yes: 1\n"
     ]
    }
   ],
   "source": [
    "# Label encoding for depression\n",
    "\n",
    "from sklearn.preprocessing import LabelEncoder\n",
    "le = LabelEncoder()\n",
    "X[:, -1] = le.fit_transform(X[:, -1])\n",
    "\n",
    "print(\"Mapping of original strings to numerical labels:\")\n",
    "for original, label in zip(le.classes_, le.transform(le.classes_)):\n",
    "    print(f\"{original}: {label}\")"
   ]
  },
  {
   "cell_type": "code",
   "execution_count": 26,
   "metadata": {},
   "outputs": [
    {
     "name": "stdout",
     "output_type": "stream",
     "text": [
      "[[0.0 0.0 0.0 1.0 0.0 1.0 0.0 0.0 0.0 0.0 0.0 0.0 0.0 0.0 1.0 0.0 0.0 0.0\n",
      "  0.0 0.0 0.0 0 18 0 1]\n",
      " [0.0 0.0 0.0 1.0 0.0 0.0 1.0 0.0 0.0 0.0 0.0 0.0 0.0 0.0 0.0 0.0 0.0 0.0\n",
      "  0.0 1.0 0.0 1 21 0 0]\n",
      " [0.0 0.0 0.0 1.0 0.0 1.0 0.0 0.0 0.0 0.0 0.0 0.0 0.0 1.0 0.0 0.0 0.0 0.0\n",
      "  0.0 0.0 0.0 1 19 0 1]\n",
      " [0.0 0.0 0.0 1.0 0.0 0.0 0.0 1.0 0.0 0.0 0.0 0.0 0.0 0.0 0.0 0.0 0.0 1.0\n",
      "  0.0 0.0 0.0 0 22 1 1]\n",
      " [0.0 0.0 0.0 1.0 0.0 0.0 0.0 0.0 1.0 0.0 0.0 0.0 0.0 0.0 0.0 0.0 0.0 0.0\n",
      "  1.0 0.0 0.0 1 23 0 0]\n",
      " [0.0 0.0 0.0 0.0 1.0 0.0 1.0 0.0 0.0 0.0 0.0 0.0 0.0 0.0 1.0 0.0 0.0 0.0\n",
      "  0.0 0.0 0.0 1 19 0 0]\n",
      " [0.0 0.0 0.0 0.0 1.0 0.0 1.0 0.0 0.0 0.0 0.0 0.0 0.0 0.0 0.0 0.0 0.0 0.0\n",
      "  0.0 1.0 0.0 0 23 1 1]\n",
      " [0.0 0.0 0.0 0.0 1.0 1.0 0.0 0.0 0.0 0.0 0.0 0.0 0.0 1.0 0.0 0.0 0.0 0.0\n",
      "  0.0 0.0 0.0 0 18 0 0]\n",
      " [0.0 0.0 1.0 0.0 0.0 0.0 1.0 0.0 0.0 0.0 0.0 1.0 0.0 0.0 0.0 0.0 0.0 0.0\n",
      "  0.0 0.0 0.0 0 19 0 0]\n",
      " [0.0 0.0 0.0 0.0 1.0 1.0 0.0 0.0 0.0 0.0 0.0 0.0 0.0 0.0 0.0 0.0 1.0 0.0\n",
      "  0.0 0.0 0.0 1 18 0 0]\n",
      " [0.0 0.0 0.0 0.0 1.0 1.0 0.0 0.0 0.0 0.0 0.0 0.0 0.0 0.0 0.0 0.0 0.0 0.0\n",
      "  0.0 0.0 1.0 0 20 0 0]\n",
      " [0.0 0.0 0.0 0.0 1.0 0.0 0.0 1.0 0.0 0.0 0.0 0.0 0.0 0.0 1.0 0.0 0.0 0.0\n",
      "  0.0 0.0 0.0 0 24 1 1]\n",
      " [0.0 0.0 0.0 1.0 0.0 1.0 0.0 0.0 0.0 0.0 0.0 0.0 0.0 1.0 0.0 0.0 0.0 0.0\n",
      "  0.0 0.0 0.0 0 18 0 1]\n",
      " [0.0 0.0 0.0 1.0 0.0 1.0 0.0 0.0 0.0 0.0 0.0 0.0 0.0 0.0 1.0 0.0 0.0 0.0\n",
      "  0.0 0.0 0.0 1 19 0 0]\n",
      " [0.0 0.0 0.0 0.0 1.0 0.0 1.0 0.0 0.0 0.0 0.0 0.0 0.0 0.0 1.0 0.0 0.0 0.0\n",
      "  0.0 0.0 0.0 0 18 0 0]\n",
      " [0.0 0.0 0.0 0.0 1.0 0.0 0.0 1.0 0.0 0.0 0.0 0.0 0.0 1.0 0.0 0.0 0.0 0.0\n",
      "  0.0 0.0 0.0 1 24 0 0]\n",
      " [0.0 0.0 0.0 1.0 0.0 0.0 0.0 1.0 0.0 0.0 0.0 1.0 0.0 0.0 0.0 0.0 0.0 0.0\n",
      "  0.0 0.0 0.0 0 24 0 0]\n",
      " [0.0 0.0 0.0 1.0 0.0 0.0 0.0 0.0 1.0 0.0 0.0 0.0 0.0 0.0 1.0 0.0 0.0 0.0\n",
      "  0.0 0.0 0.0 0 24 1 1]\n",
      " [0.0 0.0 0.0 0.0 1.0 0.0 1.0 0.0 0.0 0.0 0.0 0.0 0.0 1.0 0.0 0.0 0.0 0.0\n",
      "  0.0 0.0 0.0 0 20 0 0]\n",
      " [0.0 0.0 0.0 0.0 1.0 0.0 1.0 0.0 0.0 1.0 0.0 0.0 0.0 0.0 0.0 0.0 0.0 0.0\n",
      "  0.0 0.0 0.0 0 18 1 1]\n",
      " [0.0 0.0 0.0 1.0 0.0 1.0 0.0 0.0 0.0 0.0 0.0 0.0 0.0 0.0 1.0 0.0 0.0 0.0\n",
      "  0.0 0.0 0.0 0 19 0 0]\n",
      " [0.0 0.0 0.0 1.0 0.0 0.0 1.0 0.0 0.0 0.0 0.0 0.0 1.0 0.0 0.0 0.0 0.0 0.0\n",
      "  0.0 0.0 0.0 0 18 0 0]\n",
      " [0.0 0.0 0.0 0.0 1.0 1.0 0.0 0.0 0.0 0.0 0.0 0.0 0.0 1.0 0.0 0.0 0.0 0.0\n",
      "  0.0 0.0 0.0 0 24 0 0]\n",
      " [0.0 0.0 0.0 1.0 0.0 1.0 0.0 0.0 0.0 0.0 0.0 0.0 0.0 0.0 1.0 0.0 0.0 0.0\n",
      "  0.0 0.0 0.0 0 24 0 0]\n",
      " [0.0 0.0 0.0 0.0 1.0 0.0 0.0 1.0 0.0 0.0 0.0 0.0 0.0 1.0 0.0 0.0 0.0 0.0\n",
      "  0.0 0.0 0.0 0 23 0 1]\n",
      " [0.0 0.0 0.0 0.0 1.0 1.0 0.0 0.0 0.0 0.0 0.0 1.0 0.0 0.0 0.0 0.0 0.0 0.0\n",
      "  0.0 0.0 0.0 0 18 0 0]\n",
      " [0.0 0.0 0.0 0.0 1.0 1.0 0.0 0.0 0.0 0.0 0.0 0.0 0.0 0.0 1.0 0.0 0.0 0.0\n",
      "  0.0 0.0 0.0 0 19 0 0]\n",
      " [0.0 0.0 0.0 1.0 0.0 0.0 1.0 0.0 0.0 0.0 0.0 0.0 0.0 0.0 1.0 0.0 0.0 0.0\n",
      "  0.0 0.0 0.0 1 18 1 1]\n",
      " [0.0 0.0 0.0 0.0 1.0 0.0 0.0 1.0 0.0 0.0 0.0 0.0 0.0 1.0 0.0 0.0 0.0 0.0\n",
      "  0.0 0.0 0.0 0 24 1 1]\n",
      " [0.0 0.0 0.0 0.0 1.0 0.0 0.0 0.0 1.0 0.0 0.0 0.0 0.0 1.0 0.0 0.0 0.0 0.0\n",
      "  0.0 0.0 0.0 0 24 0 0]\n",
      " [0.0 0.0 0.0 1.0 0.0 0.0 1.0 0.0 0.0 0.0 0.0 1.0 0.0 0.0 0.0 0.0 0.0 0.0\n",
      "  0.0 0.0 0.0 0 23 0 0]\n",
      " [0.0 0.0 0.0 1.0 0.0 0.0 1.0 0.0 0.0 0.0 0.0 0.0 0.0 1.0 0.0 0.0 0.0 0.0\n",
      "  0.0 0.0 0.0 1 18 0 0]\n",
      " [0.0 0.0 0.0 0.0 1.0 1.0 0.0 0.0 0.0 0.0 0.0 0.0 0.0 1.0 0.0 0.0 0.0 0.0\n",
      "  0.0 0.0 0.0 1 19 0 0]\n",
      " [0.0 0.0 0.0 0.0 1.0 0.0 1.0 0.0 0.0 0.0 0.0 0.0 0.0 1.0 0.0 0.0 0.0 0.0\n",
      "  0.0 0.0 0.0 1 18 1 1]\n",
      " [0.0 0.0 0.0 1.0 0.0 1.0 0.0 0.0 0.0 0.0 0.0 0.0 0.0 1.0 0.0 0.0 0.0 0.0\n",
      "  0.0 0.0 0.0 0 19 0 1]\n",
      " [0.0 1.0 0.0 0.0 0.0 1.0 0.0 0.0 0.0 0.0 0.0 0.0 0.0 0.0 1.0 0.0 0.0 0.0\n",
      "  0.0 0.0 0.0 0 18 0 0]\n",
      " [0.0 0.0 0.0 1.0 0.0 0.0 0.0 1.0 0.0 0.0 0.0 0.0 0.0 0.0 0.0 0.0 0.0 1.0\n",
      "  0.0 0.0 0.0 0 18 0 1]\n",
      " [0.0 0.0 1.0 0.0 0.0 1.0 0.0 0.0 0.0 0.0 0.0 0.0 0.0 1.0 0.0 0.0 0.0 0.0\n",
      "  0.0 0.0 0.0 0 19 0 1]\n",
      " [0.0 0.0 0.0 0.0 1.0 1.0 0.0 0.0 0.0 0.0 0.0 0.0 0.0 0.0 0.0 0.0 0.0 0.0\n",
      "  0.0 1.0 0.0 0 18 0 0]\n",
      " [0.0 0.0 1.0 0.0 0.0 0.0 1.0 0.0 0.0 0.0 0.0 0.0 0.0 0.0 1.0 0.0 0.0 0.0\n",
      "  0.0 0.0 0.0 0 24 1 1]\n",
      " [0.0 0.0 0.0 1.0 0.0 0.0 0.0 1.0 0.0 0.0 0.0 0.0 0.0 1.0 0.0 0.0 0.0 0.0\n",
      "  0.0 0.0 0.0 0 24 0 0]\n",
      " [0.0 0.0 0.0 0.0 1.0 0.0 0.0 0.0 1.0 0.0 0.0 0.0 0.0 0.0 1.0 0.0 0.0 0.0\n",
      "  0.0 0.0 0.0 0 22 0 0]\n",
      " [0.0 0.0 0.0 1.0 0.0 0.0 1.0 0.0 0.0 0.0 0.0 0.0 0.0 0.0 0.0 0.0 0.0 0.0\n",
      "  0.0 1.0 0.0 0 20 0 1]\n",
      " [1.0 0.0 0.0 0.0 0.0 1.0 0.0 0.0 0.0 0.0 0.0 0.0 0.0 1.0 0.0 0.0 0.0 0.0\n",
      "  0.0 0.0 0.0 1 20 0 0]\n",
      " [0.0 0.0 0.0 0.0 1.0 0.0 1.0 0.0 0.0 0.0 0.0 0.0 1.0 0.0 0.0 0.0 0.0 0.0\n",
      "  0.0 0.0 0.0 1 23 0 0]\n",
      " [0.0 0.0 0.0 0.0 1.0 1.0 0.0 0.0 0.0 0.0 0.0 0.0 0.0 1.0 0.0 0.0 0.0 0.0\n",
      "  0.0 0.0 0.0 1 18 0 0]\n",
      " [0.0 0.0 0.0 0.0 1.0 1.0 0.0 0.0 0.0 0.0 0.0 0.0 0.0 0.0 1.0 0.0 0.0 0.0\n",
      "  0.0 0.0 0.0 0 19 0 0]\n",
      " [0.0 0.0 0.0 0.0 1.0 0.0 0.0 0.0 1.0 0.0 0.0 0.0 0.0 0.0 1.0 0.0 0.0 0.0\n",
      "  0.0 0.0 0.0 0 18 0 0]\n",
      " [0.0 0.0 0.0 1.0 0.0 0.0 1.0 0.0 0.0 0.0 0.0 0.0 0.0 1.0 0.0 0.0 0.0 0.0\n",
      "  0.0 0.0 0.0 1 24 0 1]\n",
      " [0.0 0.0 0.0 0.0 1.0 0.0 0.0 1.0 0.0 0.0 0.0 0.0 0.0 1.0 0.0 0.0 0.0 0.0\n",
      "  0.0 0.0 0.0 0 24 0 0]\n",
      " [0.0 0.0 1.0 0.0 0.0 1.0 0.0 0.0 0.0 0.0 0.0 0.0 0.0 0.0 0.0 0.0 1.0 0.0\n",
      "  0.0 0.0 0.0 0 23 1 1]\n",
      " [0.0 0.0 0.0 0.0 1.0 0.0 1.0 0.0 0.0 0.0 0.0 0.0 0.0 1.0 0.0 0.0 0.0 0.0\n",
      "  0.0 0.0 0.0 0 18 0 0]\n",
      " [0.0 0.0 0.0 1.0 0.0 0.0 0.0 1.0 0.0 0.0 0.0 0.0 0.0 0.0 0.0 1.0 0.0 0.0\n",
      "  0.0 0.0 0.0 0 19 0 0]\n",
      " [0.0 0.0 0.0 1.0 0.0 0.0 0.0 1.0 0.0 0.0 1.0 0.0 0.0 0.0 0.0 0.0 0.0 0.0\n",
      "  0.0 0.0 0.0 0 20 1 1]\n",
      " [0.0 0.0 0.0 0.0 1.0 1.0 0.0 0.0 0.0 0.0 0.0 0.0 0.0 1.0 0.0 0.0 0.0 0.0\n",
      "  0.0 0.0 0.0 0 19 0 1]\n",
      " [0.0 0.0 0.0 1.0 0.0 1.0 0.0 0.0 0.0 0.0 0.0 0.0 0.0 1.0 0.0 0.0 0.0 0.0\n",
      "  0.0 0.0 0.0 1 21 0 0]\n",
      " [0.0 0.0 0.0 0.0 1.0 0.0 0.0 1.0 0.0 0.0 1.0 0.0 0.0 0.0 0.0 0.0 0.0 0.0\n",
      "  0.0 0.0 0.0 1 23 0 0]\n",
      " [0.0 0.0 0.0 1.0 0.0 0.0 0.0 1.0 0.0 0.0 1.0 0.0 0.0 0.0 0.0 0.0 0.0 0.0\n",
      "  0.0 0.0 0.0 0 20 0 1]\n",
      " [0.0 0.0 0.0 0.0 1.0 1.0 0.0 0.0 0.0 0.0 0.0 0.0 0.0 1.0 0.0 0.0 0.0 0.0\n",
      "  0.0 0.0 0.0 0 18 0 0]\n",
      " [0.0 0.0 0.0 1.0 0.0 1.0 0.0 0.0 0.0 0.0 0.0 0.0 0.0 0.0 1.0 0.0 0.0 0.0\n",
      "  0.0 0.0 0.0 0 23 0 0]\n",
      " [0.0 0.0 0.0 1.0 0.0 0.0 0.0 1.0 0.0 0.0 0.0 0.0 0.0 1.0 0.0 0.0 0.0 0.0\n",
      "  0.0 0.0 0.0 0 18 0 0]\n",
      " [0.0 0.0 0.0 0.0 1.0 1.0 0.0 0.0 0.0 0.0 0.0 0.0 0.0 1.0 0.0 0.0 0.0 0.0\n",
      "  0.0 0.0 0.0 0 19 0 0]\n",
      " [0.0 0.0 0.0 0.0 1.0 1.0 0.0 0.0 0.0 0.0 0.0 0.0 0.0 0.0 1.0 0.0 0.0 0.0\n",
      "  0.0 0.0 0.0 0 18 0 0]\n",
      " [0.0 0.0 0.0 0.0 1.0 1.0 0.0 0.0 0.0 0.0 0.0 0.0 0.0 0.0 1.0 0.0 0.0 0.0\n",
      "  0.0 0.0 0.0 0 24 0 0]\n",
      " [0.0 0.0 0.0 0.0 1.0 1.0 0.0 0.0 0.0 0.0 0.0 0.0 0.0 0.0 1.0 0.0 0.0 0.0\n",
      "  0.0 0.0 0.0 0 24 0 0]\n",
      " [0.0 0.0 0.0 0.0 1.0 1.0 0.0 0.0 0.0 0.0 0.0 1.0 0.0 0.0 0.0 0.0 0.0 0.0\n",
      "  0.0 0.0 0.0 0 23 0 1]\n",
      " [0.0 0.0 0.0 1.0 0.0 0.0 0.0 1.0 0.0 0.0 0.0 0.0 0.0 0.0 1.0 0.0 0.0 0.0\n",
      "  0.0 0.0 0.0 0 18 0 0]\n",
      " [0.0 0.0 0.0 1.0 0.0 0.0 0.0 1.0 0.0 0.0 0.0 0.0 0.0 0.0 0.0 0.0 1.0 0.0\n",
      "  0.0 0.0 0.0 1 19 1 1]\n",
      " [0.0 0.0 0.0 0.0 1.0 1.0 0.0 0.0 0.0 0.0 0.0 0.0 0.0 1.0 0.0 0.0 0.0 0.0\n",
      "  0.0 0.0 0.0 0 18 0 1]\n",
      " [0.0 0.0 0.0 1.0 0.0 0.0 0.0 0.0 1.0 0.0 0.0 0.0 0.0 0.0 1.0 0.0 0.0 0.0\n",
      "  0.0 0.0 0.0 0 24 0 0]\n",
      " [0.0 0.0 0.0 1.0 0.0 1.0 0.0 0.0 0.0 0.0 0.0 0.0 0.0 0.0 0.0 1.0 0.0 0.0\n",
      "  0.0 0.0 0.0 0 24 0 0]\n",
      " [0.0 0.0 0.0 0.0 1.0 0.0 0.0 1.0 0.0 0.0 0.0 0.0 0.0 0.0 0.0 0.0 0.0 1.0\n",
      "  0.0 0.0 0.0 0 18 0 0]\n",
      " [0.0 0.0 0.0 1.0 0.0 0.0 0.0 1.0 0.0 0.0 0.0 0.0 0.0 1.0 0.0 0.0 0.0 0.0\n",
      "  0.0 0.0 0.0 0 19 1 1]\n",
      " [1.0 0.0 0.0 0.0 0.0 1.0 0.0 0.0 0.0 0.0 0.0 0.0 0.0 0.0 0.0 1.0 0.0 0.0\n",
      "  0.0 0.0 0.0 1 18 0 0]\n",
      " [0.0 0.0 0.0 0.0 1.0 0.0 0.0 1.0 0.0 0.0 0.0 0.0 0.0 1.0 0.0 0.0 0.0 0.0\n",
      "  0.0 0.0 0.0 1 24 0 0]\n",
      " [0.0 0.0 0.0 0.0 1.0 1.0 0.0 0.0 0.0 0.0 0.0 0.0 0.0 0.0 1.0 0.0 0.0 0.0\n",
      "  0.0 0.0 0.0 0 24 0 0]\n",
      " [0.0 0.0 0.0 1.0 0.0 1.0 0.0 0.0 0.0 0.0 0.0 0.0 0.0 0.0 1.0 0.0 0.0 0.0\n",
      "  0.0 0.0 0.0 0 23 0 1]\n",
      " [0.0 0.0 0.0 1.0 0.0 0.0 1.0 0.0 0.0 0.0 0.0 0.0 0.0 0.0 0.0 0.0 0.0 0.0\n",
      "  0.0 0.0 1.0 0 18 0 0]\n",
      " [1.0 0.0 0.0 0.0 0.0 0.0 0.0 1.0 0.0 0.0 0.0 0.0 0.0 0.0 1.0 0.0 0.0 0.0\n",
      "  0.0 0.0 0.0 0 19 0 0]\n",
      " [0.0 0.0 0.0 0.0 1.0 0.0 0.0 0.0 1.0 0.0 0.0 0.0 0.0 0.0 1.0 0.0 0.0 0.0\n",
      "  0.0 0.0 0.0 0 18 0 0]\n",
      " [0.0 0.0 0.0 0.0 1.0 0.0 1.0 0.0 0.0 0.0 0.0 0.0 1.0 0.0 0.0 0.0 0.0 0.0\n",
      "  0.0 0.0 0.0 0 24 1 1]\n",
      " [0.0 0.0 0.0 0.0 1.0 0.0 1.0 0.0 0.0 0.0 0.0 0.0 0.0 0.0 0.0 1.0 0.0 0.0\n",
      "  0.0 0.0 0.0 0 24 0 0]\n",
      " [0.0 0.0 0.0 1.0 0.0 1.0 0.0 0.0 0.0 0.0 0.0 0.0 0.0 0.0 1.0 0.0 0.0 0.0\n",
      "  0.0 0.0 0.0 0 19 0 1]\n",
      " [0.0 0.0 0.0 1.0 0.0 0.0 1.0 0.0 0.0 0.0 0.0 0.0 0.0 0.0 0.0 0.0 0.0 0.0\n",
      "  0.0 1.0 0.0 0 19 0 0]\n",
      " [0.0 0.0 0.0 1.0 0.0 1.0 0.0 0.0 0.0 0.0 0.0 0.0 0.0 0.0 0.0 1.0 0.0 0.0\n",
      "  0.0 0.0 0.0 1 23 0 0]\n",
      " [0.0 0.0 0.0 0.0 1.0 1.0 0.0 0.0 0.0 0.0 0.0 0.0 0.0 0.0 0.0 0.0 0.0 0.0\n",
      "  0.0 0.0 1.0 0 18 0 1]\n",
      " [0.0 0.0 0.0 1.0 0.0 0.0 0.0 1.0 0.0 0.0 0.0 0.0 0.0 0.0 0.0 0.0 0.0 0.0\n",
      "  0.0 1.0 0.0 0 19 0 0]\n",
      " [0.0 0.0 0.0 0.0 1.0 1.0 0.0 0.0 0.0 0.0 0.0 0.0 0.0 0.0 0.0 0.0 0.0 0.0\n",
      "  0.0 0.0 1.0 0 18 0 1]\n",
      " [0.0 0.0 0.0 1.0 0.0 1.0 0.0 0.0 0.0 0.0 0.0 0.0 0.0 1.0 0.0 0.0 0.0 0.0\n",
      "  0.0 0.0 0.0 1 24 0 0]\n",
      " [0.0 1.0 0.0 0.0 0.0 0.0 1.0 0.0 0.0 0.0 0.0 0.0 0.0 0.0 1.0 0.0 0.0 0.0\n",
      "  0.0 0.0 0.0 1 24 0 0]\n",
      " [0.0 0.0 0.0 0.0 1.0 0.0 0.0 1.0 0.0 0.0 1.0 0.0 0.0 0.0 0.0 0.0 0.0 0.0\n",
      "  0.0 0.0 0.0 0 23 0 0]\n",
      " [0.0 0.0 0.0 1.0 0.0 0.0 1.0 0.0 0.0 0.0 0.0 0.0 0.0 1.0 0.0 0.0 0.0 0.0\n",
      "  0.0 0.0 0.0 1 18 0 0]\n",
      " [0.0 0.0 0.0 1.0 0.0 0.0 1.0 0.0 0.0 0.0 0.0 0.0 0.0 0.0 1.0 0.0 0.0 0.0\n",
      "  0.0 0.0 0.0 0 19 1 1]\n",
      " [0.0 0.0 0.0 1.0 0.0 1.0 0.0 0.0 0.0 0.0 1.0 0.0 0.0 0.0 0.0 0.0 0.0 0.0\n",
      "  0.0 0.0 0.0 0 18 0 1]\n",
      " [1.0 0.0 0.0 0.0 0.0 0.0 0.0 1.0 0.0 0.0 0.0 0.0 0.0 0.0 0.0 0.0 0.0 0.0\n",
      "  0.0 1.0 0.0 0 24 0 0]\n",
      " [0.0 0.0 0.0 0.0 1.0 1.0 0.0 0.0 0.0 0.0 0.0 0.0 0.0 0.0 0.0 0.0 0.0 0.0\n",
      "  0.0 1.0 0.0 0 18 0 0]\n",
      " [0.0 0.0 0.0 0.0 1.0 1.0 0.0 0.0 0.0 0.0 0.0 0.0 0.0 1.0 0.0 0.0 0.0 0.0\n",
      "  0.0 0.0 0.0 0 21 0 0]\n",
      " [0.0 0.0 0.0 1.0 0.0 0.0 1.0 0.0 0.0 0.0 0.0 0.0 0.0 0.0 1.0 0.0 0.0 0.0\n",
      "  0.0 0.0 0.0 1 18 0 1]\n",
      " [0.0 0.0 0.0 0.0 1.0 0.0 0.0 1.0 0.0 0.0 0.0 0.0 0.0 0.0 0.0 1.0 0.0 0.0\n",
      "  0.0 0.0 0.0 0 19 1 1]\n",
      " [0.0 0.0 0.0 0.0 1.0 0.0 0.0 0.0 1.0 0.0 0.0 0.0 0.0 0.0 0.0 0.0 0.0 0.0\n",
      "  0.0 1.0 0.0 0 23 0 0]\n",
      " [0.0 0.0 0.0 1.0 0.0 0.0 1.0 0.0 0.0 0.0 0.0 0.0 0.0 0.0 0.0 1.0 0.0 0.0\n",
      "  0.0 0.0 0.0 1 20 0 0]]\n"
     ]
    }
   ],
   "source": [
    "print(X)"
   ]
  },
  {
   "cell_type": "code",
   "execution_count": 36,
   "metadata": {},
   "outputs": [
    {
     "name": "stdout",
     "output_type": "stream",
     "text": [
      "Mapping of original strings to numerical labels:\n",
      "No: 0\n",
      "Yes: 1\n"
     ]
    }
   ],
   "source": [
    "# Label encoding for Anxiety\n",
    "\n",
    "from sklearn.preprocessing import LabelEncoder\n",
    "le = LabelEncoder()\n",
    "y = le.fit_transform(y)\n",
    "\n",
    "print(\"Mapping of original strings to numerical labels:\")\n",
    "for original, label in zip(le.classes_, le.transform(le.classes_)):\n",
    "    print(f\"{original}: {label}\")"
   ]
  },
  {
   "cell_type": "code",
   "execution_count": 160,
   "metadata": {},
   "outputs": [
    {
     "name": "stdout",
     "output_type": "stream",
     "text": [
      "Mapping of original strings to numerical labels:\n",
      "No: 0\n",
      "Yes: 1\n"
     ]
    }
   ],
   "source": [
    "# Label encoding for Panic Attack\n",
    "\n",
    "from sklearn.preprocessing import LabelEncoder\n",
    "le = LabelEncoder()\n",
    "y[:, 1] = le.fit_transform(y[:, 1])\n",
    "\n",
    "print(\"Mapping of original strings to numerical labels:\")\n",
    "for original, label in zip(le.classes_, le.transform(le.classes_)):\n",
    "    print(f\"{original}: {label}\")"
   ]
  },
  {
   "cell_type": "markdown",
   "metadata": {},
   "source": [
    "### Splitting the dataset into the Training set and Test set"
   ]
  },
  {
   "cell_type": "code",
   "execution_count": 37,
   "metadata": {},
   "outputs": [],
   "source": [
    "from sklearn.model_selection import train_test_split\n",
    "X_train, X_test, y_train, y_test = train_test_split(X, y, test_size = 0.2, random_state = 0)"
   ]
  },
  {
   "cell_type": "markdown",
   "metadata": {},
   "source": [
    "### Feature Scaling"
   ]
  },
  {
   "cell_type": "code",
   "execution_count": 38,
   "metadata": {},
   "outputs": [],
   "source": [
    "from sklearn.preprocessing import StandardScaler\n",
    "sc = StandardScaler()\n",
    "X_train = sc.fit_transform(X_train)\n",
    "X_test = sc.transform(X_test)"
   ]
  },
  {
   "cell_type": "markdown",
   "metadata": {},
   "source": [
    "# Initializing ANN"
   ]
  },
  {
   "cell_type": "code",
   "execution_count": 39,
   "metadata": {},
   "outputs": [],
   "source": [
    "import tensorflow as tf"
   ]
  },
  {
   "cell_type": "code",
   "execution_count": 40,
   "metadata": {},
   "outputs": [
    {
     "name": "stdout",
     "output_type": "stream",
     "text": [
      "Epoch 1/100\n",
      "3/3 [==============================] - 3s 5ms/step - loss: 0.6973 - accuracy: 0.3750\n",
      "Epoch 2/100\n",
      "3/3 [==============================] - 0s 5ms/step - loss: 0.6860 - accuracy: 0.6375\n",
      "Epoch 3/100\n",
      "3/3 [==============================] - 0s 5ms/step - loss: 0.6783 - accuracy: 0.6625\n",
      "Epoch 4/100\n",
      "3/3 [==============================] - 0s 4ms/step - loss: 0.6708 - accuracy: 0.6625\n",
      "Epoch 5/100\n",
      "3/3 [==============================] - 0s 5ms/step - loss: 0.6635 - accuracy: 0.6625\n",
      "Epoch 6/100\n",
      "3/3 [==============================] - 0s 5ms/step - loss: 0.6567 - accuracy: 0.6625\n",
      "Epoch 7/100\n",
      "3/3 [==============================] - 0s 4ms/step - loss: 0.6476 - accuracy: 0.6625\n",
      "Epoch 8/100\n",
      "3/3 [==============================] - 0s 5ms/step - loss: 0.6396 - accuracy: 0.6625\n",
      "Epoch 9/100\n",
      "3/3 [==============================] - 0s 4ms/step - loss: 0.6317 - accuracy: 0.6625\n",
      "Epoch 10/100\n",
      "3/3 [==============================] - 0s 5ms/step - loss: 0.6231 - accuracy: 0.6625\n",
      "Epoch 11/100\n",
      "3/3 [==============================] - 0s 4ms/step - loss: 0.6136 - accuracy: 0.6625\n",
      "Epoch 12/100\n",
      "3/3 [==============================] - 0s 5ms/step - loss: 0.6038 - accuracy: 0.6625\n",
      "Epoch 13/100\n",
      "3/3 [==============================] - 0s 5ms/step - loss: 0.5942 - accuracy: 0.6625\n",
      "Epoch 14/100\n",
      "3/3 [==============================] - 0s 7ms/step - loss: 0.5863 - accuracy: 0.6625\n",
      "Epoch 15/100\n",
      "3/3 [==============================] - 0s 5ms/step - loss: 0.5768 - accuracy: 0.6625\n",
      "Epoch 16/100\n",
      "3/3 [==============================] - 0s 4ms/step - loss: 0.5673 - accuracy: 0.6625\n",
      "Epoch 17/100\n",
      "3/3 [==============================] - 0s 6ms/step - loss: 0.5557 - accuracy: 0.6625\n",
      "Epoch 18/100\n",
      "3/3 [==============================] - 0s 6ms/step - loss: 0.5453 - accuracy: 0.6625\n",
      "Epoch 19/100\n",
      "3/3 [==============================] - 0s 6ms/step - loss: 0.5366 - accuracy: 0.6625\n",
      "Epoch 20/100\n",
      "3/3 [==============================] - 0s 5ms/step - loss: 0.5231 - accuracy: 0.6625\n",
      "Epoch 21/100\n",
      "3/3 [==============================] - 0s 4ms/step - loss: 0.5094 - accuracy: 0.6625\n",
      "Epoch 22/100\n",
      "3/3 [==============================] - 0s 4ms/step - loss: 0.4967 - accuracy: 0.6625\n",
      "Epoch 23/100\n",
      "3/3 [==============================] - 0s 4ms/step - loss: 0.4808 - accuracy: 0.6750\n",
      "Epoch 24/100\n",
      "3/3 [==============================] - 0s 4ms/step - loss: 0.4672 - accuracy: 0.6875\n",
      "Epoch 25/100\n",
      "3/3 [==============================] - 0s 4ms/step - loss: 0.4515 - accuracy: 0.7000\n",
      "Epoch 26/100\n",
      "3/3 [==============================] - 0s 4ms/step - loss: 0.4356 - accuracy: 0.7625\n",
      "Epoch 27/100\n",
      "3/3 [==============================] - 0s 5ms/step - loss: 0.4199 - accuracy: 0.8000\n",
      "Epoch 28/100\n",
      "3/3 [==============================] - 0s 4ms/step - loss: 0.4046 - accuracy: 0.8375\n",
      "Epoch 29/100\n",
      "3/3 [==============================] - 0s 4ms/step - loss: 0.3863 - accuracy: 0.9000\n",
      "Epoch 30/100\n",
      "3/3 [==============================] - 0s 4ms/step - loss: 0.3741 - accuracy: 0.8625\n",
      "Epoch 31/100\n",
      "3/3 [==============================] - 0s 5ms/step - loss: 0.3572 - accuracy: 0.8875\n",
      "Epoch 32/100\n",
      "3/3 [==============================] - 0s 4ms/step - loss: 0.3397 - accuracy: 0.9000\n",
      "Epoch 33/100\n",
      "3/3 [==============================] - 0s 4ms/step - loss: 0.3264 - accuracy: 0.8875\n",
      "Epoch 34/100\n",
      "3/3 [==============================] - 0s 4ms/step - loss: 0.3087 - accuracy: 0.8875\n",
      "Epoch 35/100\n",
      "3/3 [==============================] - 0s 4ms/step - loss: 0.2975 - accuracy: 0.8875\n",
      "Epoch 36/100\n",
      "3/3 [==============================] - 0s 4ms/step - loss: 0.2850 - accuracy: 0.8875\n",
      "Epoch 37/100\n",
      "3/3 [==============================] - 0s 5ms/step - loss: 0.2670 - accuracy: 0.9000\n",
      "Epoch 38/100\n",
      "3/3 [==============================] - 0s 4ms/step - loss: 0.2515 - accuracy: 0.9000\n",
      "Epoch 39/100\n",
      "3/3 [==============================] - 0s 4ms/step - loss: 0.2437 - accuracy: 0.8875\n",
      "Epoch 40/100\n",
      "3/3 [==============================] - 0s 4ms/step - loss: 0.2274 - accuracy: 0.9000\n",
      "Epoch 41/100\n",
      "3/3 [==============================] - 0s 5ms/step - loss: 0.2196 - accuracy: 0.8875\n",
      "Epoch 42/100\n",
      "3/3 [==============================] - 0s 4ms/step - loss: 0.2050 - accuracy: 0.9000\n",
      "Epoch 43/100\n",
      "3/3 [==============================] - 0s 4ms/step - loss: 0.1940 - accuracy: 0.9125\n",
      "Epoch 44/100\n",
      "3/3 [==============================] - 0s 5ms/step - loss: 0.1852 - accuracy: 0.9250\n",
      "Epoch 45/100\n",
      "3/3 [==============================] - 0s 4ms/step - loss: 0.1759 - accuracy: 0.9250\n",
      "Epoch 46/100\n",
      "3/3 [==============================] - 0s 8ms/step - loss: 0.1665 - accuracy: 0.9250\n",
      "Epoch 47/100\n",
      "3/3 [==============================] - 0s 4ms/step - loss: 0.1627 - accuracy: 0.9250\n",
      "Epoch 48/100\n",
      "3/3 [==============================] - 0s 4ms/step - loss: 0.1538 - accuracy: 0.9375\n",
      "Epoch 49/100\n",
      "3/3 [==============================] - 0s 5ms/step - loss: 0.1512 - accuracy: 0.9250\n",
      "Epoch 50/100\n",
      "3/3 [==============================] - 0s 4ms/step - loss: 0.1441 - accuracy: 0.9500\n",
      "Epoch 51/100\n",
      "3/3 [==============================] - 0s 4ms/step - loss: 0.1421 - accuracy: 0.9500\n",
      "Epoch 52/100\n",
      "3/3 [==============================] - 0s 5ms/step - loss: 0.1405 - accuracy: 0.9375\n",
      "Epoch 53/100\n",
      "3/3 [==============================] - 0s 4ms/step - loss: 0.1284 - accuracy: 0.9500\n",
      "Epoch 54/100\n",
      "3/3 [==============================] - 0s 4ms/step - loss: 0.1266 - accuracy: 0.9500\n",
      "Epoch 55/100\n",
      "3/3 [==============================] - 0s 5ms/step - loss: 0.1257 - accuracy: 0.9500\n",
      "Epoch 56/100\n",
      "3/3 [==============================] - 0s 5ms/step - loss: 0.1194 - accuracy: 0.9500\n",
      "Epoch 57/100\n",
      "3/3 [==============================] - 0s 4ms/step - loss: 0.1228 - accuracy: 0.9500\n",
      "Epoch 58/100\n",
      "3/3 [==============================] - 0s 4ms/step - loss: 0.1202 - accuracy: 0.9500\n",
      "Epoch 59/100\n",
      "3/3 [==============================] - 0s 4ms/step - loss: 0.1169 - accuracy: 0.9500\n",
      "Epoch 60/100\n",
      "3/3 [==============================] - 0s 4ms/step - loss: 0.1200 - accuracy: 0.9500\n",
      "Epoch 61/100\n",
      "3/3 [==============================] - 0s 4ms/step - loss: 0.1120 - accuracy: 0.9500\n",
      "Epoch 62/100\n",
      "3/3 [==============================] - 0s 4ms/step - loss: 0.1128 - accuracy: 0.9500\n",
      "Epoch 63/100\n",
      "3/3 [==============================] - 0s 5ms/step - loss: 0.1150 - accuracy: 0.9375\n",
      "Epoch 64/100\n",
      "3/3 [==============================] - 0s 4ms/step - loss: 0.1106 - accuracy: 0.9500\n",
      "Epoch 65/100\n",
      "3/3 [==============================] - 0s 4ms/step - loss: 0.1032 - accuracy: 0.9250\n",
      "Epoch 66/100\n",
      "3/3 [==============================] - 0s 4ms/step - loss: 0.1128 - accuracy: 0.9500\n",
      "Epoch 67/100\n",
      "3/3 [==============================] - 0s 4ms/step - loss: 0.1037 - accuracy: 0.9500\n",
      "Epoch 68/100\n",
      "3/3 [==============================] - 0s 4ms/step - loss: 0.0978 - accuracy: 0.9500\n",
      "Epoch 69/100\n",
      "3/3 [==============================] - 0s 4ms/step - loss: 0.1020 - accuracy: 0.9500\n",
      "Epoch 70/100\n",
      "3/3 [==============================] - 0s 4ms/step - loss: 0.1003 - accuracy: 0.9500\n",
      "Epoch 71/100\n",
      "3/3 [==============================] - 0s 8ms/step - loss: 0.0884 - accuracy: 0.9750\n",
      "Epoch 72/100\n",
      "3/3 [==============================] - 0s 5ms/step - loss: 0.1011 - accuracy: 0.9375\n",
      "Epoch 73/100\n",
      "3/3 [==============================] - 0s 4ms/step - loss: 0.1050 - accuracy: 0.9375\n",
      "Epoch 74/100\n",
      "3/3 [==============================] - 0s 4ms/step - loss: 0.1049 - accuracy: 0.9500\n",
      "Epoch 75/100\n",
      "3/3 [==============================] - 0s 4ms/step - loss: 0.1039 - accuracy: 0.9500\n",
      "Epoch 76/100\n",
      "3/3 [==============================] - 0s 5ms/step - loss: 0.0912 - accuracy: 0.9625\n",
      "Epoch 77/100\n",
      "3/3 [==============================] - 0s 5ms/step - loss: 0.0966 - accuracy: 0.9375\n",
      "Epoch 78/100\n",
      "3/3 [==============================] - 0s 5ms/step - loss: 0.0993 - accuracy: 0.9250\n",
      "Epoch 79/100\n",
      "3/3 [==============================] - 0s 4ms/step - loss: 0.0928 - accuracy: 0.9500\n",
      "Epoch 80/100\n",
      "3/3 [==============================] - 0s 4ms/step - loss: 0.1048 - accuracy: 0.9500\n",
      "Epoch 81/100\n",
      "3/3 [==============================] - 0s 4ms/step - loss: 0.0903 - accuracy: 0.9625\n",
      "Epoch 82/100\n",
      "3/3 [==============================] - 0s 4ms/step - loss: 0.1022 - accuracy: 0.9375\n",
      "Epoch 83/100\n",
      "3/3 [==============================] - 0s 4ms/step - loss: 0.1023 - accuracy: 0.9375\n",
      "Epoch 84/100\n",
      "3/3 [==============================] - 0s 4ms/step - loss: 0.0882 - accuracy: 0.9500\n",
      "Epoch 85/100\n",
      "3/3 [==============================] - 0s 5ms/step - loss: 0.0904 - accuracy: 0.9500\n",
      "Epoch 86/100\n",
      "3/3 [==============================] - 0s 4ms/step - loss: 0.0970 - accuracy: 0.9500\n",
      "Epoch 87/100\n",
      "3/3 [==============================] - 0s 5ms/step - loss: 0.0855 - accuracy: 0.9625\n",
      "Epoch 88/100\n",
      "3/3 [==============================] - 0s 4ms/step - loss: 0.0841 - accuracy: 0.9625\n",
      "Epoch 89/100\n",
      "3/3 [==============================] - 0s 4ms/step - loss: 0.0925 - accuracy: 0.9500\n",
      "Epoch 90/100\n",
      "3/3 [==============================] - 0s 4ms/step - loss: 0.0816 - accuracy: 0.9750\n",
      "Epoch 91/100\n",
      "3/3 [==============================] - 0s 5ms/step - loss: 0.0787 - accuracy: 0.9625\n",
      "Epoch 92/100\n",
      "3/3 [==============================] - 0s 5ms/step - loss: 0.0838 - accuracy: 0.9500\n",
      "Epoch 93/100\n",
      "3/3 [==============================] - 0s 5ms/step - loss: 0.0808 - accuracy: 0.9500\n",
      "Epoch 94/100\n",
      "3/3 [==============================] - 0s 5ms/step - loss: 0.0778 - accuracy: 0.9625\n",
      "Epoch 95/100\n",
      "3/3 [==============================] - 0s 4ms/step - loss: 0.0824 - accuracy: 0.9625\n",
      "Epoch 96/100\n",
      "3/3 [==============================] - 0s 5ms/step - loss: 0.0809 - accuracy: 0.9625\n",
      "Epoch 97/100\n",
      "3/3 [==============================] - 0s 4ms/step - loss: 0.0735 - accuracy: 0.9625\n",
      "Epoch 98/100\n",
      "3/3 [==============================] - 0s 5ms/step - loss: 0.0742 - accuracy: 0.9625\n",
      "Epoch 99/100\n",
      "3/3 [==============================] - 0s 6ms/step - loss: 0.0738 - accuracy: 0.9625\n",
      "Epoch 100/100\n",
      "3/3 [==============================] - 0s 4ms/step - loss: 0.0750 - accuracy: 0.9625\n"
     ]
    }
   ],
   "source": [
    "ann = tf.keras.models.Sequential()\n",
    "ann.add(tf.keras.layers.Dense(units=25, activation='relu'))\n",
    "ann.add(tf.keras.layers.Dense(units=25, activation='relu'))\n",
    "ann.add(tf.keras.layers.Dense(units=25, activation='relu'))\n",
    "ann.add(tf.keras.layers.Dense(units=25, activation='relu'))\n",
    "ann.add(tf.keras.layers.Dense(units=25, activation='relu'))\n",
    "ann.add(tf.keras.layers.Dense(units=25, activation='relu'))\n",
    "ann.add(tf.keras.layers.Dense(units=25, activation='relu'))\n",
    "ann.add(tf.keras.layers.Dense(units=1, activation='sigmoid'))\n",
    "ann.compile(optimizer = 'adam', loss = 'binary_crossentropy', metrics = ['accuracy'])\n",
    "history = ann.fit(X_train, y_train, batch_size = 32, epochs = 100)"
   ]
  },
  {
   "cell_type": "code",
   "execution_count": 55,
   "metadata": {},
   "outputs": [
    {
     "name": "stdout",
     "output_type": "stream",
     "text": [
      "Epoch 1/150\n",
      "7/7 [==============================] - 1s 31ms/step - loss: 0.0532 - accuracy: 0.9688 - val_loss: 0.5649 - val_accuracy: 0.8750\n",
      "Epoch 2/150\n",
      "7/7 [==============================] - 0s 9ms/step - loss: 0.0737 - accuracy: 0.9375 - val_loss: 0.5602 - val_accuracy: 0.8750\n",
      "Epoch 3/150\n",
      "7/7 [==============================] - 0s 10ms/step - loss: 0.0872 - accuracy: 0.9531 - val_loss: 0.3339 - val_accuracy: 0.9375\n",
      "Epoch 4/150\n",
      "7/7 [==============================] - 0s 9ms/step - loss: 0.0558 - accuracy: 0.9688 - val_loss: 0.5249 - val_accuracy: 0.8125\n",
      "Epoch 5/150\n",
      "7/7 [==============================] - 0s 10ms/step - loss: 0.1219 - accuracy: 0.9375 - val_loss: 0.3527 - val_accuracy: 0.9375\n",
      "Epoch 6/150\n",
      "7/7 [==============================] - 0s 9ms/step - loss: 0.0456 - accuracy: 0.9688 - val_loss: 1.1919 - val_accuracy: 0.8750\n",
      "Epoch 7/150\n",
      "7/7 [==============================] - 0s 9ms/step - loss: 0.0533 - accuracy: 0.9688 - val_loss: 1.3605 - val_accuracy: 0.8750\n",
      "Epoch 8/150\n",
      "7/7 [==============================] - 0s 10ms/step - loss: 0.0538 - accuracy: 0.9688 - val_loss: 1.3016 - val_accuracy: 0.8750\n",
      "Epoch 9/150\n",
      "7/7 [==============================] - 0s 8ms/step - loss: 0.0464 - accuracy: 0.9688 - val_loss: 1.2180 - val_accuracy: 0.8750\n",
      "Epoch 10/150\n",
      "7/7 [==============================] - 0s 9ms/step - loss: 0.0507 - accuracy: 0.9531 - val_loss: 1.1658 - val_accuracy: 0.8750\n",
      "Epoch 11/150\n",
      "7/7 [==============================] - 0s 9ms/step - loss: 0.0566 - accuracy: 0.9688 - val_loss: 1.1363 - val_accuracy: 0.8750\n",
      "Epoch 12/150\n",
      "7/7 [==============================] - 0s 8ms/step - loss: 0.0572 - accuracy: 0.9688 - val_loss: 1.1126 - val_accuracy: 0.8750\n",
      "Epoch 13/150\n",
      "7/7 [==============================] - 0s 8ms/step - loss: 0.0471 - accuracy: 0.9688 - val_loss: 1.1055 - val_accuracy: 0.8750\n",
      "Epoch 14/150\n",
      "7/7 [==============================] - 0s 9ms/step - loss: 0.0455 - accuracy: 0.9688 - val_loss: 1.1077 - val_accuracy: 0.8750\n",
      "Epoch 15/150\n",
      "7/7 [==============================] - 0s 8ms/step - loss: 0.0474 - accuracy: 0.9531 - val_loss: 1.1099 - val_accuracy: 0.8750\n",
      "Epoch 16/150\n",
      "7/7 [==============================] - 0s 10ms/step - loss: 0.0461 - accuracy: 0.9531 - val_loss: 1.1071 - val_accuracy: 0.8750\n",
      "Epoch 17/150\n",
      "7/7 [==============================] - 0s 9ms/step - loss: 0.0448 - accuracy: 0.9688 - val_loss: 1.1030 - val_accuracy: 0.8750\n",
      "Epoch 18/150\n",
      "7/7 [==============================] - 0s 9ms/step - loss: 0.0495 - accuracy: 0.9531 - val_loss: 1.1001 - val_accuracy: 0.8750\n",
      "Epoch 19/150\n",
      "7/7 [==============================] - 0s 9ms/step - loss: 0.0442 - accuracy: 0.9688 - val_loss: 1.1084 - val_accuracy: 0.8750\n",
      "Epoch 20/150\n",
      "7/7 [==============================] - 0s 9ms/step - loss: 0.0526 - accuracy: 0.9688 - val_loss: 1.1137 - val_accuracy: 0.8750\n",
      "Epoch 21/150\n",
      "7/7 [==============================] - 0s 12ms/step - loss: 0.0510 - accuracy: 0.9688 - val_loss: 1.1141 - val_accuracy: 0.8750\n",
      "Epoch 22/150\n",
      "7/7 [==============================] - 0s 10ms/step - loss: 0.0466 - accuracy: 0.9688 - val_loss: 1.1214 - val_accuracy: 0.8750\n",
      "Epoch 23/150\n",
      "7/7 [==============================] - 0s 9ms/step - loss: 0.0492 - accuracy: 0.9688 - val_loss: 1.1249 - val_accuracy: 0.8750\n",
      "Epoch 24/150\n",
      "7/7 [==============================] - 0s 9ms/step - loss: 0.0472 - accuracy: 0.9688 - val_loss: 1.1081 - val_accuracy: 0.8750\n",
      "Epoch 25/150\n",
      "7/7 [==============================] - 0s 10ms/step - loss: 0.0480 - accuracy: 0.9688 - val_loss: 1.1044 - val_accuracy: 0.8750\n",
      "Epoch 26/150\n",
      "7/7 [==============================] - 0s 9ms/step - loss: 0.0451 - accuracy: 0.9531 - val_loss: 1.1117 - val_accuracy: 0.8750\n",
      "Epoch 27/150\n",
      "7/7 [==============================] - 0s 9ms/step - loss: 0.0464 - accuracy: 0.9688 - val_loss: 1.1209 - val_accuracy: 0.8750\n",
      "Epoch 28/150\n",
      "7/7 [==============================] - 0s 9ms/step - loss: 0.0464 - accuracy: 0.9688 - val_loss: 1.1210 - val_accuracy: 0.8750\n",
      "Epoch 29/150\n",
      "7/7 [==============================] - 0s 9ms/step - loss: 0.0448 - accuracy: 0.9688 - val_loss: 1.1214 - val_accuracy: 0.8750\n",
      "Epoch 30/150\n",
      "7/7 [==============================] - 0s 8ms/step - loss: 0.0465 - accuracy: 0.9531 - val_loss: 1.1248 - val_accuracy: 0.8750\n",
      "Epoch 31/150\n",
      "7/7 [==============================] - 0s 8ms/step - loss: 0.0523 - accuracy: 0.9375 - val_loss: 1.1315 - val_accuracy: 0.8750\n",
      "Epoch 32/150\n",
      "7/7 [==============================] - 0s 11ms/step - loss: 0.0528 - accuracy: 0.9531 - val_loss: 1.1226 - val_accuracy: 0.8750\n",
      "Epoch 33/150\n",
      "7/7 [==============================] - 0s 10ms/step - loss: 0.0540 - accuracy: 0.9688 - val_loss: 1.1248 - val_accuracy: 0.8750\n",
      "Epoch 34/150\n",
      "7/7 [==============================] - 0s 9ms/step - loss: 0.0490 - accuracy: 0.9688 - val_loss: 1.1383 - val_accuracy: 0.8750\n",
      "Epoch 35/150\n",
      "7/7 [==============================] - 0s 8ms/step - loss: 0.0457 - accuracy: 0.9688 - val_loss: 1.1391 - val_accuracy: 0.8750\n",
      "Epoch 36/150\n",
      "7/7 [==============================] - 0s 10ms/step - loss: 0.0473 - accuracy: 0.9688 - val_loss: 1.1353 - val_accuracy: 0.8750\n",
      "Epoch 37/150\n",
      "7/7 [==============================] - 0s 9ms/step - loss: 0.0474 - accuracy: 0.9688 - val_loss: 1.1371 - val_accuracy: 0.8750\n",
      "Epoch 38/150\n",
      "7/7 [==============================] - 0s 8ms/step - loss: 0.0479 - accuracy: 0.9531 - val_loss: 1.1264 - val_accuracy: 0.8750\n",
      "Epoch 39/150\n",
      "7/7 [==============================] - 0s 7ms/step - loss: 0.0470 - accuracy: 0.9531 - val_loss: 1.1145 - val_accuracy: 0.8750\n",
      "Epoch 40/150\n",
      "7/7 [==============================] - 0s 8ms/step - loss: 0.0488 - accuracy: 0.9531 - val_loss: 1.1323 - val_accuracy: 0.8750\n",
      "Epoch 41/150\n",
      "7/7 [==============================] - 0s 10ms/step - loss: 0.0473 - accuracy: 0.9688 - val_loss: 1.1332 - val_accuracy: 0.8750\n",
      "Epoch 42/150\n",
      "7/7 [==============================] - 0s 9ms/step - loss: 0.0485 - accuracy: 0.9531 - val_loss: 1.1327 - val_accuracy: 0.8750\n",
      "Epoch 43/150\n",
      "7/7 [==============================] - 0s 9ms/step - loss: 0.0466 - accuracy: 0.9688 - val_loss: 1.1387 - val_accuracy: 0.8750\n",
      "Epoch 44/150\n",
      "7/7 [==============================] - 0s 9ms/step - loss: 0.0453 - accuracy: 0.9688 - val_loss: 1.1417 - val_accuracy: 0.8750\n",
      "Epoch 45/150\n",
      "7/7 [==============================] - 0s 9ms/step - loss: 0.0467 - accuracy: 0.9531 - val_loss: 1.1694 - val_accuracy: 0.8750\n",
      "Epoch 46/150\n",
      "7/7 [==============================] - 0s 9ms/step - loss: 0.0502 - accuracy: 0.9688 - val_loss: 1.1694 - val_accuracy: 0.8750\n",
      "Epoch 47/150\n",
      "7/7 [==============================] - 0s 6ms/step - loss: 0.0488 - accuracy: 0.9688 - val_loss: 1.1640 - val_accuracy: 0.8750\n",
      "Epoch 48/150\n",
      "7/7 [==============================] - 0s 8ms/step - loss: 0.0503 - accuracy: 0.9375 - val_loss: 1.1304 - val_accuracy: 0.8750\n",
      "Epoch 49/150\n",
      "7/7 [==============================] - 0s 9ms/step - loss: 0.0484 - accuracy: 0.9688 - val_loss: 1.1389 - val_accuracy: 0.8750\n",
      "Epoch 50/150\n",
      "7/7 [==============================] - 0s 8ms/step - loss: 0.0455 - accuracy: 0.9688 - val_loss: 1.1474 - val_accuracy: 0.8750\n",
      "Epoch 51/150\n",
      "7/7 [==============================] - 0s 9ms/step - loss: 0.0470 - accuracy: 0.9688 - val_loss: 1.1585 - val_accuracy: 0.8750\n",
      "Epoch 52/150\n",
      "7/7 [==============================] - 0s 9ms/step - loss: 0.0481 - accuracy: 0.9531 - val_loss: 1.1449 - val_accuracy: 0.8750\n",
      "Epoch 53/150\n",
      "7/7 [==============================] - 0s 9ms/step - loss: 0.0464 - accuracy: 0.9688 - val_loss: 1.1502 - val_accuracy: 0.8750\n",
      "Epoch 54/150\n",
      "7/7 [==============================] - 0s 7ms/step - loss: 0.0448 - accuracy: 0.9688 - val_loss: 1.1517 - val_accuracy: 0.8750\n",
      "Epoch 55/150\n",
      "7/7 [==============================] - 0s 8ms/step - loss: 0.0477 - accuracy: 0.9688 - val_loss: 1.1574 - val_accuracy: 0.8750\n",
      "Epoch 56/150\n",
      "7/7 [==============================] - 0s 10ms/step - loss: 0.0466 - accuracy: 0.9531 - val_loss: 1.1396 - val_accuracy: 0.8750\n",
      "Epoch 57/150\n",
      "7/7 [==============================] - 0s 8ms/step - loss: 0.0459 - accuracy: 0.9531 - val_loss: 1.1396 - val_accuracy: 0.8750\n",
      "Epoch 58/150\n",
      "7/7 [==============================] - 0s 8ms/step - loss: 0.0443 - accuracy: 0.9688 - val_loss: 1.1066 - val_accuracy: 0.8750\n",
      "Epoch 59/150\n",
      "7/7 [==============================] - 0s 9ms/step - loss: 0.0471 - accuracy: 0.9688 - val_loss: 1.1142 - val_accuracy: 0.8750\n",
      "Epoch 60/150\n",
      "7/7 [==============================] - 0s 9ms/step - loss: 0.0492 - accuracy: 0.9531 - val_loss: 1.1072 - val_accuracy: 0.8750\n",
      "Epoch 61/150\n",
      "7/7 [==============================] - 0s 8ms/step - loss: 0.0472 - accuracy: 0.9531 - val_loss: 1.1089 - val_accuracy: 0.8750\n",
      "Epoch 62/150\n",
      "7/7 [==============================] - 0s 8ms/step - loss: 0.0464 - accuracy: 0.9531 - val_loss: 1.1193 - val_accuracy: 0.8750\n",
      "Epoch 63/150\n",
      "7/7 [==============================] - 0s 8ms/step - loss: 0.0466 - accuracy: 0.9531 - val_loss: 1.1218 - val_accuracy: 0.8750\n",
      "Epoch 64/150\n",
      "7/7 [==============================] - 0s 9ms/step - loss: 0.0464 - accuracy: 0.9688 - val_loss: 1.1439 - val_accuracy: 0.8750\n",
      "Epoch 65/150\n",
      "7/7 [==============================] - 0s 9ms/step - loss: 0.0462 - accuracy: 0.9531 - val_loss: 1.1477 - val_accuracy: 0.8750\n",
      "Epoch 66/150\n",
      "7/7 [==============================] - 0s 8ms/step - loss: 0.0469 - accuracy: 0.9375 - val_loss: 1.1669 - val_accuracy: 0.8750\n",
      "Epoch 67/150\n",
      "7/7 [==============================] - 0s 9ms/step - loss: 0.0458 - accuracy: 0.9688 - val_loss: 1.1401 - val_accuracy: 0.8750\n",
      "Epoch 68/150\n",
      "7/7 [==============================] - 0s 9ms/step - loss: 0.0463 - accuracy: 0.9688 - val_loss: 1.1287 - val_accuracy: 0.8750\n",
      "Epoch 69/150\n",
      "7/7 [==============================] - 0s 9ms/step - loss: 0.0470 - accuracy: 0.9531 - val_loss: 1.1454 - val_accuracy: 0.8750\n",
      "Epoch 70/150\n",
      "7/7 [==============================] - 0s 9ms/step - loss: 0.0416 - accuracy: 0.9844 - val_loss: 1.1582 - val_accuracy: 0.8750\n",
      "Epoch 71/150\n",
      "7/7 [==============================] - 0s 9ms/step - loss: 0.0475 - accuracy: 0.9688 - val_loss: 1.1741 - val_accuracy: 0.8750\n",
      "Epoch 72/150\n",
      "7/7 [==============================] - 0s 8ms/step - loss: 0.0513 - accuracy: 0.9688 - val_loss: 1.1895 - val_accuracy: 0.8750\n",
      "Epoch 73/150\n",
      "7/7 [==============================] - 0s 8ms/step - loss: 0.0459 - accuracy: 0.9531 - val_loss: 1.2070 - val_accuracy: 0.8750\n",
      "Epoch 74/150\n",
      "7/7 [==============================] - 0s 9ms/step - loss: 0.0415 - accuracy: 0.9688 - val_loss: 1.1887 - val_accuracy: 0.8750\n",
      "Epoch 75/150\n",
      "7/7 [==============================] - 0s 9ms/step - loss: 0.0475 - accuracy: 0.9688 - val_loss: 1.1569 - val_accuracy: 0.8750\n",
      "Epoch 76/150\n",
      "7/7 [==============================] - 0s 9ms/step - loss: 0.0490 - accuracy: 0.9688 - val_loss: 1.1258 - val_accuracy: 0.8750\n",
      "Epoch 77/150\n",
      "7/7 [==============================] - 0s 8ms/step - loss: 0.0531 - accuracy: 0.9531 - val_loss: 1.1027 - val_accuracy: 0.8750\n",
      "Epoch 78/150\n",
      "7/7 [==============================] - 0s 9ms/step - loss: 0.0510 - accuracy: 0.9688 - val_loss: 1.1234 - val_accuracy: 0.8750\n",
      "Epoch 79/150\n",
      "7/7 [==============================] - 0s 8ms/step - loss: 0.0499 - accuracy: 0.9531 - val_loss: 1.1257 - val_accuracy: 0.8750\n",
      "Epoch 80/150\n",
      "7/7 [==============================] - 0s 9ms/step - loss: 0.0469 - accuracy: 0.9688 - val_loss: 1.1508 - val_accuracy: 0.8750\n",
      "Epoch 81/150\n",
      "7/7 [==============================] - 0s 8ms/step - loss: 0.0494 - accuracy: 0.9531 - val_loss: 1.1505 - val_accuracy: 0.8750\n",
      "Epoch 82/150\n",
      "7/7 [==============================] - 0s 9ms/step - loss: 0.0455 - accuracy: 0.9688 - val_loss: 1.1770 - val_accuracy: 0.8750\n",
      "Epoch 83/150\n",
      "7/7 [==============================] - 0s 8ms/step - loss: 0.0463 - accuracy: 0.9688 - val_loss: 1.1639 - val_accuracy: 0.8750\n",
      "Epoch 84/150\n",
      "7/7 [==============================] - 0s 9ms/step - loss: 0.0460 - accuracy: 0.9531 - val_loss: 1.1615 - val_accuracy: 0.8750\n",
      "Epoch 85/150\n",
      "7/7 [==============================] - 0s 9ms/step - loss: 0.0449 - accuracy: 0.9531 - val_loss: 1.1902 - val_accuracy: 0.8750\n",
      "Epoch 86/150\n",
      "7/7 [==============================] - 0s 8ms/step - loss: 0.0466 - accuracy: 0.9688 - val_loss: 1.1997 - val_accuracy: 0.8750\n",
      "Epoch 87/150\n",
      "7/7 [==============================] - 0s 9ms/step - loss: 0.0451 - accuracy: 0.9688 - val_loss: 1.1781 - val_accuracy: 0.8750\n",
      "Epoch 88/150\n",
      "7/7 [==============================] - 0s 8ms/step - loss: 0.0457 - accuracy: 0.9531 - val_loss: 1.1455 - val_accuracy: 0.8750\n",
      "Epoch 89/150\n",
      "7/7 [==============================] - 0s 8ms/step - loss: 0.0463 - accuracy: 0.9688 - val_loss: 1.1625 - val_accuracy: 0.8750\n",
      "Epoch 90/150\n",
      "7/7 [==============================] - 0s 9ms/step - loss: 0.0509 - accuracy: 0.9531 - val_loss: 1.1931 - val_accuracy: 0.8750\n",
      "Epoch 91/150\n",
      "7/7 [==============================] - 0s 8ms/step - loss: 0.0470 - accuracy: 0.9531 - val_loss: 1.1807 - val_accuracy: 0.8750\n",
      "Epoch 92/150\n",
      "7/7 [==============================] - 0s 11ms/step - loss: 0.0467 - accuracy: 0.9688 - val_loss: 1.1629 - val_accuracy: 0.8750\n",
      "Epoch 93/150\n",
      "7/7 [==============================] - 0s 8ms/step - loss: 0.0468 - accuracy: 0.9688 - val_loss: 1.1536 - val_accuracy: 0.8750\n",
      "Epoch 94/150\n",
      "7/7 [==============================] - 0s 9ms/step - loss: 0.0459 - accuracy: 0.9531 - val_loss: 1.1490 - val_accuracy: 0.8750\n",
      "Epoch 95/150\n",
      "7/7 [==============================] - 0s 8ms/step - loss: 0.0465 - accuracy: 0.9688 - val_loss: 1.1586 - val_accuracy: 0.8750\n",
      "Epoch 96/150\n",
      "7/7 [==============================] - 0s 9ms/step - loss: 0.0460 - accuracy: 0.9531 - val_loss: 1.1563 - val_accuracy: 0.8750\n",
      "Epoch 97/150\n",
      "7/7 [==============================] - 0s 9ms/step - loss: 0.0456 - accuracy: 0.9531 - val_loss: 1.1710 - val_accuracy: 0.8750\n",
      "Epoch 98/150\n",
      "7/7 [==============================] - 0s 6ms/step - loss: 0.0474 - accuracy: 0.9688 - val_loss: 1.1716 - val_accuracy: 0.8750\n",
      "Epoch 99/150\n",
      "7/7 [==============================] - 0s 7ms/step - loss: 0.0601 - accuracy: 0.9531 - val_loss: 1.1909 - val_accuracy: 0.8750\n",
      "Epoch 100/150\n",
      "7/7 [==============================] - 0s 9ms/step - loss: 0.0545 - accuracy: 0.9688 - val_loss: 1.1589 - val_accuracy: 0.8750\n",
      "Epoch 101/150\n",
      "7/7 [==============================] - 0s 8ms/step - loss: 0.0504 - accuracy: 0.9688 - val_loss: 1.1214 - val_accuracy: 0.8750\n",
      "Epoch 102/150\n",
      "7/7 [==============================] - 0s 9ms/step - loss: 0.0492 - accuracy: 0.9688 - val_loss: 1.1303 - val_accuracy: 0.8750\n",
      "Epoch 103/150\n",
      "7/7 [==============================] - 0s 8ms/step - loss: 0.0462 - accuracy: 0.9688 - val_loss: 1.1535 - val_accuracy: 0.8750\n",
      "Epoch 104/150\n",
      "7/7 [==============================] - 0s 8ms/step - loss: 0.0467 - accuracy: 0.9531 - val_loss: 1.1761 - val_accuracy: 0.8750\n",
      "Epoch 105/150\n",
      "7/7 [==============================] - 0s 8ms/step - loss: 0.0484 - accuracy: 0.9688 - val_loss: 1.1769 - val_accuracy: 0.8750\n",
      "Epoch 106/150\n",
      "7/7 [==============================] - 0s 9ms/step - loss: 0.0438 - accuracy: 0.9688 - val_loss: 1.1586 - val_accuracy: 0.8750\n",
      "Epoch 107/150\n",
      "7/7 [==============================] - 0s 9ms/step - loss: 0.0440 - accuracy: 0.9688 - val_loss: 1.1652 - val_accuracy: 0.8750\n",
      "Epoch 108/150\n",
      "7/7 [==============================] - 0s 9ms/step - loss: 0.0557 - accuracy: 0.9688 - val_loss: 1.1812 - val_accuracy: 0.8750\n",
      "Epoch 109/150\n",
      "7/7 [==============================] - 0s 9ms/step - loss: 0.0490 - accuracy: 0.9688 - val_loss: 1.2306 - val_accuracy: 0.8750\n",
      "Epoch 110/150\n",
      "7/7 [==============================] - 0s 7ms/step - loss: 0.0459 - accuracy: 0.9688 - val_loss: 1.2422 - val_accuracy: 0.8750\n",
      "Epoch 111/150\n",
      "7/7 [==============================] - 0s 8ms/step - loss: 0.0456 - accuracy: 0.9688 - val_loss: 1.2287 - val_accuracy: 0.8750\n",
      "Epoch 112/150\n",
      "7/7 [==============================] - 0s 6ms/step - loss: 0.0469 - accuracy: 0.9688 - val_loss: 1.2027 - val_accuracy: 0.8750\n",
      "Epoch 113/150\n",
      "7/7 [==============================] - 0s 8ms/step - loss: 0.0479 - accuracy: 0.9688 - val_loss: 1.1923 - val_accuracy: 0.8750\n",
      "Epoch 114/150\n",
      "7/7 [==============================] - 0s 9ms/step - loss: 0.0456 - accuracy: 0.9688 - val_loss: 1.1681 - val_accuracy: 0.8750\n",
      "Epoch 115/150\n",
      "7/7 [==============================] - 0s 9ms/step - loss: 0.0489 - accuracy: 0.9375 - val_loss: 1.1549 - val_accuracy: 0.8750\n",
      "Epoch 116/150\n",
      "7/7 [==============================] - 0s 8ms/step - loss: 0.0458 - accuracy: 0.9531 - val_loss: 1.1646 - val_accuracy: 0.8750\n",
      "Epoch 117/150\n",
      "7/7 [==============================] - 0s 9ms/step - loss: 0.0467 - accuracy: 0.9531 - val_loss: 1.1429 - val_accuracy: 0.8750\n",
      "Epoch 118/150\n",
      "7/7 [==============================] - 0s 8ms/step - loss: 0.0480 - accuracy: 0.9688 - val_loss: 1.1289 - val_accuracy: 0.8750\n",
      "Epoch 119/150\n",
      "7/7 [==============================] - 0s 9ms/step - loss: 0.0463 - accuracy: 0.9688 - val_loss: 1.1423 - val_accuracy: 0.8750\n",
      "Epoch 120/150\n",
      "7/7 [==============================] - 0s 9ms/step - loss: 0.0441 - accuracy: 0.9688 - val_loss: 1.1892 - val_accuracy: 0.8750\n",
      "Epoch 121/150\n",
      "7/7 [==============================] - 0s 8ms/step - loss: 0.0451 - accuracy: 0.9688 - val_loss: 1.1988 - val_accuracy: 0.8750\n",
      "Epoch 122/150\n",
      "7/7 [==============================] - 0s 6ms/step - loss: 0.0461 - accuracy: 0.9688 - val_loss: 1.1995 - val_accuracy: 0.8750\n",
      "Epoch 123/150\n",
      "7/7 [==============================] - 0s 11ms/step - loss: 0.0459 - accuracy: 0.9688 - val_loss: 1.2106 - val_accuracy: 0.8750\n",
      "Epoch 124/150\n",
      "7/7 [==============================] - 0s 9ms/step - loss: 0.0454 - accuracy: 0.9531 - val_loss: 1.2067 - val_accuracy: 0.8750\n",
      "Epoch 125/150\n",
      "7/7 [==============================] - 0s 7ms/step - loss: 0.0452 - accuracy: 0.9531 - val_loss: 1.2171 - val_accuracy: 0.8750\n",
      "Epoch 126/150\n",
      "7/7 [==============================] - 0s 8ms/step - loss: 0.0459 - accuracy: 0.9531 - val_loss: 1.2125 - val_accuracy: 0.8750\n",
      "Epoch 127/150\n",
      "7/7 [==============================] - 0s 9ms/step - loss: 0.0477 - accuracy: 0.9531 - val_loss: 1.2181 - val_accuracy: 0.8750\n",
      "Epoch 128/150\n",
      "7/7 [==============================] - 0s 9ms/step - loss: 0.0467 - accuracy: 0.9531 - val_loss: 1.1984 - val_accuracy: 0.8125\n",
      "Epoch 129/150\n",
      "7/7 [==============================] - 0s 8ms/step - loss: 0.0459 - accuracy: 0.9688 - val_loss: 1.1973 - val_accuracy: 0.8125\n",
      "Epoch 130/150\n",
      "7/7 [==============================] - 0s 11ms/step - loss: 0.0475 - accuracy: 0.9688 - val_loss: 1.2142 - val_accuracy: 0.8125\n",
      "Epoch 131/150\n",
      "7/7 [==============================] - 0s 9ms/step - loss: 0.0492 - accuracy: 0.9688 - val_loss: 1.2005 - val_accuracy: 0.8125\n",
      "Epoch 132/150\n",
      "7/7 [==============================] - 0s 9ms/step - loss: 0.0475 - accuracy: 0.9688 - val_loss: 1.2101 - val_accuracy: 0.8750\n",
      "Epoch 133/150\n",
      "7/7 [==============================] - 0s 9ms/step - loss: 0.0458 - accuracy: 0.9688 - val_loss: 1.2135 - val_accuracy: 0.8750\n",
      "Epoch 134/150\n",
      "7/7 [==============================] - 0s 8ms/step - loss: 0.0450 - accuracy: 0.9688 - val_loss: 1.2203 - val_accuracy: 0.8750\n",
      "Epoch 135/150\n",
      "7/7 [==============================] - 0s 9ms/step - loss: 0.0432 - accuracy: 0.9688 - val_loss: 1.2115 - val_accuracy: 0.8750\n",
      "Epoch 136/150\n",
      "7/7 [==============================] - 0s 9ms/step - loss: 0.0465 - accuracy: 0.9688 - val_loss: 1.2001 - val_accuracy: 0.8750\n",
      "Epoch 137/150\n",
      "7/7 [==============================] - 0s 10ms/step - loss: 0.0492 - accuracy: 0.9688 - val_loss: 1.1962 - val_accuracy: 0.8750\n",
      "Epoch 138/150\n",
      "7/7 [==============================] - 0s 9ms/step - loss: 0.0471 - accuracy: 0.9688 - val_loss: 1.2091 - val_accuracy: 0.8750\n",
      "Epoch 139/150\n",
      "7/7 [==============================] - 0s 9ms/step - loss: 0.0472 - accuracy: 0.9531 - val_loss: 1.2063 - val_accuracy: 0.8750\n",
      "Epoch 140/150\n",
      "7/7 [==============================] - 0s 9ms/step - loss: 0.0469 - accuracy: 0.9688 - val_loss: 1.2136 - val_accuracy: 0.8125\n",
      "Epoch 141/150\n",
      "7/7 [==============================] - 0s 8ms/step - loss: 0.0457 - accuracy: 0.9531 - val_loss: 1.2448 - val_accuracy: 0.8125\n",
      "Epoch 142/150\n",
      "7/7 [==============================] - 0s 8ms/step - loss: 0.0439 - accuracy: 0.9688 - val_loss: 1.2640 - val_accuracy: 0.8125\n",
      "Epoch 143/150\n",
      "7/7 [==============================] - 0s 11ms/step - loss: 0.0453 - accuracy: 0.9688 - val_loss: 1.2566 - val_accuracy: 0.8125\n",
      "Epoch 144/150\n",
      "7/7 [==============================] - 0s 9ms/step - loss: 0.0442 - accuracy: 0.9688 - val_loss: 1.2503 - val_accuracy: 0.8125\n",
      "Epoch 145/150\n",
      "7/7 [==============================] - 0s 8ms/step - loss: 0.0443 - accuracy: 0.9531 - val_loss: 1.2549 - val_accuracy: 0.8125\n",
      "Epoch 146/150\n",
      "7/7 [==============================] - 0s 8ms/step - loss: 0.0447 - accuracy: 0.9688 - val_loss: 1.2571 - val_accuracy: 0.8125\n",
      "Epoch 147/150\n",
      "7/7 [==============================] - 0s 9ms/step - loss: 0.0463 - accuracy: 0.9531 - val_loss: 1.2489 - val_accuracy: 0.8125\n",
      "Epoch 148/150\n",
      "7/7 [==============================] - 0s 8ms/step - loss: 0.0457 - accuracy: 0.9531 - val_loss: 1.2617 - val_accuracy: 0.8125\n",
      "Epoch 149/150\n",
      "7/7 [==============================] - 0s 8ms/step - loss: 0.0459 - accuracy: 0.9531 - val_loss: 1.2653 - val_accuracy: 0.8125\n",
      "Epoch 150/150\n",
      "7/7 [==============================] - 0s 9ms/step - loss: 0.0451 - accuracy: 0.9531 - val_loss: 1.2499 - val_accuracy: 0.8750\n"
     ]
    }
   ],
   "source": [
    "from tensorflow.python.keras.models import Sequential\n",
    "from tensorflow.python.keras.layers import Dense, Dropout\n",
    "from tensorflow.python.keras.callbacks import Callback\n",
    "\n",
    "\n",
    "# Initialising the NN\n",
    "ann_ = Sequential()\n",
    "\n",
    "# layers\n",
    "\n",
    "ann_.add(Dense(units = 25, kernel_initializer = 'uniform', activation = 'relu'))\n",
    "ann_.add(Dense(units = 25, kernel_initializer = 'uniform', activation = 'relu'))\n",
    "ann_.add(Dense(units = 25, kernel_initializer = 'uniform', activation = 'relu'))\n",
    "ann_.add(Dropout(0.25))\n",
    "ann_.add(Dense(units = 25, kernel_initializer = 'uniform', activation = 'relu'))\n",
    "ann_.add(Dropout(0.5))\n",
    "ann_.add(Dense(units = 1, kernel_initializer = 'uniform', activation = 'sigmoid'))\n",
    "\n",
    "# Compiling the ANN\n",
    "ann.compile(optimizer = 'adam', loss = 'binary_crossentropy', metrics = ['accuracy'])\n",
    "\n",
    "# Train the ANN\n",
    "history = ann.fit(X_train, y_train, batch_size = 10, epochs = 150, validation_split=0.2)"
   ]
  },
  {
   "cell_type": "code",
   "execution_count": 56,
   "metadata": {},
   "outputs": [
    {
     "data": {
      "image/png": "[encoded data removed]",
      "text/plain": [
       "<Figure size 640x480 with 1 Axes>"
      ]
     },
     "metadata": {},
     "output_type": "display_data"
    }
   ],
   "source": [
    "history_df = pd.DataFrame(history.history)\n",
    "\n",
    "plt.plot(history_df.loc[:, ['loss']], \"#BDE2E2\", label='Training loss')\n",
    "plt.plot(history_df.loc[:, ['val_loss']],\"#C2C4E2\", label='Validation loss')\n",
    "plt.title('Training and Validation loss')\n",
    "plt.xlabel('Epochs')\n",
    "plt.ylabel('Loss')\n",
    "plt.legend(loc=\"best\")\n",
    "\n",
    "plt.show()"
   ]
  },
  {
   "cell_type": "code",
   "execution_count": 57,
   "metadata": {},
   "outputs": [
    {
     "data": {
      "image/png": "[encoded data removed]",
      "text/plain": [
       "<Figure size 640x480 with 1 Axes>"
      ]
     },
     "metadata": {},
     "output_type": "display_data"
    }
   ],
   "source": [
    "history_df = pd.DataFrame(history.history)\n",
    "\n",
    "plt.plot(history_df.loc[:, ['accuracy']], \"#BDE2E2\", label='Training accuracy')\n",
    "plt.plot(history_df.loc[:, ['val_accuracy']], \"#C2C4E2\", label='Validation accuracy')\n",
    "\n",
    "plt.title('Training and Validation accuracy')\n",
    "plt.xlabel('Epochs')\n",
    "plt.ylabel('Accuracy')\n",
    "plt.legend()\n",
    "plt.show()"
   ]
  },
  {
   "cell_type": "code",
   "execution_count": 65,
   "metadata": {},
   "outputs": [
    {
     "name": "stdout",
     "output_type": "stream",
     "text": [
      "1/1 [==============================] - 0s 18ms/step\n",
      "[[1 0]\n",
      " [1 0]\n",
      " [1 1]\n",
      " [0 0]\n",
      " [0 1]\n",
      " [0 0]\n",
      " [0 0]\n",
      " [0 0]\n",
      " [0 0]\n",
      " [0 1]\n",
      " [1 1]\n",
      " [1 0]\n",
      " [0 0]\n",
      " [1 0]\n",
      " [0 1]\n",
      " [0 0]\n",
      " [0 0]\n",
      " [0 1]\n",
      " [0 1]\n",
      " [1 0]\n",
      " [0 0]]\n"
     ]
    }
   ],
   "source": [
    "import numpy as np\n",
    "\n",
    "y_pred = ann.predict(X_test)\n",
    "y_pred = (y_pred > 0.5)\n",
    "print(np.concatenate((y_pred.reshape(len(y_pred),1), y_test.reshape(len(y_test),1)),1))"
   ]
  },
  {
   "cell_type": "code",
   "execution_count": 66,
   "metadata": {},
   "outputs": [
    {
     "name": "stdout",
     "output_type": "stream",
     "text": [
      "[[9 5]\n",
      " [5 2]]\n"
     ]
    },
    {
     "data": {
      "text/plain": [
       "0.5238095238095238"
      ]
     },
     "execution_count": 66,
     "metadata": {},
     "output_type": "execute_result"
    }
   ],
   "source": [
    "from sklearn.metrics import confusion_matrix, accuracy_score\n",
    "cm = confusion_matrix(y_test, y_pred)\n",
    "print(cm)\n",
    "accuracy_score(y_test, y_pred)"
   ]
  },
  {
   "cell_type": "code",
   "execution_count": 50,
   "metadata": {},
   "outputs": [
    {
     "data": {
      "text/html": [
       "<style>#sk-container-id-1 {color: black;background-color: white;}#sk-container-id-1 pre{padding: 0;}#sk-container-id-1 div.sk-toggleable {background-color: white;}#sk-container-id-1 label.sk-toggleable__label {cursor: pointer;display: block;width: 100%;margin-bottom: 0;padding: 0.3em;box-sizing: border-box;text-align: center;}#sk-container-id-1 label.sk-toggleable__label-arrow:before {content: \"▸\";float: left;margin-right: 0.25em;color: #696969;}#sk-container-id-1 label.sk-toggleable__label-arrow:hover:before {color: black;}#sk-container-id-1 div.sk-estimator:hover label.sk-toggleable__label-arrow:before {color: black;}#sk-container-id-1 div.sk-toggleable__content {max-height: 0;max-width: 0;overflow: hidden;text-align: left;background-color: #f0f8ff;}#sk-container-id-1 div.sk-toggleable__content pre {margin: 0.2em;color: black;border-radius: 0.25em;background-color: #f0f8ff;}#sk-container-id-1 input.sk-toggleable__control:checked~div.sk-toggleable__content {max-height: 200px;max-width: 100%;overflow: auto;}#sk-container-id-1 input.sk-toggleable__control:checked~label.sk-toggleable__label-arrow:before {content: \"▾\";}#sk-container-id-1 div.sk-estimator input.sk-toggleable__control:checked~label.sk-toggleable__label {background-color: #d4ebff;}#sk-container-id-1 div.sk-label input.sk-toggleable__control:checked~label.sk-toggleable__label {background-color: #d4ebff;}#sk-container-id-1 input.sk-hidden--visually {border: 0;clip: rect(1px 1px 1px 1px);clip: rect(1px, 1px, 1px, 1px);height: 1px;margin: -1px;overflow: hidden;padding: 0;position: absolute;width: 1px;}#sk-container-id-1 div.sk-estimator {font-family: monospace;background-color: #f0f8ff;border: 1px dotted black;border-radius: 0.25em;box-sizing: border-box;margin-bottom: 0.5em;}#sk-container-id-1 div.sk-estimator:hover {background-color: #d4ebff;}#sk-container-id-1 div.sk-parallel-item::after {content: \"\";width: 100%;border-bottom: 1px solid gray;flex-grow: 1;}#sk-container-id-1 div.sk-label:hover label.sk-toggleable__label {background-color: #d4ebff;}#sk-container-id-1 div.sk-serial::before {content: \"\";position: absolute;border-left: 1px solid gray;box-sizing: border-box;top: 0;bottom: 0;left: 50%;z-index: 0;}#sk-container-id-1 div.sk-serial {display: flex;flex-direction: column;align-items: center;background-color: white;padding-right: 0.2em;padding-left: 0.2em;position: relative;}#sk-container-id-1 div.sk-item {position: relative;z-index: 1;}#sk-container-id-1 div.sk-parallel {display: flex;align-items: stretch;justify-content: center;background-color: white;position: relative;}#sk-container-id-1 div.sk-item::before, #sk-container-id-1 div.sk-parallel-item::before {content: \"\";position: absolute;border-left: 1px solid gray;box-sizing: border-box;top: 0;bottom: 0;left: 50%;z-index: -1;}#sk-container-id-1 div.sk-parallel-item {display: flex;flex-direction: column;z-index: 1;position: relative;background-color: white;}#sk-container-id-1 div.sk-parallel-item:first-child::after {align-self: flex-end;width: 50%;}#sk-container-id-1 div.sk-parallel-item:last-child::after {align-self: flex-start;width: 50%;}#sk-container-id-1 div.sk-parallel-item:only-child::after {width: 0;}#sk-container-id-1 div.sk-dashed-wrapped {border: 1px dashed gray;margin: 0 0.4em 0.5em 0.4em;box-sizing: border-box;padding-bottom: 0.4em;background-color: white;}#sk-container-id-1 div.sk-label label {font-family: monospace;font-weight: bold;display: inline-block;line-height: 1.2em;}#sk-container-id-1 div.sk-label-container {text-align: center;}#sk-container-id-1 div.sk-container {/* jupyter's `normalize.less` sets `[hidden] { display: none; }` but bootstrap.min.css set `[hidden] { display: none !important; }` so we also need the `!important` here to be able to override the default hidden behavior on the sphinx rendered scikit-learn.org. See: https://github.com/scikit-learn/scikit-learn/issues/21755 */display: inline-block !important;position: relative;}#sk-container-id-1 div.sk-text-repr-fallback {display: none;}</style><div id=\"sk-container-id-1\" class=\"sk-top-container\"><div class=\"sk-text-repr-fallback\"><pre>XGBClassifier(base_score=None, booster=None, callbacks=None,\n",
       "              colsample_bylevel=None, colsample_bynode=None,\n",
       "              colsample_bytree=None, device=None, early_stopping_rounds=None,\n",
       "              enable_categorical=False, eval_metric=None, feature_types=None,\n",
       "              gamma=None, grow_policy=None, importance_type=None,\n",
       "              interaction_constraints=None, learning_rate=None, max_bin=None,\n",
       "              max_cat_threshold=None, max_cat_to_onehot=None,\n",
       "              max_delta_step=None, max_depth=None, max_leaves=None,\n",
       "              min_child_weight=None, missing=nan, monotone_constraints=None,\n",
       "              multi_strategy=None, n_estimators=None, n_jobs=None,\n",
       "              num_parallel_tree=None, random_state=None, ...)</pre><b>In a Jupyter environment, please rerun this cell to show the HTML representation or trust the notebook. <br />On GitHub, the HTML representation is unable to render, please try loading this page with nbviewer.org.</b></div><div class=\"sk-container\" hidden><div class=\"sk-item\"><div class=\"sk-estimator sk-toggleable\"><input class=\"sk-toggleable__control sk-hidden--visually\" id=\"sk-estimator-id-1\" type=\"checkbox\" checked><label for=\"sk-estimator-id-1\" class=\"sk-toggleable__label sk-toggleable__label-arrow\">XGBClassifier</label><div class=\"sk-toggleable__content\"><pre>XGBClassifier(base_score=None, booster=None, callbacks=None,\n",
       "              colsample_bylevel=None, colsample_bynode=None,\n",
       "              colsample_bytree=None, device=None, early_stopping_rounds=None,\n",
       "              enable_categorical=False, eval_metric=None, feature_types=None,\n",
       "              gamma=None, grow_policy=None, importance_type=None,\n",
       "              interaction_constraints=None, learning_rate=None, max_bin=None,\n",
       "              max_cat_threshold=None, max_cat_to_onehot=None,\n",
       "              max_delta_step=None, max_depth=None, max_leaves=None,\n",
       "              min_child_weight=None, missing=nan, monotone_constraints=None,\n",
       "              multi_strategy=None, n_estimators=None, n_jobs=None,\n",
       "              num_parallel_tree=None, random_state=None, ...)</pre></div></div></div></div></div>"
      ],
      "text/plain": [
       "XGBClassifier(base_score=None, booster=None, callbacks=None,\n",
       "              colsample_bylevel=None, colsample_bynode=None,\n",
       "              colsample_bytree=None, device=None, early_stopping_rounds=None,\n",
       "              enable_categorical=False, eval_metric=None, feature_types=None,\n",
       "              gamma=None, grow_policy=None, importance_type=None,\n",
       "              interaction_constraints=None, learning_rate=None, max_bin=None,\n",
       "              max_cat_threshold=None, max_cat_to_onehot=None,\n",
       "              max_delta_step=None, max_depth=None, max_leaves=None,\n",
       "              min_child_weight=None, missing=nan, monotone_constraints=None,\n",
       "              multi_strategy=None, n_estimators=None, n_jobs=None,\n",
       "              num_parallel_tree=None, random_state=None, ...)"
      ]
     },
     "execution_count": 50,
     "metadata": {},
     "output_type": "execute_result"
    }
   ],
   "source": [
    "from xgboost import XGBClassifier\n",
    "classifier = XGBClassifier()\n",
    "classifier.fit(X_train, y_train)"
   ]
  },
  {
   "cell_type": "code",
   "execution_count": 51,
   "metadata": {},
   "outputs": [
    {
     "name": "stdout",
     "output_type": "stream",
     "text": [
      "[[8 6]\n",
      " [4 3]]\n"
     ]
    },
    {
     "data": {
      "text/plain": [
       "0.5238095238095238"
      ]
     },
     "execution_count": 51,
     "metadata": {},
     "output_type": "execute_result"
    }
   ],
   "source": [
    "from sklearn.metrics import confusion_matrix, accuracy_score\n",
    "y_pred = classifier.predict(X_test)\n",
    "cm = confusion_matrix(y_test, y_pred)\n",
    "print(cm)\n",
    "accuracy_score(y_test, y_pred)"
   ]
  },
  {
   "cell_type": "code",
   "execution_count": 52,
   "metadata": {},
   "outputs": [
    {
     "name": "stdout",
     "output_type": "stream",
     "text": [
      "Accuracy: 56.25 %\n",
      "Standard Deviation: 13.98 %\n"
     ]
    }
   ],
   "source": [
    "from sklearn.model_selection import cross_val_score\n",
    "accuracies = cross_val_score(estimator=classifier, X=X_train, y=y_train, cv=10)\n",
    "print(\"Accuracy: {:.2f} %\".format(accuracies.mean()*100))\n",
    "print(\"Standard Deviation: {:.2f} %\".format(accuracies.std()*100))"
   ]
  },
  {
   "cell_type": "code",
   "execution_count": 67,
   "metadata": {},
   "outputs": [],
   "source": [
    "from sklearn.decomposition import PCA\n",
    "pca = PCA(n_components = 2)\n",
    "X_train = pca.fit_transform(X_train)\n",
    "X_test = pca.transform(X_test)"
   ]
  },
  {
   "cell_type": "code",
   "execution_count": 68,
   "metadata": {},
   "outputs": [
    {
     "data": {
      "text/html": [
       "<style>#sk-container-id-2 {color: black;background-color: white;}#sk-container-id-2 pre{padding: 0;}#sk-container-id-2 div.sk-toggleable {background-color: white;}#sk-container-id-2 label.sk-toggleable__label {cursor: pointer;display: block;width: 100%;margin-bottom: 0;padding: 0.3em;box-sizing: border-box;text-align: center;}#sk-container-id-2 label.sk-toggleable__label-arrow:before {content: \"▸\";float: left;margin-right: 0.25em;color: #696969;}#sk-container-id-2 label.sk-toggleable__label-arrow:hover:before {color: black;}#sk-container-id-2 div.sk-estimator:hover label.sk-toggleable__label-arrow:before {color: black;}#sk-container-id-2 div.sk-toggleable__content {max-height: 0;max-width: 0;overflow: hidden;text-align: left;background-color: #f0f8ff;}#sk-container-id-2 div.sk-toggleable__content pre {margin: 0.2em;color: black;border-radius: 0.25em;background-color: #f0f8ff;}#sk-container-id-2 input.sk-toggleable__control:checked~div.sk-toggleable__content {max-height: 200px;max-width: 100%;overflow: auto;}#sk-container-id-2 input.sk-toggleable__control:checked~label.sk-toggleable__label-arrow:before {content: \"▾\";}#sk-container-id-2 div.sk-estimator input.sk-toggleable__control:checked~label.sk-toggleable__label {background-color: #d4ebff;}#sk-container-id-2 div.sk-label input.sk-toggleable__control:checked~label.sk-toggleable__label {background-color: #d4ebff;}#sk-container-id-2 input.sk-hidden--visually {border: 0;clip: rect(1px 1px 1px 1px);clip: rect(1px, 1px, 1px, 1px);height: 1px;margin: -1px;overflow: hidden;padding: 0;position: absolute;width: 1px;}#sk-container-id-2 div.sk-estimator {font-family: monospace;background-color: #f0f8ff;border: 1px dotted black;border-radius: 0.25em;box-sizing: border-box;margin-bottom: 0.5em;}#sk-container-id-2 div.sk-estimator:hover {background-color: #d4ebff;}#sk-container-id-2 div.sk-parallel-item::after {content: \"\";width: 100%;border-bottom: 1px solid gray;flex-grow: 1;}#sk-container-id-2 div.sk-label:hover label.sk-toggleable__label {background-color: #d4ebff;}#sk-container-id-2 div.sk-serial::before {content: \"\";position: absolute;border-left: 1px solid gray;box-sizing: border-box;top: 0;bottom: 0;left: 50%;z-index: 0;}#sk-container-id-2 div.sk-serial {display: flex;flex-direction: column;align-items: center;background-color: white;padding-right: 0.2em;padding-left: 0.2em;position: relative;}#sk-container-id-2 div.sk-item {position: relative;z-index: 1;}#sk-container-id-2 div.sk-parallel {display: flex;align-items: stretch;justify-content: center;background-color: white;position: relative;}#sk-container-id-2 div.sk-item::before, #sk-container-id-2 div.sk-parallel-item::before {content: \"\";position: absolute;border-left: 1px solid gray;box-sizing: border-box;top: 0;bottom: 0;left: 50%;z-index: -1;}#sk-container-id-2 div.sk-parallel-item {display: flex;flex-direction: column;z-index: 1;position: relative;background-color: white;}#sk-container-id-2 div.sk-parallel-item:first-child::after {align-self: flex-end;width: 50%;}#sk-container-id-2 div.sk-parallel-item:last-child::after {align-self: flex-start;width: 50%;}#sk-container-id-2 div.sk-parallel-item:only-child::after {width: 0;}#sk-container-id-2 div.sk-dashed-wrapped {border: 1px dashed gray;margin: 0 0.4em 0.5em 0.4em;box-sizing: border-box;padding-bottom: 0.4em;background-color: white;}#sk-container-id-2 div.sk-label label {font-family: monospace;font-weight: bold;display: inline-block;line-height: 1.2em;}#sk-container-id-2 div.sk-label-container {text-align: center;}#sk-container-id-2 div.sk-container {/* jupyter's `normalize.less` sets `[hidden] { display: none; }` but bootstrap.min.css set `[hidden] { display: none !important; }` so we also need the `!important` here to be able to override the default hidden behavior on the sphinx rendered scikit-learn.org. See: https://github.com/scikit-learn/scikit-learn/issues/21755 */display: inline-block !important;position: relative;}#sk-container-id-2 div.sk-text-repr-fallback {display: none;}</style><div id=\"sk-container-id-2\" class=\"sk-top-container\"><div class=\"sk-text-repr-fallback\"><pre>LogisticRegression(random_state=0)</pre><b>In a Jupyter environment, please rerun this cell to show the HTML representation or trust the notebook. <br />On GitHub, the HTML representation is unable to render, please try loading this page with nbviewer.org.</b></div><div class=\"sk-container\" hidden><div class=\"sk-item\"><div class=\"sk-estimator sk-toggleable\"><input class=\"sk-toggleable__control sk-hidden--visually\" id=\"sk-estimator-id-2\" type=\"checkbox\" checked><label for=\"sk-estimator-id-2\" class=\"sk-toggleable__label sk-toggleable__label-arrow\">LogisticRegression</label><div class=\"sk-toggleable__content\"><pre>LogisticRegression(random_state=0)</pre></div></div></div></div></div>"
      ],
      "text/plain": [
       "LogisticRegression(random_state=0)"
      ]
     },
     "execution_count": 68,
     "metadata": {},
     "output_type": "execute_result"
    }
   ],
   "source": [
    "from sklearn.linear_model import LogisticRegression\n",
    "classifier = LogisticRegression(random_state = 0)\n",
    "classifier.fit(X_train, y_train)"
   ]
  },
  {
   "cell_type": "code",
   "execution_count": 69,
   "metadata": {},
   "outputs": [
    {
     "name": "stdout",
     "output_type": "stream",
     "text": [
      "[[14  0]\n",
      " [ 7  0]]\n"
     ]
    },
    {
     "data": {
      "text/plain": [
       "0.6666666666666666"
      ]
     },
     "execution_count": 69,
     "metadata": {},
     "output_type": "execute_result"
    }
   ],
   "source": [
    "from sklearn.metrics import confusion_matrix, accuracy_score\n",
    "y_pred = classifier.predict(X_test)\n",
    "cm = confusion_matrix(y_test, y_pred)\n",
    "print(cm)\n",
    "accuracy_score(y_test, y_pred)"
   ]
  },
  {
   "cell_type": "code",
   "execution_count": 70,
   "metadata": {},
   "outputs": [
    {
     "name": "stderr",
     "output_type": "stream",
     "text": [
      "C:\\Users\\saif_\\AppData\\Local\\Temp\\ipykernel_5344\\2993250469.py:12: UserWarning: *c* argument looks like a single numeric RGB or RGBA sequence, which should be avoided as value-mapping will have precedence in case its length matches with *x* & *y*.  Please use the *color* keyword-argument or provide a 2D array with a single row if you intend to specify the same RGB or RGBA value for all points.\n",
      "  plt.scatter(X_set[y_set == j, 0], X_set[y_set == j, 1],\n"
     ]
    },
    {
     "data": {
      "image/png": "[encoded data removed]",
      "text/plain": [
       "<Figure size 640x480 with 1 Axes>"
      ]
     },
     "metadata": {},
     "output_type": "display_data"
    }
   ],
   "source": [
    "from matplotlib.colors import ListedColormap\n",
    "import numpy as np\n",
    "\n",
    "X_set, y_set = X_train, y_train\n",
    "X1, X2 = np.meshgrid(np.arange(start = X_set[:, 0].min() - 1, stop = X_set[:, 0].max() + 1, step = 0.01),\n",
    "                     np.arange(start = X_set[:, 1].min() - 1, stop = X_set[:, 1].max() + 1, step = 0.01))\n",
    "plt.contourf(X1, X2, classifier.predict(np.array([X1.ravel(), X2.ravel()]).T).reshape(X1.shape),\n",
    "             alpha = 0.75, cmap = ListedColormap(('red', 'green', 'blue')))\n",
    "plt.xlim(X1.min(), X1.max())\n",
    "plt.ylim(X2.min(), X2.max())\n",
    "for i, j in enumerate(np.unique(y_set)):\n",
    "    plt.scatter(X_set[y_set == j, 0], X_set[y_set == j, 1],\n",
    "                c = ListedColormap(('red', 'green', 'blue'))(i), label = j)\n",
    "plt.title('Logistic Regression (Training set)')\n",
    "plt.xlabel('PC1')\n",
    "plt.ylabel('PC2')\n",
    "plt.legend()\n",
    "plt.show()"
   ]
  },
  {
   "cell_type": "code",
   "execution_count": 71,
   "metadata": {},
   "outputs": [
    {
     "name": "stderr",
     "output_type": "stream",
     "text": [
      "C:\\Users\\saif_\\AppData\\Local\\Temp\\ipykernel_5344\\3946207957.py:10: UserWarning: *c* argument looks like a single numeric RGB or RGBA sequence, which should be avoided as value-mapping will have precedence in case its length matches with *x* & *y*.  Please use the *color* keyword-argument or provide a 2D array with a single row if you intend to specify the same RGB or RGBA value for all points.\n",
      "  plt.scatter(X_set[y_set == j, 0], X_set[y_set == j, 1],\n"
     ]
    },
    {
     "data": {
      "image/png": "[encoded data removed]",
      "text/plain": [
       "<Figure size 640x480 with 1 Axes>"
      ]
     },
     "metadata": {},
     "output_type": "display_data"
    }
   ],
   "source": [
    "from matplotlib.colors import ListedColormap\n",
    "X_set, y_set = X_test, y_test\n",
    "X1, X2 = np.meshgrid(np.arange(start = X_set[:, 0].min() - 1, stop = X_set[:, 0].max() + 1, step = 0.01),\n",
    "                     np.arange(start = X_set[:, 1].min() - 1, stop = X_set[:, 1].max() + 1, step = 0.01))\n",
    "plt.contourf(X1, X2, classifier.predict(np.array([X1.ravel(), X2.ravel()]).T).reshape(X1.shape),\n",
    "             alpha = 0.75, cmap = ListedColormap(('red', 'green', 'blue')))\n",
    "plt.xlim(X1.min(), X1.max())\n",
    "plt.ylim(X2.min(), X2.max())\n",
    "for i, j in enumerate(np.unique(y_set)):\n",
    "    plt.scatter(X_set[y_set == j, 0], X_set[y_set == j, 1],\n",
    "                c = ListedColormap(('red', 'green', 'blue'))(i), label = j)\n",
    "plt.title('Logistic Regression (Test set)')\n",
    "plt.xlabel('PC1')\n",
    "plt.ylabel('PC2')\n",
    "plt.legend()\n",
    "plt.show()"
   ]
  }
 ],
 "metadata": {
  "kernelspec": {
   "display_name": "base",
   "language": "python",
   "name": "python3"
  },
  "language_info": {
   "codemirror_mode": {
    "name": "ipython",
    "version": 3
   },
   "file_extension": ".py",
   "mimetype": "text/x-python",
   "name": "python",
   "nbconvert_exporter": "python",
   "pygments_lexer": "ipython3",
   "version": "3.10.10"
  }
 },
 "nbformat": 4,
 "nbformat_minor": 2
}
